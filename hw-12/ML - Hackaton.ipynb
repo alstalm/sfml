{
 "cells": [
  {
   "cell_type": "code",
   "execution_count": 1,
   "metadata": {},
   "outputs": [],
   "source": [
    "import pandas as pd\n",
    "#import json"
   ]
  },
  {
   "cell_type": "code",
   "execution_count": 2,
   "metadata": {},
   "outputs": [
    {
     "name": "stderr",
     "output_type": "stream",
     "text": [
      "C:\\ProgramData\\Anaconda3\\lib\\site-packages\\numpy\\lib\\arraysetops.py:522: FutureWarning: elementwise comparison failed; returning scalar instead, but in the future will perform elementwise comparison\n",
      "  mask |= (ar1 == a)\n"
     ]
    },
    {
     "data": {
      "text/html": [
       "<div>\n",
       "<style scoped>\n",
       "    .dataframe tbody tr th:only-of-type {\n",
       "        vertical-align: middle;\n",
       "    }\n",
       "\n",
       "    .dataframe tbody tr th {\n",
       "        vertical-align: top;\n",
       "    }\n",
       "\n",
       "    .dataframe thead th {\n",
       "        text-align: right;\n",
       "    }\n",
       "</style>\n",
       "<table border=\"1\" class=\"dataframe\">\n",
       "  <thead>\n",
       "    <tr style=\"text-align: right;\">\n",
       "      <th></th>\n",
       "      <th>id</th>\n",
       "      <th>category</th>\n",
       "      <th>subcategory</th>\n",
       "    </tr>\n",
       "  </thead>\n",
       "  <tbody>\n",
       "    <tr>\n",
       "      <th>0</th>\n",
       "      <td>3edeb34cf93f490ff760af85</td>\n",
       "      <td>9</td>\n",
       "      <td>914</td>\n",
       "    </tr>\n",
       "    <tr>\n",
       "      <th>1</th>\n",
       "      <td>c98febd50dad3cc0ffc86085</td>\n",
       "      <td>22</td>\n",
       "      <td>2202</td>\n",
       "    </tr>\n",
       "    <tr>\n",
       "      <th>2</th>\n",
       "      <td>ade01e13912a46a99134cc75</td>\n",
       "      <td>22</td>\n",
       "      <td>2204</td>\n",
       "    </tr>\n",
       "    <tr>\n",
       "      <th>3</th>\n",
       "      <td>ab3e6941c11304c1519aef75</td>\n",
       "      <td>22</td>\n",
       "      <td>2209</td>\n",
       "    </tr>\n",
       "    <tr>\n",
       "      <th>5</th>\n",
       "      <td>252452a91c944a22c276d995</td>\n",
       "      <td>22</td>\n",
       "      <td>2204</td>\n",
       "    </tr>\n",
       "  </tbody>\n",
       "</table>\n",
       "</div>"
      ],
      "text/plain": [
       "                         id  category  subcategory\n",
       "0  3edeb34cf93f490ff760af85         9          914\n",
       "1  c98febd50dad3cc0ffc86085        22         2202\n",
       "2  ade01e13912a46a99134cc75        22         2204\n",
       "3  ab3e6941c11304c1519aef75        22         2209\n",
       "5  252452a91c944a22c276d995        22         2204"
      ]
     },
     "execution_count": 2,
     "metadata": {},
     "output_type": "execute_result"
    }
   ],
   "source": [
    "# прочитаем train_2_col.csv\n",
    "train_4_col_2 = pd.read_csv('train_4_col_2.csv', sep='\\t', index_col = 0)\n",
    "train_4_col_2_small = train_4_col_2.head(100)\n",
    "train_4_col_2_small.head()"
   ]
  },
  {
   "cell_type": "code",
   "execution_count": 3,
   "metadata": {},
   "outputs": [
    {
     "name": "stderr",
     "output_type": "stream",
     "text": [
      "C:\\ProgramData\\Anaconda3\\lib\\site-packages\\numpy\\lib\\arraysetops.py:522: FutureWarning: elementwise comparison failed; returning scalar instead, but in the future will perform elementwise comparison\n",
      "  mask |= (ar1 == a)\n"
     ]
    },
    {
     "data": {
      "text/html": [
       "<div>\n",
       "<style scoped>\n",
       "    .dataframe tbody tr th:only-of-type {\n",
       "        vertical-align: middle;\n",
       "    }\n",
       "\n",
       "    .dataframe tbody tr th {\n",
       "        vertical-align: top;\n",
       "    }\n",
       "\n",
       "    .dataframe thead th {\n",
       "        text-align: right;\n",
       "    }\n",
       "</style>\n",
       "<table border=\"1\" class=\"dataframe\">\n",
       "  <thead>\n",
       "    <tr style=\"text-align: right;\">\n",
       "      <th></th>\n",
       "      <th>id</th>\n",
       "      <th>fields</th>\n",
       "    </tr>\n",
       "  </thead>\n",
       "  <tbody>\n",
       "    <tr>\n",
       "      <th>0</th>\n",
       "      <td>3edeb34cf93f490ff760af85</td>\n",
       "      <td>[{'field': {'name': 'Женский гардероб', 'id': ...</td>\n",
       "    </tr>\n",
       "    <tr>\n",
       "      <th>1</th>\n",
       "      <td>c98febd50dad3cc0ffc86085</td>\n",
       "      <td>[{'field': {'name': 'Детский гардероб', 'id': ...</td>\n",
       "    </tr>\n",
       "    <tr>\n",
       "      <th>2</th>\n",
       "      <td>ade01e13912a46a99134cc75</td>\n",
       "      <td>[{'field': {'name': 'Детский гардероб', 'id': ...</td>\n",
       "    </tr>\n",
       "    <tr>\n",
       "      <th>3</th>\n",
       "      <td>ab3e6941c11304c1519aef75</td>\n",
       "      <td>[{'field': {'name': 'Детский гардероб', 'id': ...</td>\n",
       "    </tr>\n",
       "    <tr>\n",
       "      <th>5</th>\n",
       "      <td>252452a91c944a22c276d995</td>\n",
       "      <td>[{'field': {'name': 'Детский гардероб', 'id': ...</td>\n",
       "    </tr>\n",
       "  </tbody>\n",
       "</table>\n",
       "</div>"
      ],
      "text/plain": [
       "                         id                                             fields\n",
       "0  3edeb34cf93f490ff760af85  [{'field': {'name': 'Женский гардероб', 'id': ...\n",
       "1  c98febd50dad3cc0ffc86085  [{'field': {'name': 'Детский гардероб', 'id': ...\n",
       "2  ade01e13912a46a99134cc75  [{'field': {'name': 'Детский гардероб', 'id': ...\n",
       "3  ab3e6941c11304c1519aef75  [{'field': {'name': 'Детский гардероб', 'id': ...\n",
       "5  252452a91c944a22c276d995  [{'field': {'name': 'Детский гардероб', 'id': ..."
      ]
     },
     "execution_count": 3,
     "metadata": {},
     "output_type": "execute_result"
    }
   ],
   "source": [
    "# прочитаем train_4_col_3 .csv\n",
    "train_4_col_3 = pd.read_csv('train_4_col_3.csv', sep='\\t', index_col = 0)\n",
    "train_4_col_3_small = train_4_col_3.head(100)\n",
    "train_4_col_3_small.head()"
   ]
  },
  {
   "cell_type": "code",
   "execution_count": 4,
   "metadata": {},
   "outputs": [
    {
     "name": "stderr",
     "output_type": "stream",
     "text": [
      "C:\\ProgramData\\Anaconda3\\lib\\site-packages\\numpy\\lib\\arraysetops.py:522: FutureWarning: elementwise comparison failed; returning scalar instead, but in the future will perform elementwise comparison\n",
      "  mask |= (ar1 == a)\n"
     ]
    },
    {
     "data": {
      "text/html": [
       "<div>\n",
       "<style scoped>\n",
       "    .dataframe tbody tr th:only-of-type {\n",
       "        vertical-align: middle;\n",
       "    }\n",
       "\n",
       "    .dataframe tbody tr th {\n",
       "        vertical-align: top;\n",
       "    }\n",
       "\n",
       "    .dataframe thead th {\n",
       "        text-align: right;\n",
       "    }\n",
       "</style>\n",
       "<table border=\"1\" class=\"dataframe\">\n",
       "  <thead>\n",
       "    <tr style=\"text-align: right;\">\n",
       "      <th></th>\n",
       "      <th>id</th>\n",
       "      <th>name</th>\n",
       "      <th>description</th>\n",
       "      <th>price</th>\n",
       "    </tr>\n",
       "  </thead>\n",
       "  <tbody>\n",
       "    <tr>\n",
       "      <th>0</th>\n",
       "      <td>3edeb34cf93f490ff760af85</td>\n",
       "      <td>Сумка DG</td>\n",
       "      <td>NaN</td>\n",
       "      <td>199900</td>\n",
       "    </tr>\n",
       "    <tr>\n",
       "      <th>1</th>\n",
       "      <td>c98febd50dad3cc0ffc86085</td>\n",
       "      <td>Комплект</td>\n",
       "      <td>8-12 лет</td>\n",
       "      <td>35000</td>\n",
       "    </tr>\n",
       "    <tr>\n",
       "      <th>2</th>\n",
       "      <td>ade01e13912a46a99134cc75</td>\n",
       "      <td>Пальтишко демисезонное</td>\n",
       "      <td>На девочку 1,5 г,состояние хорошее</td>\n",
       "      <td>30000</td>\n",
       "    </tr>\n",
       "    <tr>\n",
       "      <th>3</th>\n",
       "      <td>ab3e6941c11304c1519aef75</td>\n",
       "      <td>Attipas</td>\n",
       "      <td>Размер-135mm, euro-22.5.Прочная, мягкая, не ск...</td>\n",
       "      <td>80000</td>\n",
       "    </tr>\n",
       "    <tr>\n",
       "      <th>5</th>\n",
       "      <td>252452a91c944a22c276d995</td>\n",
       "      <td>Жилет теплый</td>\n",
       "      <td>NaN</td>\n",
       "      <td>50000</td>\n",
       "    </tr>\n",
       "  </tbody>\n",
       "</table>\n",
       "</div>"
      ],
      "text/plain": [
       "                         id                    name  \\\n",
       "0  3edeb34cf93f490ff760af85                Сумка DG   \n",
       "1  c98febd50dad3cc0ffc86085                Комплект   \n",
       "2  ade01e13912a46a99134cc75  Пальтишко демисезонное   \n",
       "3  ab3e6941c11304c1519aef75                 Attipas   \n",
       "5  252452a91c944a22c276d995            Жилет теплый   \n",
       "\n",
       "                                         description   price  \n",
       "0                                                NaN  199900  \n",
       "1                                           8-12 лет   35000  \n",
       "2                На девочку 1,5 г,состояние хорошее    30000  \n",
       "3  Размер-135mm, euro-22.5.Прочная, мягкая, не ск...   80000  \n",
       "5                                                NaN   50000  "
      ]
     },
     "execution_count": 4,
     "metadata": {},
     "output_type": "execute_result"
    }
   ],
   "source": [
    "# прочитаем train_4_col.csv\n",
    "train_4_col = pd.read_csv('train_4_col.csv', sep='\\t', index_col = 0)\n",
    "train_4_col_small = train_4_col.head(100)\n",
    "train_4_col_small.head()"
   ]
  },
  {
   "cell_type": "markdown",
   "metadata": {},
   "source": [
    "#### Объединим маленькие датафреймы"
   ]
  },
  {
   "cell_type": "markdown",
   "metadata": {},
   "source": [
    "<!DOCTYPE html>\n",
    "<html>\n",
    "<head>\n",
    "<style>\n",
    "body {\n",
    "    background-color: orange;\n",
    "}    \n",
    "</style> \n",
    "</head>\n",
    "</html>\n",
    "\n",
    "\n",
    "<font color=\"red\" size=\"3\">Внимание!!!.</font><br> \n",
    "\n",
    "чтобы объединились полные датафреймы - надо убрать окончание \"_small\" в ячейке ниже. Далее будет использовано название train. После объединения полных датафреймов это название менять не надо."
   ]
  },
  {
   "cell_type": "code",
   "execution_count": 5,
   "metadata": {},
   "outputs": [
    {
     "data": {
      "text/html": [
       "<div>\n",
       "<style scoped>\n",
       "    .dataframe tbody tr th:only-of-type {\n",
       "        vertical-align: middle;\n",
       "    }\n",
       "\n",
       "    .dataframe tbody tr th {\n",
       "        vertical-align: top;\n",
       "    }\n",
       "\n",
       "    .dataframe thead th {\n",
       "        text-align: right;\n",
       "    }\n",
       "</style>\n",
       "<table border=\"1\" class=\"dataframe\">\n",
       "  <thead>\n",
       "    <tr style=\"text-align: right;\">\n",
       "      <th></th>\n",
       "      <th>0</th>\n",
       "      <th>1</th>\n",
       "    </tr>\n",
       "  </thead>\n",
       "  <tbody>\n",
       "    <tr>\n",
       "      <th>id</th>\n",
       "      <td>3edeb34cf93f490ff760af85</td>\n",
       "      <td>c98febd50dad3cc0ffc86085</td>\n",
       "    </tr>\n",
       "    <tr>\n",
       "      <th>fields</th>\n",
       "      <td>[{'field': {'name': 'Женский гардероб', 'id': ...</td>\n",
       "      <td>[{'field': {'name': 'Детский гардероб', 'id': ...</td>\n",
       "    </tr>\n",
       "    <tr>\n",
       "      <th>category</th>\n",
       "      <td>9</td>\n",
       "      <td>22</td>\n",
       "    </tr>\n",
       "    <tr>\n",
       "      <th>subcategory</th>\n",
       "      <td>914</td>\n",
       "      <td>2202</td>\n",
       "    </tr>\n",
       "    <tr>\n",
       "      <th>name</th>\n",
       "      <td>Сумка DG</td>\n",
       "      <td>Комплект</td>\n",
       "    </tr>\n",
       "    <tr>\n",
       "      <th>description</th>\n",
       "      <td>NaN</td>\n",
       "      <td>8-12 лет</td>\n",
       "    </tr>\n",
       "    <tr>\n",
       "      <th>price</th>\n",
       "      <td>199900</td>\n",
       "      <td>35000</td>\n",
       "    </tr>\n",
       "  </tbody>\n",
       "</table>\n",
       "</div>"
      ],
      "text/plain": [
       "                                                             0  \\\n",
       "id                                    3edeb34cf93f490ff760af85   \n",
       "fields       [{'field': {'name': 'Женский гардероб', 'id': ...   \n",
       "category                                                     9   \n",
       "subcategory                                                914   \n",
       "name                                                  Сумка DG   \n",
       "description                                                NaN   \n",
       "price                                                   199900   \n",
       "\n",
       "                                                             1  \n",
       "id                                    c98febd50dad3cc0ffc86085  \n",
       "fields       [{'field': {'name': 'Детский гардероб', 'id': ...  \n",
       "category                                                    22  \n",
       "subcategory                                               2202  \n",
       "name                                                  Комплект  \n",
       "description                                           8-12 лет  \n",
       "price                                                    35000  "
      ]
     },
     "execution_count": 5,
     "metadata": {},
     "output_type": "execute_result"
    }
   ],
   "source": [
    "train = train_4_col_3_small.merge(train_4_col_2_small, on='id', how='left').merge(train_4_col_small, on='id', how='left')\n",
    "train.head(2).T"
   ]
  },
  {
   "cell_type": "code",
   "execution_count": 6,
   "metadata": {},
   "outputs": [],
   "source": [
    "# Функция, которая извлекает значений ключей из поля \"fields\"\n",
    "def valextractor(field, key1=0, key2='name'):\n",
    "    value = eval(field[1:-1])[key1]['field'][key2] \n",
    "    return value"
   ]
  },
  {
   "cell_type": "code",
   "execution_count": 7,
   "metadata": {},
   "outputs": [
    {
     "data": {
      "text/plain": [
       "'Женский гардероб'"
      ]
     },
     "execution_count": 7,
     "metadata": {},
     "output_type": "execute_result"
    }
   ],
   "source": [
    "# проверяем функцию. работает.\n",
    "field = train.iloc[0,1]\n",
    "valextractor(field, key1=0,key2='name')"
   ]
  },
  {
   "cell_type": "code",
   "execution_count": 8,
   "metadata": {},
   "outputs": [],
   "source": [
    "# функция, которая доавляет новые категории\n",
    "def getcat(df):\n",
    "    df_ = df.copy()\n",
    "    df_['fd_name1'] = df_['fields'].map(lambda x: (valextractor(x, key1=0,key2='name')))\n",
    "    df_['fd_name2'] = df_['fields'].map(lambda x: (valextractor(x, key1=1,key2='name')))\n",
    "    df_['fd_id1'] = df_['fields'].map(lambda x: (valextractor(x, key1=0,key2='id')))\n",
    "    df_['fd_id2'] = df_['fields'].map(lambda x: (valextractor(x, key1=1,key2='id')))\n",
    "    df_['fd_slug1'] = df_['fields'].map(lambda x: (valextractor(x, key1=0,key2='slug')))\n",
    "    df_['fd_slug2'] = df_['fields'].map(lambda x: (valextractor(x, key1=1,key2='slug')))\n",
    "    df_['fd_slug_id1'] = df_['fields'].map(lambda x: (valextractor(x, key1=0,key2='slug_id')))\n",
    "    df_['fd_slug_id2'] = df_['fields'].map(lambda x: (valextractor(x, key1=1,key2='slug_id')))\n",
    "    return df_"
   ]
  },
  {
   "cell_type": "code",
   "execution_count": 9,
   "metadata": {},
   "outputs": [],
   "source": [
    "# применим функцию\n",
    "train = train.pipe(getcat)"
   ]
  },
  {
   "cell_type": "code",
   "execution_count": 10,
   "metadata": {
    "scrolled": false
   },
   "outputs": [
    {
     "data": {
      "text/html": [
       "<div>\n",
       "<style scoped>\n",
       "    .dataframe tbody tr th:only-of-type {\n",
       "        vertical-align: middle;\n",
       "    }\n",
       "\n",
       "    .dataframe tbody tr th {\n",
       "        vertical-align: top;\n",
       "    }\n",
       "\n",
       "    .dataframe thead th {\n",
       "        text-align: right;\n",
       "    }\n",
       "</style>\n",
       "<table border=\"1\" class=\"dataframe\">\n",
       "  <thead>\n",
       "    <tr style=\"text-align: right;\">\n",
       "      <th></th>\n",
       "      <th>0</th>\n",
       "      <th>1</th>\n",
       "      <th>2</th>\n",
       "      <th>3</th>\n",
       "      <th>4</th>\n",
       "      <th>5</th>\n",
       "      <th>6</th>\n",
       "      <th>7</th>\n",
       "      <th>8</th>\n",
       "      <th>9</th>\n",
       "      <th>...</th>\n",
       "      <th>40</th>\n",
       "      <th>41</th>\n",
       "      <th>42</th>\n",
       "      <th>43</th>\n",
       "      <th>44</th>\n",
       "      <th>45</th>\n",
       "      <th>46</th>\n",
       "      <th>47</th>\n",
       "      <th>48</th>\n",
       "      <th>49</th>\n",
       "    </tr>\n",
       "  </thead>\n",
       "  <tbody>\n",
       "    <tr>\n",
       "      <th>id</th>\n",
       "      <td>3edeb34cf93f490ff760af85</td>\n",
       "      <td>c98febd50dad3cc0ffc86085</td>\n",
       "      <td>ade01e13912a46a99134cc75</td>\n",
       "      <td>ab3e6941c11304c1519aef75</td>\n",
       "      <td>252452a91c944a22c276d995</td>\n",
       "      <td>364f7659a4e9ba6c53e35495</td>\n",
       "      <td>c3d87065e4dbc080f400bb85</td>\n",
       "      <td>22e6a518d53f490f6ce7fd85</td>\n",
       "      <td>c6bd550b7f1304c1f7fda485</td>\n",
       "      <td>117b885a3cf9554042ae2285</td>\n",
       "      <td>...</td>\n",
       "      <td>3438949c05e3b470c984ea95</td>\n",
       "      <td>266fc4d1395ccdeb3428fe85</td>\n",
       "      <td>62c792b5c1141fee419acc95</td>\n",
       "      <td>3aec3024bc0e788cdb046795</td>\n",
       "      <td>62df3b3861f95540e9834385</td>\n",
       "      <td>3a80d58fd82d9e58ce4aed85</td>\n",
       "      <td>30b215c9295ccdeb1abe2195</td>\n",
       "      <td>060658c789d3f35d14320d75</td>\n",
       "      <td>4a23d59792944a225801d395</td>\n",
       "      <td>3105314ef46c1e2633b58195</td>\n",
       "    </tr>\n",
       "    <tr>\n",
       "      <th>category</th>\n",
       "      <td>9</td>\n",
       "      <td>22</td>\n",
       "      <td>22</td>\n",
       "      <td>22</td>\n",
       "      <td>22</td>\n",
       "      <td>9</td>\n",
       "      <td>15</td>\n",
       "      <td>4</td>\n",
       "      <td>3</td>\n",
       "      <td>2</td>\n",
       "      <td>...</td>\n",
       "      <td>3</td>\n",
       "      <td>3</td>\n",
       "      <td>22</td>\n",
       "      <td>14</td>\n",
       "      <td>16</td>\n",
       "      <td>22</td>\n",
       "      <td>3</td>\n",
       "      <td>9</td>\n",
       "      <td>22</td>\n",
       "      <td>100</td>\n",
       "    </tr>\n",
       "    <tr>\n",
       "      <th>subcategory</th>\n",
       "      <td>914</td>\n",
       "      <td>2202</td>\n",
       "      <td>2204</td>\n",
       "      <td>2209</td>\n",
       "      <td>2204</td>\n",
       "      <td>902</td>\n",
       "      <td>1508</td>\n",
       "      <td>403</td>\n",
       "      <td>301</td>\n",
       "      <td>208</td>\n",
       "      <td>...</td>\n",
       "      <td>317</td>\n",
       "      <td>314</td>\n",
       "      <td>2209</td>\n",
       "      <td>1403</td>\n",
       "      <td>1608</td>\n",
       "      <td>2209</td>\n",
       "      <td>314</td>\n",
       "      <td>902</td>\n",
       "      <td>2211</td>\n",
       "      <td>10001</td>\n",
       "    </tr>\n",
       "    <tr>\n",
       "      <th>name</th>\n",
       "      <td>Сумка DG</td>\n",
       "      <td>Комплект</td>\n",
       "      <td>Пальтишко демисезонное</td>\n",
       "      <td>Attipas</td>\n",
       "      <td>Жилет теплый</td>\n",
       "      <td>Босоножки, сабо</td>\n",
       "      <td>Жесткий диск для ноутбука Seagate 320gb</td>\n",
       "      <td>Ковер 324 на 240</td>\n",
       "      <td>Кенгуру</td>\n",
       "      <td>Машинка автомат</td>\n",
       "      <td>...</td>\n",
       "      <td>Электронная качель</td>\n",
       "      <td>Покебол со случайной минифигуркой покемона внутри</td>\n",
       "      <td>Ботинки зимние</td>\n",
       "      <td>Духи Lancome la vie est belle</td>\n",
       "      <td>Набор для маникюра</td>\n",
       "      <td>Босоножки для танцев</td>\n",
       "      <td>Коврик музыкальный</td>\n",
       "      <td>Туфли р .36</td>\n",
       "      <td>Нарядное платье</td>\n",
       "      <td>Детское питание</td>\n",
       "    </tr>\n",
       "    <tr>\n",
       "      <th>description</th>\n",
       "      <td>NaN</td>\n",
       "      <td>8-12 лет</td>\n",
       "      <td>На девочку 1,5 г,состояние хорошее</td>\n",
       "      <td>Размер-135mm, euro-22.5.Прочная, мягкая, не ск...</td>\n",
       "      <td>NaN</td>\n",
       "      <td>Новые, текстильные босоножки, 37 размер в разм...</td>\n",
       "      <td>Seagate Модель St320lt020  HDD для ноутбуков  ...</td>\n",
       "      <td>Состояние отличное,без дефектов</td>\n",
       "      <td>Продам кенгуру 350 , ванночка с горкой 250</td>\n",
       "      <td>NaN</td>\n",
       "      <td>...</td>\n",
       "      <td>Электронная качель Baby Care Riva, удобная, ко...</td>\n",
       "      <td>Размер покебола: 7 см.</td>\n",
       "      <td>Зимние, размер 20-21,( так написано на подошве...</td>\n",
       "      <td>Edp! Оригинал! Объём 30 мл, осталось половина....</td>\n",
       "      <td>На моем профиле моного интересных вещей</td>\n",
       "      <td>Для танцев стелька 22см</td>\n",
       "      <td>Для возраста 3+, несколько режимов работы</td>\n",
       "      <td>Туфли, кожа натуральная. Подходят для школы. О...</td>\n",
       "      <td>Красивое нарядное платье, размер 104, внутри т...</td>\n",
       "      <td>Продам 2 пачки новых каш с грушей и бананом. Ц...</td>\n",
       "    </tr>\n",
       "    <tr>\n",
       "      <th>price</th>\n",
       "      <td>199900</td>\n",
       "      <td>35000</td>\n",
       "      <td>30000</td>\n",
       "      <td>80000</td>\n",
       "      <td>50000</td>\n",
       "      <td>30000</td>\n",
       "      <td>150000</td>\n",
       "      <td>200000</td>\n",
       "      <td>35000</td>\n",
       "      <td>350000</td>\n",
       "      <td>...</td>\n",
       "      <td>260000</td>\n",
       "      <td>30000</td>\n",
       "      <td>80000</td>\n",
       "      <td>90000</td>\n",
       "      <td>25000</td>\n",
       "      <td>50000</td>\n",
       "      <td>30000</td>\n",
       "      <td>100000</td>\n",
       "      <td>40000</td>\n",
       "      <td>10000</td>\n",
       "    </tr>\n",
       "    <tr>\n",
       "      <th>fd_name1</th>\n",
       "      <td>Женский гардероб</td>\n",
       "      <td>Детский гардероб</td>\n",
       "      <td>Детский гардероб</td>\n",
       "      <td>Детский гардероб</td>\n",
       "      <td>Детский гардероб</td>\n",
       "      <td>Женский гардероб</td>\n",
       "      <td>Компьютерная техника</td>\n",
       "      <td>Для дома и дачи</td>\n",
       "      <td>Детские товары</td>\n",
       "      <td>Бытовая техника</td>\n",
       "      <td>...</td>\n",
       "      <td>Детские товары</td>\n",
       "      <td>Детские товары</td>\n",
       "      <td>Детский гардероб</td>\n",
       "      <td>Красота и здоровье</td>\n",
       "      <td>Услуги</td>\n",
       "      <td>Детский гардероб</td>\n",
       "      <td>Детские товары</td>\n",
       "      <td>Женский гардероб</td>\n",
       "      <td>Детский гардероб</td>\n",
       "      <td>Прочее</td>\n",
       "    </tr>\n",
       "    <tr>\n",
       "      <th>fd_name2</th>\n",
       "      <td>Аксессуары</td>\n",
       "      <td>Аксессуары</td>\n",
       "      <td>Верхняя одежда</td>\n",
       "      <td>Обувь</td>\n",
       "      <td>Верхняя одежда</td>\n",
       "      <td>Обувь</td>\n",
       "      <td>Комплектующие и запчасти</td>\n",
       "      <td>Текстиль и ковры</td>\n",
       "      <td>Другое</td>\n",
       "      <td>Стиральные машины</td>\n",
       "      <td>...</td>\n",
       "      <td>Обустройство детской</td>\n",
       "      <td>Игрушки и игры</td>\n",
       "      <td>Обувь</td>\n",
       "      <td>Парфюмерия</td>\n",
       "      <td>Красота и здоровье</td>\n",
       "      <td>Обувь</td>\n",
       "      <td>Игрушки и игры</td>\n",
       "      <td>Обувь</td>\n",
       "      <td>Платья и юбки</td>\n",
       "      <td>Другое</td>\n",
       "    </tr>\n",
       "    <tr>\n",
       "      <th>fd_slug1</th>\n",
       "      <td>zhenskaya-odezhda</td>\n",
       "      <td>detskaya-odezhda</td>\n",
       "      <td>detskaya-odezhda</td>\n",
       "      <td>detskaya-odezhda</td>\n",
       "      <td>detskaya-odezhda</td>\n",
       "      <td>zhenskaya-odezhda</td>\n",
       "      <td>kompyutery</td>\n",
       "      <td>dom-dacha</td>\n",
       "      <td>detskie</td>\n",
       "      <td>bytovaya-tekhnika</td>\n",
       "      <td>...</td>\n",
       "      <td>detskie</td>\n",
       "      <td>detskie</td>\n",
       "      <td>detskaya-odezhda</td>\n",
       "      <td>krasota-i-zdorove</td>\n",
       "      <td>uslugi</td>\n",
       "      <td>detskaya-odezhda</td>\n",
       "      <td>detskie</td>\n",
       "      <td>zhenskaya-odezhda</td>\n",
       "      <td>detskaya-odezhda</td>\n",
       "      <td>prochee</td>\n",
       "    </tr>\n",
       "    <tr>\n",
       "      <th>fd_slug2</th>\n",
       "      <td>aksessuary</td>\n",
       "      <td>aksessuary</td>\n",
       "      <td>verhnyaya-odezhda</td>\n",
       "      <td>obuv</td>\n",
       "      <td>verhnyaya-odezhda</td>\n",
       "      <td>obuv</td>\n",
       "      <td>komplektuyushchie</td>\n",
       "      <td>tekstil-kovry</td>\n",
       "      <td>drugoe</td>\n",
       "      <td>stiralnye-mashiny</td>\n",
       "      <td>...</td>\n",
       "      <td>mebel</td>\n",
       "      <td>kukly-igrushki</td>\n",
       "      <td>obuv</td>\n",
       "      <td>parfyumeriya</td>\n",
       "      <td>krasota-zdorove</td>\n",
       "      <td>obuv</td>\n",
       "      <td>kukly-igrushki</td>\n",
       "      <td>obuv</td>\n",
       "      <td>platya-i-yubki</td>\n",
       "      <td>drugoe</td>\n",
       "    </tr>\n",
       "    <tr>\n",
       "      <th>fd_slug_id1</th>\n",
       "      <td>zhenskaya-odezhda</td>\n",
       "      <td>detskaya-odezhda</td>\n",
       "      <td>detskaya-odezhda</td>\n",
       "      <td>detskaya-odezhda</td>\n",
       "      <td>detskaya-odezhda</td>\n",
       "      <td>zhenskaya-odezhda</td>\n",
       "      <td>kompyutery</td>\n",
       "      <td>dom-dacha</td>\n",
       "      <td>detskie</td>\n",
       "      <td>bytovaya-tekhnika</td>\n",
       "      <td>...</td>\n",
       "      <td>detskie</td>\n",
       "      <td>detskie</td>\n",
       "      <td>detskaya-odezhda</td>\n",
       "      <td>krasota-i-zdorove</td>\n",
       "      <td>uslugi</td>\n",
       "      <td>detskaya-odezhda</td>\n",
       "      <td>detskie</td>\n",
       "      <td>zhenskaya-odezhda</td>\n",
       "      <td>detskaya-odezhda</td>\n",
       "      <td>prochee</td>\n",
       "    </tr>\n",
       "    <tr>\n",
       "      <th>fd_slug_id2</th>\n",
       "      <td>zhenskaya-odezhda-aksessuary</td>\n",
       "      <td>detskaya-odezhda-aksessuary</td>\n",
       "      <td>detskaya-odezhda-verhnyaya-odezhda</td>\n",
       "      <td>detskaya-odezhda-obuv</td>\n",
       "      <td>detskaya-odezhda-verhnyaya-odezhda</td>\n",
       "      <td>zhenskaya-odezhda-obuv</td>\n",
       "      <td>komplektuyushchie</td>\n",
       "      <td>tekstil-kovry</td>\n",
       "      <td>detskie-drugoe</td>\n",
       "      <td>stiralnye-mashiny</td>\n",
       "      <td>...</td>\n",
       "      <td>mebel</td>\n",
       "      <td>detskie-kukly-igrushki</td>\n",
       "      <td>detskaya-odezhda-obuv</td>\n",
       "      <td>parfyumeriya</td>\n",
       "      <td>uslugi-krasota-zdorove</td>\n",
       "      <td>detskaya-odezhda-obuv</td>\n",
       "      <td>detskie-kukly-igrushki</td>\n",
       "      <td>zhenskaya-odezhda-obuv</td>\n",
       "      <td>detskaya-odezhda-platya-i-yubki</td>\n",
       "      <td>prochee-drugoe</td>\n",
       "    </tr>\n",
       "  </tbody>\n",
       "</table>\n",
       "<p>12 rows × 50 columns</p>\n",
       "</div>"
      ],
      "text/plain": [
       "                                       0                            1   \\\n",
       "id               3edeb34cf93f490ff760af85     c98febd50dad3cc0ffc86085   \n",
       "category                                9                           22   \n",
       "subcategory                           914                         2202   \n",
       "name                             Сумка DG                     Комплект   \n",
       "description                           NaN                     8-12 лет   \n",
       "price                              199900                        35000   \n",
       "fd_name1                 Женский гардероб             Детский гардероб   \n",
       "fd_name2                       Аксессуары                   Аксессуары   \n",
       "fd_slug1                zhenskaya-odezhda             detskaya-odezhda   \n",
       "fd_slug2                       aksessuary                   aksessuary   \n",
       "fd_slug_id1             zhenskaya-odezhda             detskaya-odezhda   \n",
       "fd_slug_id2  zhenskaya-odezhda-aksessuary  detskaya-odezhda-aksessuary   \n",
       "\n",
       "                                              2   \\\n",
       "id                      ade01e13912a46a99134cc75   \n",
       "category                                      22   \n",
       "subcategory                                 2204   \n",
       "name                      Пальтишко демисезонное   \n",
       "description  На девочку 1,5 г,состояние хорошее    \n",
       "price                                      30000   \n",
       "fd_name1                        Детский гардероб   \n",
       "fd_name2                          Верхняя одежда   \n",
       "fd_slug1                        detskaya-odezhda   \n",
       "fd_slug2                       verhnyaya-odezhda   \n",
       "fd_slug_id1                     detskaya-odezhda   \n",
       "fd_slug_id2   detskaya-odezhda-verhnyaya-odezhda   \n",
       "\n",
       "                                                            3   \\\n",
       "id                                    ab3e6941c11304c1519aef75   \n",
       "category                                                    22   \n",
       "subcategory                                               2209   \n",
       "name                                                   Attipas   \n",
       "description  Размер-135mm, euro-22.5.Прочная, мягкая, не ск...   \n",
       "price                                                    80000   \n",
       "fd_name1                                      Детский гардероб   \n",
       "fd_name2                                                 Обувь   \n",
       "fd_slug1                                      detskaya-odezhda   \n",
       "fd_slug2                                                  obuv   \n",
       "fd_slug_id1                                   detskaya-odezhda   \n",
       "fd_slug_id2                              detskaya-odezhda-obuv   \n",
       "\n",
       "                                             4   \\\n",
       "id                     252452a91c944a22c276d995   \n",
       "category                                     22   \n",
       "subcategory                                2204   \n",
       "name                               Жилет теплый   \n",
       "description                                 NaN   \n",
       "price                                     50000   \n",
       "fd_name1                       Детский гардероб   \n",
       "fd_name2                         Верхняя одежда   \n",
       "fd_slug1                       detskaya-odezhda   \n",
       "fd_slug2                      verhnyaya-odezhda   \n",
       "fd_slug_id1                    detskaya-odezhda   \n",
       "fd_slug_id2  detskaya-odezhda-verhnyaya-odezhda   \n",
       "\n",
       "                                                            5   \\\n",
       "id                                    364f7659a4e9ba6c53e35495   \n",
       "category                                                     9   \n",
       "subcategory                                                902   \n",
       "name                                           Босоножки, сабо   \n",
       "description  Новые, текстильные босоножки, 37 размер в разм...   \n",
       "price                                                    30000   \n",
       "fd_name1                                      Женский гардероб   \n",
       "fd_name2                                                 Обувь   \n",
       "fd_slug1                                     zhenskaya-odezhda   \n",
       "fd_slug2                                                  obuv   \n",
       "fd_slug_id1                                  zhenskaya-odezhda   \n",
       "fd_slug_id2                             zhenskaya-odezhda-obuv   \n",
       "\n",
       "                                                            6   \\\n",
       "id                                    c3d87065e4dbc080f400bb85   \n",
       "category                                                    15   \n",
       "subcategory                                               1508   \n",
       "name                   Жесткий диск для ноутбука Seagate 320gb   \n",
       "description  Seagate Модель St320lt020  HDD для ноутбуков  ...   \n",
       "price                                                   150000   \n",
       "fd_name1                                  Компьютерная техника   \n",
       "fd_name2                              Комплектующие и запчасти   \n",
       "fd_slug1                                            kompyutery   \n",
       "fd_slug2                                     komplektuyushchie   \n",
       "fd_slug_id1                                         kompyutery   \n",
       "fd_slug_id2                                  komplektuyushchie   \n",
       "\n",
       "                                          7   \\\n",
       "id                  22e6a518d53f490f6ce7fd85   \n",
       "category                                   4   \n",
       "subcategory                              403   \n",
       "name                        Ковер 324 на 240   \n",
       "description  Состояние отличное,без дефектов   \n",
       "price                                 200000   \n",
       "fd_name1                     Для дома и дачи   \n",
       "fd_name2                    Текстиль и ковры   \n",
       "fd_slug1                           dom-dacha   \n",
       "fd_slug2                       tekstil-kovry   \n",
       "fd_slug_id1                        dom-dacha   \n",
       "fd_slug_id2                    tekstil-kovry   \n",
       "\n",
       "                                                     8   \\\n",
       "id                             c6bd550b7f1304c1f7fda485   \n",
       "category                                              3   \n",
       "subcategory                                         301   \n",
       "name                                            Кенгуру   \n",
       "description  Продам кенгуру 350 , ванночка с горкой 250   \n",
       "price                                             35000   \n",
       "fd_name1                                 Детские товары   \n",
       "fd_name2                                         Другое   \n",
       "fd_slug1                                        detskie   \n",
       "fd_slug2                                         drugoe   \n",
       "fd_slug_id1                                     detskie   \n",
       "fd_slug_id2                              detskie-drugoe   \n",
       "\n",
       "                                   9   \\\n",
       "id           117b885a3cf9554042ae2285   \n",
       "category                            2   \n",
       "subcategory                       208   \n",
       "name                  Машинка автомат   \n",
       "description                       NaN   \n",
       "price                          350000   \n",
       "fd_name1              Бытовая техника   \n",
       "fd_name2            Стиральные машины   \n",
       "fd_slug1            bytovaya-tekhnika   \n",
       "fd_slug2            stiralnye-mashiny   \n",
       "fd_slug_id1         bytovaya-tekhnika   \n",
       "fd_slug_id2         stiralnye-mashiny   \n",
       "\n",
       "                                   ...                          \\\n",
       "id                                 ...                           \n",
       "category                           ...                           \n",
       "subcategory                        ...                           \n",
       "name                               ...                           \n",
       "description                        ...                           \n",
       "price                              ...                           \n",
       "fd_name1                           ...                           \n",
       "fd_name2                           ...                           \n",
       "fd_slug1                           ...                           \n",
       "fd_slug2                           ...                           \n",
       "fd_slug_id1                        ...                           \n",
       "fd_slug_id2                        ...                           \n",
       "\n",
       "                                                            40  \\\n",
       "id                                    3438949c05e3b470c984ea95   \n",
       "category                                                     3   \n",
       "subcategory                                                317   \n",
       "name                                        Электронная качель   \n",
       "description  Электронная качель Baby Care Riva, удобная, ко...   \n",
       "price                                                   260000   \n",
       "fd_name1                                        Детские товары   \n",
       "fd_name2                                  Обустройство детской   \n",
       "fd_slug1                                               detskie   \n",
       "fd_slug2                                                 mebel   \n",
       "fd_slug_id1                                            detskie   \n",
       "fd_slug_id2                                              mebel   \n",
       "\n",
       "                                                            41  \\\n",
       "id                                    266fc4d1395ccdeb3428fe85   \n",
       "category                                                     3   \n",
       "subcategory                                                314   \n",
       "name         Покебол со случайной минифигуркой покемона внутри   \n",
       "description                             Размер покебола: 7 см.   \n",
       "price                                                    30000   \n",
       "fd_name1                                        Детские товары   \n",
       "fd_name2                                        Игрушки и игры   \n",
       "fd_slug1                                               detskie   \n",
       "fd_slug2                                        kukly-igrushki   \n",
       "fd_slug_id1                                            detskie   \n",
       "fd_slug_id2                             detskie-kukly-igrushki   \n",
       "\n",
       "                                                            42  \\\n",
       "id                                    62c792b5c1141fee419acc95   \n",
       "category                                                    22   \n",
       "subcategory                                               2209   \n",
       "name                                            Ботинки зимние   \n",
       "description  Зимние, размер 20-21,( так написано на подошве...   \n",
       "price                                                    80000   \n",
       "fd_name1                                      Детский гардероб   \n",
       "fd_name2                                                 Обувь   \n",
       "fd_slug1                                      detskaya-odezhda   \n",
       "fd_slug2                                                  obuv   \n",
       "fd_slug_id1                                   detskaya-odezhda   \n",
       "fd_slug_id2                              detskaya-odezhda-obuv   \n",
       "\n",
       "                                                            43  \\\n",
       "id                                    3aec3024bc0e788cdb046795   \n",
       "category                                                    14   \n",
       "subcategory                                               1403   \n",
       "name                             Духи Lancome la vie est belle   \n",
       "description  Edp! Оригинал! Объём 30 мл, осталось половина....   \n",
       "price                                                    90000   \n",
       "fd_name1                                    Красота и здоровье   \n",
       "fd_name2                                            Парфюмерия   \n",
       "fd_slug1                                     krasota-i-zdorove   \n",
       "fd_slug2                                          parfyumeriya   \n",
       "fd_slug_id1                                  krasota-i-zdorove   \n",
       "fd_slug_id2                                       parfyumeriya   \n",
       "\n",
       "                                                  44  \\\n",
       "id                          62df3b3861f95540e9834385   \n",
       "category                                          16   \n",
       "subcategory                                     1608   \n",
       "name                              Набор для маникюра   \n",
       "description  На моем профиле моного интересных вещей   \n",
       "price                                          25000   \n",
       "fd_name1                                      Услуги   \n",
       "fd_name2                          Красота и здоровье   \n",
       "fd_slug1                                      uslugi   \n",
       "fd_slug2                             krasota-zdorove   \n",
       "fd_slug_id1                                   uslugi   \n",
       "fd_slug_id2                   uslugi-krasota-zdorove   \n",
       "\n",
       "                                   45  \\\n",
       "id           3a80d58fd82d9e58ce4aed85   \n",
       "category                           22   \n",
       "subcategory                      2209   \n",
       "name             Босоножки для танцев   \n",
       "description   Для танцев стелька 22см   \n",
       "price                           50000   \n",
       "fd_name1             Детский гардероб   \n",
       "fd_name2                        Обувь   \n",
       "fd_slug1             detskaya-odezhda   \n",
       "fd_slug2                         obuv   \n",
       "fd_slug_id1          detskaya-odezhda   \n",
       "fd_slug_id2     detskaya-odezhda-obuv   \n",
       "\n",
       "                                                    46  \\\n",
       "id                            30b215c9295ccdeb1abe2195   \n",
       "category                                             3   \n",
       "subcategory                                        314   \n",
       "name                                Коврик музыкальный   \n",
       "description  Для возраста 3+, несколько режимов работы   \n",
       "price                                            30000   \n",
       "fd_name1                                Детские товары   \n",
       "fd_name2                                Игрушки и игры   \n",
       "fd_slug1                                       detskie   \n",
       "fd_slug2                                kukly-igrushki   \n",
       "fd_slug_id1                                    detskie   \n",
       "fd_slug_id2                     detskie-kukly-igrushki   \n",
       "\n",
       "                                                            47  \\\n",
       "id                                    060658c789d3f35d14320d75   \n",
       "category                                                     9   \n",
       "subcategory                                                902   \n",
       "name                                               Туфли р .36   \n",
       "description  Туфли, кожа натуральная. Подходят для школы. О...   \n",
       "price                                                   100000   \n",
       "fd_name1                                      Женский гардероб   \n",
       "fd_name2                                                 Обувь   \n",
       "fd_slug1                                     zhenskaya-odezhda   \n",
       "fd_slug2                                                  obuv   \n",
       "fd_slug_id1                                  zhenskaya-odezhda   \n",
       "fd_slug_id2                             zhenskaya-odezhda-obuv   \n",
       "\n",
       "                                                            48  \\\n",
       "id                                    4a23d59792944a225801d395   \n",
       "category                                                    22   \n",
       "subcategory                                               2211   \n",
       "name                                           Нарядное платье   \n",
       "description  Красивое нарядное платье, размер 104, внутри т...   \n",
       "price                                                    40000   \n",
       "fd_name1                                      Детский гардероб   \n",
       "fd_name2                                         Платья и юбки   \n",
       "fd_slug1                                      detskaya-odezhda   \n",
       "fd_slug2                                        platya-i-yubki   \n",
       "fd_slug_id1                                   detskaya-odezhda   \n",
       "fd_slug_id2                    detskaya-odezhda-platya-i-yubki   \n",
       "\n",
       "                                                            49  \n",
       "id                                    3105314ef46c1e2633b58195  \n",
       "category                                                   100  \n",
       "subcategory                                              10001  \n",
       "name                                           Детское питание  \n",
       "description  Продам 2 пачки новых каш с грушей и бананом. Ц...  \n",
       "price                                                    10000  \n",
       "fd_name1                                                Прочее  \n",
       "fd_name2                                                Другое  \n",
       "fd_slug1                                               prochee  \n",
       "fd_slug2                                                drugoe  \n",
       "fd_slug_id1                                            prochee  \n",
       "fd_slug_id2                                     prochee-drugoe  \n",
       "\n",
       "[12 rows x 50 columns]"
      ]
     },
     "execution_count": 10,
     "metadata": {},
     "output_type": "execute_result"
    }
   ],
   "source": [
    "# удалим задублированные столбцы\n",
    "train.drop(columns=['fd_id1','fd_id2','fields' ],axis=1, inplace=True)\n",
    "# посмотрим что получилось\n",
    "train.head(50).T"
   ]
  },
  {
   "cell_type": "code",
   "execution_count": 11,
   "metadata": {},
   "outputs": [],
   "source": [
    "train.to_csv('data/train.csv')"
   ]
  },
  {
   "cell_type": "markdown",
   "metadata": {},
   "source": [
    " "
   ]
  },
  {
   "cell_type": "markdown",
   "metadata": {},
   "source": [
    "### Проведем морфологический анализ"
   ]
  },
  {
   "cell_type": "code",
   "execution_count": 12,
   "metadata": {},
   "outputs": [],
   "source": [
    "import re\n",
    "import pymorphy2 # Морфологический анализатор.\n",
    "from collections import Counter "
   ]
  },
  {
   "cell_type": "code",
   "execution_count": 13,
   "metadata": {},
   "outputs": [],
   "source": [
    "morph=pymorphy2.MorphAnalyzer() # Создает объект морфоанализатора и загружет словарь. теперь переменная morph может проводить морфологический анализ"
   ]
  },
  {
   "cell_type": "code",
   "execution_count": 14,
   "metadata": {},
   "outputs": [],
   "source": [
    "def getMeaningfullWords(text):\n",
    "    words=[]\n",
    "    tokens=re.findall('[А-Яа-яЁё]+\\-[А-Яа-яЁё]+|[А-Яа-яЁё]+', text)\n",
    "    for t in tokens:\n",
    "        pv=morph.parse(t)\n",
    "        for p in pv:\n",
    "            if p.tag.POS in ['ADJF', 'NOUN', 'VERB']:\n",
    "                words.append(p.normal_form)  # Хочу получить все значимые слова, но в уже нормальной форме\n",
    "                break\n",
    "    return words"
   ]
  },
  {
   "cell_type": "code",
   "execution_count": 15,
   "metadata": {},
   "outputs": [],
   "source": [
    "pd.set_option('max_rows',100)"
   ]
  },
  {
   "cell_type": "code",
   "execution_count": 16,
   "metadata": {},
   "outputs": [
    {
     "name": "stdout",
     "output_type": "stream",
     "text": [
      "Wall time: 876 ms\n"
     ]
    }
   ],
   "source": [
    "%%time\n",
    "train['morph_description'] = train['description'].fillna('').astype('object')\\\n",
    ".map(lambda text: ' '.join([morph.parse(r)[0].normal_form for r in re.findall('[А-Яа-яЁё]+\\-[А-Яа-яЁё]+|[А-Яа-яЁё]+', text)]))\n"
   ]
  },
  {
   "cell_type": "code",
   "execution_count": 17,
   "metadata": {},
   "outputs": [
    {
     "data": {
      "text/plain": [
       "'размер прочный мягкий не скользящий обувь для маленькая гибкий подошва обеспечивать много место для движение пальчик обувь производиться без использование клеить и токсичный вещество благодаря небольшой отверстие в подошва позволять дышать ножка машинный стирка быстро сохнуть состав материал подошва термопластичный силикон материал носочек хлопок спаднекс резиновый нить полиуритановое нить обувь помогать правильный моторный развитие'"
      ]
     },
     "execution_count": 17,
     "metadata": {},
     "output_type": "execute_result"
    }
   ],
   "source": [
    "train.loc[3,'morph_description']"
   ]
  },
  {
   "cell_type": "code",
   "execution_count": 18,
   "metadata": {
    "scrolled": true
   },
   "outputs": [
    {
     "name": "stdout",
     "output_type": "stream",
     "text": [
      "Wall time: 826 ms\n"
     ]
    }
   ],
   "source": [
    "%%time\n",
    "train['morph_description'] = train['description'].fillna('').astype('object')\\\n",
    ".map(lambda text: ' '.join(getMeaningfullWords(text)))"
   ]
  },
  {
   "cell_type": "code",
   "execution_count": 19,
   "metadata": {},
   "outputs": [
    {
     "data": {
      "text/plain": [
       "'размер прочный мягкий скользящий обувь маленькая гибкий подошва обеспечивать место движение пальчик обувь производиться использование клей исполняющий токсичный вещество небольшой отверстие век подошва позволять ножка машинный стирка сохнуть состав материал подошва термопластичный силикон материал носочек хлопок спаднекс резиновый нить полиуритановое нить обувь помогать правильный моторный развитие'"
      ]
     },
     "execution_count": 19,
     "metadata": {},
     "output_type": "execute_result"
    }
   ],
   "source": [
    "train.loc[3,'morph_description']"
   ]
  },
  {
   "cell_type": "markdown",
   "metadata": {},
   "source": [
    "#### По времени оба варианта примерно одинаковы. посмотрим еще на объемах чуть побольше"
   ]
  },
  {
   "cell_type": "markdown",
   "metadata": {},
   "source": [
    "## Получим списки с частотами по Tf-Idf"
   ]
  },
  {
   "cell_type": "code",
   "execution_count": 20,
   "metadata": {},
   "outputs": [],
   "source": [
    "from sklearn.feature_extraction.text import TfidfVectorizer\n",
    "import numpy as np"
   ]
  },
  {
   "cell_type": "code",
   "execution_count": 21,
   "metadata": {},
   "outputs": [],
   "source": [
    "corpus = train['morph_description'] # Создадим корпус значимых слов\n",
    "n = 3\n",
    "example = train.loc[n,'morph_description'] # получаем n-ю строку"
   ]
  },
  {
   "cell_type": "code",
   "execution_count": 22,
   "metadata": {
    "scrolled": true
   },
   "outputs": [],
   "source": [
    "tfCounter=TfidfVectorizer(ngram_range=(1,2), token_pattern=r'[А-Яа-яЁё]+\\-[А-Яа-яЁё]+|[А-Яа-яЁё]+')\n",
    "analyze = tfCounter.build_analyzer()\n",
    "res=tfCounter.fit_transform(corpus) # Скармливаем сюда корпус значимых слов"
   ]
  },
  {
   "cell_type": "code",
   "execution_count": 23,
   "metadata": {},
   "outputs": [
    {
     "name": "stdout",
     "output_type": "stream",
     "text": [
      "{'обувь': 0.29678410230734736, 'подошва': 0.27233545338034, 'материал': 0.19785606820489826, 'нить': 0.19785606820489826}\n"
     ]
    }
   ],
   "source": [
    "res2=analyze(example) # подаем ранее пролученную n-ю строку\n",
    "\n",
    "# Получим значения частот всех слов n-й строки\n",
    "tfs=list(set(res[n][0, tfCounter.vocabulary_.get(k)] for k in res2 if k in tfCounter.vocabulary_.keys())) # укажем номер n \n",
    "\n",
    "# получим значения частот только тех слов, значения которых превышают среднее значение частот n-й строки\n",
    "tfs2=[k for k in tfs if k>np.average(tfs)]\n",
    "\n",
    "# или получим значения частот только тех слов, значения которых превышают среднее значение + Стандартное отклонение \n",
    "# частот n-й строки\n",
    "#tfs2=[k for k in tfs if k>np.average(tfs)+np.std(tfs)]\n",
    "\n",
    "print({w:res[n][0, tfCounter.vocabulary_[w]] for \\\n",
    "          w in res2 if w in tfCounter.vocabulary_.keys() and\\\n",
    "       res[n][0, tfCounter.vocabulary_[w]] in tfs2})\n"
   ]
  },
  {
   "cell_type": "markdown",
   "metadata": {},
   "source": [
    "Или  вариант со средним значением"
   ]
  },
  {
   "cell_type": "code",
   "execution_count": 24,
   "metadata": {},
   "outputs": [
    {
     "name": "stdout",
     "output_type": "stream",
     "text": [
      "{'обувь': 0.29678410230734736, 'подошва': 0.27233545338034}\n"
     ]
    }
   ],
   "source": [
    "n = 3\n",
    "example = train.loc[n,'morph_description'] # получаем строку\n",
    "\n",
    "res2=analyze(example) # подаем строку\n",
    "\n",
    "\n",
    "tfs=list(set(res[n][0, tfCounter.vocabulary_.get(k)] for k in res2 if k in tfCounter.vocabulary_.keys()))\n",
    "\n",
    "#tfs2=[k for k in tfs if k>np.average(tfs)]\n",
    "tfs2=[k for k in tfs if k>np.average(tfs)+np.std(tfs)]\n",
    "\n",
    "print({w:res[n][0, tfCounter.vocabulary_[w]] for \\\n",
    "          w in res2 if w in tfCounter.vocabulary_.keys() and\\\n",
    "       res[n][0, tfCounter.vocabulary_[w]] in tfs2})\n"
   ]
  },
  {
   "cell_type": "markdown",
   "metadata": {},
   "source": [
    "Возможно это еще пригодится. Вставить это в новый столбец, старое описание удалить, запустить dictVectorizer - , должно получиться покомпактнее, возможно будет и результат получше."
   ]
  },
  {
   "cell_type": "code",
   "execution_count": 25,
   "metadata": {},
   "outputs": [
    {
     "data": {
      "text/plain": [
       "'Одевала один раз.покупала за 2000.с теплым подкладом.'"
      ]
     },
     "execution_count": 25,
     "metadata": {},
     "output_type": "execute_result"
    }
   ],
   "source": [
    "# Просто почитать описания\n",
    "row = 31\n",
    "train.loc[row,'description']"
   ]
  },
  {
   "cell_type": "code",
   "execution_count": 26,
   "metadata": {
    "scrolled": true
   },
   "outputs": [
    {
     "data": {
      "text/plain": [
       "0                                                      \n",
       "1                                                   год\n",
       "2                         девочка год состояние хороший\n",
       "3     размер прочный мягкий скользящий обувь маленьк...\n",
       "4                                                      \n",
       "5     новое текстильный босоножка размер век размер ...\n",
       "6     модель ноутбук ёмкость накопитель гб отличный ...\n",
       "7                             состояние отличный дефект\n",
       "8                продать кенгуру ванночка секунда горка\n",
       "9                                                      \n",
       "10    люлька возраст люлька век машина задний сидени...\n",
       "11    новое платье посол чистка одевать весь один ра...\n",
       "12                         размер рост чистенький пятно\n",
       "13    состояние хороший весь целое прошлый осень над...\n",
       "14    отдать манеж исполняющий куча детский вещий бо...\n",
       "15    ботинок иза натуральный кожа мягкий благородны...\n",
       "16    новое век коробка секунда бирка продаба скидка...\n",
       "17                                            цена весь\n",
       "18    продать клевый угга мальчик девочка размер мес...\n",
       "19    басейн век хороший состояние покупать век прош...\n",
       "20    соковыжималка отработать килограмм яблоко испо...\n",
       "21    продать игровой системник корпус такой фото се...\n",
       "22    приборный панель ваза пробег тысяча километр н...\n",
       "23                              новое оригинальный торг\n",
       "24         дверь передний исполняющий задний левый цена\n",
       "25    продавать лошадка век идеальный состояние сним...\n",
       "26            продавать кроссовок рибок состояние номер\n",
       "27              новый пользаванный быть небольшой порез\n",
       "28                                                     \n",
       "29                      влюбиться секунда первое взгляд\n",
       "30                                     цена один баллон\n",
       "31     одевать один раз покупать секунда тёплый подклад\n",
       "32                             литр минус срок годность\n",
       "33        рост кимоно век хороший состояние ребёнок год\n",
       "34                                   век район часы час\n",
       "35                                               баннок\n",
       "36    ручной молокоотсос бутылочка сцеживание исполн...\n",
       "37    хороший состояние один владелец цена сбросить ...\n",
       "38                                комплект фото коробка\n",
       "39                  предоплата доставка ялта бесплатный\n",
       "40    электронный качель удобный компактный скорость...\n",
       "41                            размер покебола сантиметр\n",
       "42    зимний размер подошва фирма котофей состояние ...\n",
       "43        оригинал объём остаться половина число отдать\n",
       "44                  мыть профиль моной интересный вещий\n",
       "45                              танец стелька сантиметр\n",
       "46                                 возраст режим работа\n",
       "47    туфля кожа натуральный подходить школа удобный...\n",
       "48    красивый нарядный платье размер трикотажный б ...\n",
       "49    продать пачка новый каша секунда груша исполня...\n",
       "50    отдать шотландец скотиша страйт девочка исполн...\n",
       "51              тёплый подойти размер вещий век профиль\n",
       "52                                                новый\n",
       "53            отличный состояние встреча договорённость\n",
       "54             конёк фигурный размер стелька новое торг\n",
       "55    новый оригинал виктория сикрет писать дать ссы...\n",
       "56                                                     \n",
       "57    телефон век отличный состояние век комплект ко...\n",
       "58    век отличный состояние век коробка секунда маг...\n",
       "59    продать ванночка век отличный состояние исполн...\n",
       "60    вес год размер миллиметр ёмкость аккумулятор ф...\n",
       "61    стелька байка стелька натуральный кожа комбини...\n",
       "62                                                     \n",
       "63                        алюминиевый раздвижной б день\n",
       "64                                      коробка коробка\n",
       "65           размер новый бедро тонкий подкладка лёгкий\n",
       "66                тёплый новое размер вещий век профиль\n",
       "67                                              кенгуру\n",
       "68    компьютерный стол секунда надстройка цвета вен...\n",
       "69    классный крокс мальчик век отличный состояние ...\n",
       "70    состояние хороший использоваться вт мина диск ...\n",
       "71    продавать менять туфелька хороший исполняющий ...\n",
       "72    часы секунда функция хронограф измерение пульс...\n",
       "73                       тёплый кофта хороший состояние\n",
       "74                                                     \n",
       "75                                                     \n",
       "76                       телефон век отличный состояние\n",
       "77    продать стенка век хороший состояние дорг прод...\n",
       "78                                                     \n",
       "79                           сарафан трикотажный размер\n",
       "80         отличный колесо машина этот колесо зима танк\n",
       "81                          продать красноухий черепаха\n",
       "82                отдать ширина сантиметр замок камушек\n",
       "83        продавать зил век рабочий состояние самовывоз\n",
       "84              продаваться вещь век отличный состояние\n",
       "85    телефон самсунг секунда минь гиг один сим карт...\n",
       "86                            размер танкетка сантиметр\n",
       "87    новое одеваться квартира вещий век мыть профил...\n",
       "88             рубль один упаковка век наличие упаковка\n",
       "89    шарфик иза пошерстяной пряжа шарф мягкий колот...\n",
       "90                                                     \n",
       "91                                           размер год\n",
       "92    безупречный крой исполняющий качество пошив из...\n",
       "93    новый корсет век пользование быть понадобиться...\n",
       "94                       продать платье любой рубль год\n",
       "95           раз тереть состояние новый хлопок качество\n",
       "96                                                     \n",
       "97    хлопок молния карман рукав быть кнопка исполня...\n",
       "98    брелок пивная кружка секунда двухглавый орёл б...\n",
       "99                    фирма размер месяц рост сантиметр\n",
       "Name: morph_description, dtype: object"
      ]
     },
     "execution_count": 26,
     "metadata": {},
     "output_type": "execute_result"
    }
   ],
   "source": [
    "# Просто посмотреть список значимых слов\n",
    "train['morph_description']"
   ]
  },
  {
   "cell_type": "markdown",
   "metadata": {},
   "source": [
    "### Поробуем Tf-Idf в \"чистом\" виде"
   ]
  },
  {
   "cell_type": "code",
   "execution_count": 27,
   "metadata": {
    "scrolled": true
   },
   "outputs": [],
   "source": [
    "# пока задаим X таким\n",
    "X = train['morph_description']"
   ]
  },
  {
   "cell_type": "code",
   "execution_count": 28,
   "metadata": {},
   "outputs": [
    {
     "name": "stdout",
     "output_type": "stream",
     "text": [
      "Количество стоп-слов составляет: 27\n"
     ]
    }
   ],
   "source": [
    "# Задаим стоп слова\n",
    "stop_words = ['век','год','месяц','день','час','минута','секунда','иза','продать','купить','звонить','цена','влюбиться',\n",
    "'состояние','дорг','размер','танк','продавать','сантиметр', 'брать','быть','пользование','понадобиться','любой',\n",
    "'рубль','контакт','продаваться']\n",
    "print('Количество стоп-слов составляет:',len(stop_words))"
   ]
  },
  {
   "cell_type": "code",
   "execution_count": 29,
   "metadata": {
    "scrolled": true
   },
   "outputs": [
    {
     "name": "stdout",
     "output_type": "stream",
     "text": [
      "Размеры (shape) полученного массива Tfidf_array (строк, слов): (100, 427)\n"
     ]
    }
   ],
   "source": [
    "from sklearn.feature_extraction.text import TfidfVectorizer\n",
    "\n",
    "vectorizer = TfidfVectorizer(stop_words=stop_words)\n",
    "Tfidf_array = vectorizer.fit_transform(X)\n",
    "#print('Список слов, определяющих частотный список:',vectorizer.get_feature_names())\n",
    "print('Размеры (shape) полученного массива Tfidf_array (строк, слов):', Tfidf_array.shape)"
   ]
  },
  {
   "cell_type": "code",
   "execution_count": 30,
   "metadata": {},
   "outputs": [],
   "source": [
    "# Так можно получить матрицу частот - пока на всякий случай..\n",
    "#pd.set_option('display.max_rows', 500) \n",
    "#df_tfidf = pd.DataFrame(Tfidf_array.toarray())"
   ]
  },
  {
   "cell_type": "markdown",
   "metadata": {},
   "source": [
    "#### Далее идут наработки по созданию числовых лэйблов и One Hote Encoding из них. Хотя пока еще рановато. Надо еще tf-idf сделать"
   ]
  },
  {
   "cell_type": "code",
   "execution_count": 31,
   "metadata": {},
   "outputs": [],
   "source": [
    "from sklearn.preprocessing import LabelEncoder\n",
    "from sklearn.preprocessing import LabelBinarizer"
   ]
  },
  {
   "cell_type": "code",
   "execution_count": 32,
   "metadata": {},
   "outputs": [],
   "source": [
    "from sklearn.compose import ColumnTransformer\n",
    "from sklearn.base import BaseEstimator, TransformerMixin\n",
    "import xgboost as xgb\n"
   ]
  },
  {
   "cell_type": "markdown",
   "metadata": {},
   "source": [
    " Зададим селектор"
   ]
  },
  {
   "cell_type": "code",
   "execution_count": 33,
   "metadata": {},
   "outputs": [],
   "source": [
    "class ColumnSelector(BaseEstimator, TransformerMixin):\n",
    "    def __init__(self, attribute_names):\n",
    "        self.attribute_names = attribute_names\n",
    "    def fit(self, X_, y=None): # \n",
    "        return self\n",
    "    def transform(self, X_):\n",
    "        return X_.loc[:, self.attribute_names].values # "
   ]
  },
  {
   "cell_type": "markdown",
   "metadata": {},
   "source": [
    "Зададим списки столбцов"
   ]
  },
  {
   "cell_type": "code",
   "execution_count": 34,
   "metadata": {},
   "outputs": [
    {
     "name": "stdout",
     "output_type": "stream",
     "text": [
      "num_cat_columns : ['category', 'subcategory']\n",
      "let_cat_columns : ['fd_name1', 'fd_name2', 'fd_slug1', 'fd_slug2', 'fd_slug_id1', 'fd_slug_id2']\n",
      "tfidf_columns   : ['morph_description', 'name']\n",
      "Остаток         : ['morph_description', 'description', 'name', 'id']\n"
     ]
    }
   ],
   "source": [
    "# получим список столбцов \n",
    "full_columns_list = list(train) \n",
    "\n",
    "# список числовых категориальных столбцов\n",
    "num_cat_columns = full_columns_list[1:3] # ['category', 'subcategory']\n",
    "\n",
    "# список буквенных категориальных столбцов\n",
    "let_cat_columns = full_columns_list[6:12]  # ['fd_name1', 'fd_name2', 'fd_slug1', 'fd_slug2', 'fd_slug_id1', 'fd_slug_id2'] \n",
    "\n",
    "tfidf_columns = ['morph_description', 'name']\n",
    "\n",
    "# целвое значение\n",
    "target = ['price']\n",
    "print('num_cat_columns :',num_cat_columns)\n",
    "print('let_cat_columns :',let_cat_columns)\n",
    "print('tfidf_columns   :',tfidf_columns)\n",
    "\n",
    "other = list(set(full_columns_list) - set(num_cat_columns) - set(let_cat_columns) - set(target))\n",
    "print('Остаток         :', other)"
   ]
  },
  {
   "cell_type": "code",
   "execution_count": 35,
   "metadata": {},
   "outputs": [],
   "source": [
    "from sklearn.preprocessing import LabelBinarizer, OneHotEncoder, StandardScaler\n",
    "from sklearn.pipeline import Pipeline, FeatureUnion"
   ]
  },
  {
   "cell_type": "markdown",
   "metadata": {},
   "source": [
    "Зададим 3 папйплайна для последующей сборки"
   ]
  },
  {
   "cell_type": "markdown",
   "metadata": {},
   "source": [
    "ТУТ где то уже пошли косяки, где-то что-то не в том виде наверное подал."
   ]
  },
  {
   "cell_type": "code",
   "execution_count": null,
   "metadata": {},
   "outputs": [],
   "source": [
    "num_pipeline = Pipeline([\n",
    "('selector_1',   ColumnSelector(let_cat_columns)),# определим категориальные словестные \n",
    "                                            #['fd_name1', 'fd_name2', 'fd_slug1', 'fd_slug2', 'fd_slug_id1', 'fd_slug_id2']\n",
    "('lbl_enc', LabelBinarizer())    \n",
    "#('scaler',  StandardScaler()), # \n",
    "])"
   ]
  },
  {
   "cell_type": "code",
   "execution_count": null,
   "metadata": {},
   "outputs": [],
   "source": [
    "cat_pipeline = Pipeline([  \n",
    "('selector_2', ColumnSelector(num_cat_columns)), # определим категориальные числовые столбцы: ['category', 'subcategory']\n",
    "('OHE', OneHotEncoder())\n",
    "])"
   ]
  },
  {
   "cell_type": "code",
   "execution_count": null,
   "metadata": {},
   "outputs": [],
   "source": [
    "tfidf_pipeline = Pipeline([  \n",
    "('selector_3', ColumnSelector(tfidf_columns)), # определим столбцы для  tfidf  преобразования: ['morph_description', 'name']\n",
    "('Tf*Idf', TfidfVectorizer(stop_words=stop_words))\n",
    "])"
   ]
  },
  {
   "cell_type": "markdown",
   "metadata": {},
   "source": [
    "Соберем в один"
   ]
  },
  {
   "cell_type": "code",
   "execution_count": null,
   "metadata": {},
   "outputs": [],
   "source": [
    "featureunion_pipeline = FeatureUnion(transformer_list=[\n",
    "(\"pipe_1\", num_pipeline),\n",
    "(\"pipe_2\", cat_pipeline),\n",
    "(\"pipe_3\", tfidf_pipeline),    \n",
    "])"
   ]
  },
  {
   "cell_type": "markdown",
   "metadata": {},
   "source": [
    "Подаим его на вход предсказателя"
   ]
  },
  {
   "cell_type": "code",
   "execution_count": null,
   "metadata": {},
   "outputs": [],
   "source": [
    "xgb_model = xgb.XGBClassifier()\n",
    "\n",
    "pipe= Pipeline([('f', featureunion_pipeline), ('x', xgb_model)])"
   ]
  },
  {
   "cell_type": "code",
   "execution_count": null,
   "metadata": {},
   "outputs": [],
   "source": [
    "pipe.fit(train)"
   ]
  },
  {
   "cell_type": "code",
   "execution_count": null,
   "metadata": {},
   "outputs": [],
   "source": []
  },
  {
   "cell_type": "code",
   "execution_count": null,
   "metadata": {},
   "outputs": [],
   "source": [
    "# Еще есть такой кариант сборки пайплайнов\n",
    "col_transform = ColumnTransformer([\n",
    "    ('OHE', OneHotEncoder(), [204]), # \n",
    "    ('scaler',StandardScaler(), slice(0,204))\n",
    "     ])\n",
    "\n",
    "full_pipeline_4 = Pipeline([\n",
    "('ct', ct),\n",
    "('clf', LogisticRegression())\n",
    "])"
   ]
  }
 ],
 "metadata": {
  "kernelspec": {
   "display_name": "Python 3",
   "language": "python",
   "name": "python3"
  },
  "language_info": {
   "codemirror_mode": {
    "name": "ipython",
    "version": 3
   },
   "file_extension": ".py",
   "mimetype": "text/x-python",
   "name": "python",
   "nbconvert_exporter": "python",
   "pygments_lexer": "ipython3",
   "version": "3.7.0"
  }
 },
 "nbformat": 4,
 "nbformat_minor": 2
}
