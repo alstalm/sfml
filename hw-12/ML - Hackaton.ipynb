{
 "cells": [
  {
   "cell_type": "code",
   "execution_count": 1,
   "metadata": {},
   "outputs": [],
   "source": [
    "import pandas as pd"
   ]
  },
  {
   "cell_type": "code",
   "execution_count": null,
   "metadata": {},
   "outputs": [],
   "source": [
    "#with open ('train_hack.pckl', 'rb') as f:\n",
    "#    data = pickle.load(f)"
   ]
  },
  {
   "cell_type": "code",
   "execution_count": null,
   "metadata": {},
   "outputs": [],
   "source": [
    "# прочитаем train_2_col.csv\n",
    "#train_4_col_2 = pd.read_csv('train_4_col_2.csv', sep='\\t')"
   ]
  },
  {
   "cell_type": "code",
   "execution_count": 2,
   "metadata": {},
   "outputs": [],
   "source": [
    "train_4_col_3 = pd.read_csv('train_4_col_3.csv', sep='\\t')"
   ]
  },
  {
   "cell_type": "code",
   "execution_count": null,
   "metadata": {},
   "outputs": [],
   "source": [
    "# прочитаем train_4_col.csv\n",
    "#train_4_col = pd.read_csv('train_4_col.csv', sep='\\t')"
   ]
  },
  {
   "cell_type": "markdown",
   "metadata": {},
   "source": [
    "Сделаем совсем маленький датафрейм. просто чтоб поиграться сфункией"
   ]
  },
  {
   "cell_type": "code",
   "execution_count": 29,
   "metadata": {},
   "outputs": [
    {
     "data": {
      "text/html": [
       "<div>\n",
       "<style scoped>\n",
       "    .dataframe tbody tr th:only-of-type {\n",
       "        vertical-align: middle;\n",
       "    }\n",
       "\n",
       "    .dataframe tbody tr th {\n",
       "        vertical-align: top;\n",
       "    }\n",
       "\n",
       "    .dataframe thead th {\n",
       "        text-align: right;\n",
       "    }\n",
       "</style>\n",
       "<table border=\"1\" class=\"dataframe\">\n",
       "  <thead>\n",
       "    <tr style=\"text-align: right;\">\n",
       "      <th></th>\n",
       "      <th>Unnamed: 0</th>\n",
       "      <th>id</th>\n",
       "      <th>fields</th>\n",
       "    </tr>\n",
       "  </thead>\n",
       "  <tbody>\n",
       "    <tr>\n",
       "      <th>0</th>\n",
       "      <td>0</td>\n",
       "      <td>3edeb34cf93f490ff760af85</td>\n",
       "      <td>[{'field': {'name': 'Женский гардероб', 'id': ...</td>\n",
       "    </tr>\n",
       "    <tr>\n",
       "      <th>1</th>\n",
       "      <td>1</td>\n",
       "      <td>c98febd50dad3cc0ffc86085</td>\n",
       "      <td>[{'field': {'name': 'Детский гардероб', 'id': ...</td>\n",
       "    </tr>\n",
       "    <tr>\n",
       "      <th>2</th>\n",
       "      <td>2</td>\n",
       "      <td>ade01e13912a46a99134cc75</td>\n",
       "      <td>[{'field': {'name': 'Детский гардероб', 'id': ...</td>\n",
       "    </tr>\n",
       "    <tr>\n",
       "      <th>3</th>\n",
       "      <td>3</td>\n",
       "      <td>ab3e6941c11304c1519aef75</td>\n",
       "      <td>[{'field': {'name': 'Детский гардероб', 'id': ...</td>\n",
       "    </tr>\n",
       "    <tr>\n",
       "      <th>4</th>\n",
       "      <td>5</td>\n",
       "      <td>252452a91c944a22c276d995</td>\n",
       "      <td>[{'field': {'name': 'Детский гардероб', 'id': ...</td>\n",
       "    </tr>\n",
       "  </tbody>\n",
       "</table>\n",
       "</div>"
      ],
      "text/plain": [
       "   Unnamed: 0                        id  \\\n",
       "0           0  3edeb34cf93f490ff760af85   \n",
       "1           1  c98febd50dad3cc0ffc86085   \n",
       "2           2  ade01e13912a46a99134cc75   \n",
       "3           3  ab3e6941c11304c1519aef75   \n",
       "4           5  252452a91c944a22c276d995   \n",
       "\n",
       "                                              fields  \n",
       "0  [{'field': {'name': 'Женский гардероб', 'id': ...  \n",
       "1  [{'field': {'name': 'Детский гардероб', 'id': ...  \n",
       "2  [{'field': {'name': 'Детский гардероб', 'id': ...  \n",
       "3  [{'field': {'name': 'Детский гардероб', 'id': ...  \n",
       "4  [{'field': {'name': 'Детский гардероб', 'id': ...  "
      ]
     },
     "execution_count": 29,
     "metadata": {},
     "output_type": "execute_result"
    }
   ],
   "source": [
    "train_4_col_3_small = train_4_col_3.head(100)\n",
    "train_4_col_3_small.head()"
   ]
  },
  {
   "cell_type": "markdown",
   "metadata": {},
   "source": [
    "Из столбца fields можно извлечь полезные атрибуты. DictVectorizer  вобщем делает тоже самое, но ему нужны числовые значения словаря."
   ]
  },
  {
   "cell_type": "code",
   "execution_count": 48,
   "metadata": {},
   "outputs": [
    {
     "name": "stdout",
     "output_type": "stream",
     "text": [
      "Детский гардероб\n",
      "Верхняя одежда\n",
      "=====\n",
      "22\n",
      "2204\n",
      "=====\n",
      "detskaya-odezhda\n",
      "verhnyaya-odezhda\n",
      "=====\n",
      "detskaya-odezhda\n",
      "detskaya-odezhda-verhnyaya-odezhda\n",
      "=====\n",
      "category\n",
      "subcategory\n",
      "=====\n",
      "1\n",
      "2\n",
      "=====\n",
      "None\n",
      "None\n"
     ]
    }
   ],
   "source": [
    "field = train_4_col_3_small.iloc[2,2] # получим значение ячейки в формате str\n",
    "field = field[1:-1] # откинем лишнее\n",
    "dct = eval(field) # переведем в формат словаря\n",
    "# и посмотрим значения ключей\n",
    "print(dct[0]['field']['name'])\n",
    "print(dct[1]['field']['name'])\n",
    "print('=====')\n",
    "print(dct[0]['field']['id'])\n",
    "print(dct[1]['field']['id'])\n",
    "print('=====')\n",
    "print(dct[0]['field']['slug'])\n",
    "print(dct[1]['field']['slug'])\n",
    "print('=====')\n",
    "print(dct[0]['field']['slug_id'])\n",
    "print(dct[1]['field']['slug_id'])\n",
    "print('=====')\n",
    "print(dct[0]['field']['type'])\n",
    "print(dct[1]['field']['type'])\n",
    "print('=====')\n",
    "print(dct[0]['order'])\n",
    "print(dct[1]['order'])\n",
    "print('=====')\n",
    "print(dct[0]['values'])\n",
    "print(dct[1]['values'])"
   ]
  },
  {
   "cell_type": "code",
   "execution_count": 53,
   "metadata": {},
   "outputs": [],
   "source": [
    "# напишем функцию, которая извлекает какой-нибудь из атрибутов\n",
    "def valextractor_1(field):\n",
    "#    field = field[1:-1]\n",
    "    dct = eval(field)\n",
    "    value = dct[0]['field']['name']\n",
    "    return value"
   ]
  },
  {
   "cell_type": "code",
   "execution_count": 50,
   "metadata": {},
   "outputs": [
    {
     "data": {
      "text/plain": [
       "'Женский гардероб'"
      ]
     },
     "execution_count": 50,
     "metadata": {},
     "output_type": "execute_result"
    }
   ],
   "source": [
    "# проверяем функцию. работает.\n",
    "field = train_4_col_3_small.iloc[0,2]\n",
    "valextractor_1(field)"
   ]
  },
  {
   "cell_type": "code",
   "execution_count": 51,
   "metadata": {},
   "outputs": [
    {
     "name": "stderr",
     "output_type": "stream",
     "text": [
      "C:\\ProgramData\\Anaconda3\\lib\\site-packages\\ipykernel_launcher.py:2: SettingWithCopyWarning: \n",
      "A value is trying to be set on a copy of a slice from a DataFrame.\n",
      "Try using .loc[row_indexer,col_indexer] = value instead\n",
      "\n",
      "See the caveats in the documentation: http://pandas.pydata.org/pandas-docs/stable/indexing.html#indexing-view-versus-copy\n",
      "  \n"
     ]
    }
   ],
   "source": [
    "# вставляем функцию в датафрейм\n",
    "train_4_col_3_small['field_name'] = train_4_col_3_small['fields'] .map(valextractor_1)"
   ]
  },
  {
   "cell_type": "code",
   "execution_count": 55,
   "metadata": {
    "scrolled": true
   },
   "outputs": [
    {
     "ename": "KeyError",
     "evalue": "\"None of [0     [{'field': {'name': 'Женский гардероб', 'id': ...\\n1     [{'field': {'name': 'Детский гардероб', 'id': ...\\n2     [{'field': {'name': 'Детский гардероб', 'id': ...\\n3     [{'field': {'name': 'Детский гардероб', 'id': ...\\n4     [{'field': {'name': 'Детский гардероб', 'id': ...\\n5     [{'field': {'name': 'Женский гардероб', 'id': ...\\n6     [{'field': {'name': 'Компьютерная техника', 'i...\\n7     [{'field': {'name': 'Для дома и дачи', 'id': 4...\\n8     [{'field': {'name': 'Детские товары', 'id': 3,...\\n9     [{'field': {'name': 'Бытовая техника', 'id': 2...\\n10    [{'field': {'name': 'Детские товары', 'id': 3,...\\n11    [{'field': {'name': 'Женский гардероб', 'id': ...\\n12    [{'field': {'name': 'Мужской гардероб', 'id': ...\\n13    [{'field': {'name': 'Детский гардероб', 'id': ...\\n14    [{'field': {'name': 'Детские товары', 'id': 3,...\\n15    [{'field': {'name': 'Мужской гардероб', 'id': ...\\n16    [{'field': {'name': 'Женский гардероб', 'id': ...\\n17    [{'field': {'name': 'Детские товары', 'id': 3,...\\n18    [{'field': {'name': 'Детский гардероб', 'id': ...\\n19    [{'field': {'name': 'Спорт и отдых', 'id': 11,...\\n20    [{'field': {'name': 'Бытовая техника', 'id': 2...\\n21    [{'field': {'name': 'Компьютерная техника', 'i...\\n22    [{'field': {'name': 'Транспорт и автотовары', ...\\n23    [{'field': {'name': 'Электроника', 'id': 13, '...\\n24    [{'field': {'name': 'Транспорт и автотовары', ...\\n25    [{'field': {'name': 'Детские товары', 'id': 3,...\\n26    [{'field': {'name': 'Мужской гардероб', 'id': ...\\n27    [{'field': {'name': 'Детский гардероб', 'id': ...\\n28    [{'field': {'name': 'Мужской гардероб', 'id': ...\\n29    [{'field': {'name': 'Женский гардероб', 'id': ...\\n                            ...                        \\n70    [{'field': {'name': 'Ремонт и строительство', ...\\n71    [{'field': {'name': 'Женский гардероб', 'id': ...\\n72    [{'field': {'name': 'Спорт и отдых', 'id': 11,...\\n73    [{'field': {'name': 'Женский гардероб', 'id': ...\\n74    [{'field': {'name': 'Детские товары', 'id': 3,...\\n75    [{'field': {'name': 'Женский гардероб', 'id': ...\\n76    [{'field': {'name': 'Телефоны и планшеты', 'id...\\n77    [{'field': {'name': 'Для дома и дачи', 'id': 4...\\n78    [{'field': {'name': 'Хэндмейд', 'id': 17, 'slu...\\n79    [{'field': {'name': 'Женский гардероб', 'id': ...\\n80    [{'field': {'name': 'Транспорт и автотовары', ...\\n81    [{'field': {'name': 'Животные', 'id': 5, 'slug...\\n82    [{'field': {'name': 'Женский гардероб', 'id': ...\\n83    [{'field': {'name': 'Бытовая техника', 'id': 2...\\n84    [{'field': {'name': 'Женский гардероб', 'id': ...\\n85    [{'field': {'name': 'Телефоны и планшеты', 'id...\\n86    [{'field': {'name': 'Женский гардероб', 'id': ...\\n87    [{'field': {'name': 'Женский гардероб', 'id': ...\\n88    [{'field': {'name': 'Женский гардероб', 'id': ...\\n89    [{'field': {'name': 'Женский гардероб', 'id': ...\\n90    [{'field': {'name': 'Красота и здоровье', 'id'...\\n91    [{'field': {'name': 'Детский гардероб', 'id': ...\\n92    [{'field': {'name': 'Детский гардероб', 'id': ...\\n93    [{'field': {'name': 'Женский гардероб', 'id': ...\\n94    [{'field': {'name': 'Детский гардероб', 'id': ...\\n95    [{'field': {'name': 'Женский гардероб', 'id': ...\\n96    [{'field': {'name': 'Детские товары', 'id': 3,...\\n97    [{'field': {'name': 'Женский гардероб', 'id': ...\\n98    [{'field': {'name': 'Хобби и развлечения', 'id...\\n99    [{'field': {'name': 'Детский гардероб', 'id': ...\\nName: fields, Length: 100, dtype: object] are in the [index]\"",
     "output_type": "error",
     "traceback": [
      "\u001b[1;31m---------------------------------------------------------------------------\u001b[0m",
      "\u001b[1;31mKeyError\u001b[0m                                  Traceback (most recent call last)",
      "\u001b[1;32m<ipython-input-55-b00fb0f5fe65>\u001b[0m in \u001b[0;36m<module>\u001b[1;34m()\u001b[0m\n\u001b[1;32m----> 1\u001b[1;33m \u001b[0mtrain_4_col_3_small\u001b[0m\u001b[1;33m[\u001b[0m\u001b[1;34m'field_name'\u001b[0m\u001b[1;33m]\u001b[0m \u001b[1;33m=\u001b[0m \u001b[0mtrain_4_col_3_small\u001b[0m\u001b[1;33m.\u001b[0m\u001b[0mloc\u001b[0m\u001b[1;33m[\u001b[0m\u001b[0mtrain_4_col_3_small\u001b[0m\u001b[1;33m[\u001b[0m\u001b[1;34m'fields'\u001b[0m\u001b[1;33m]\u001b[0m\u001b[1;33m]\u001b[0m\u001b[1;33m.\u001b[0m\u001b[0mmap\u001b[0m\u001b[1;33m(\u001b[0m\u001b[0mvalextractor_1\u001b[0m\u001b[1;33m)\u001b[0m\u001b[1;33m\u001b[0m\u001b[0m\n\u001b[0m",
      "\u001b[1;32mC:\\ProgramData\\Anaconda3\\lib\\site-packages\\pandas\\core\\indexing.py\u001b[0m in \u001b[0;36m__getitem__\u001b[1;34m(self, key)\u001b[0m\n\u001b[0;32m   1476\u001b[0m \u001b[1;33m\u001b[0m\u001b[0m\n\u001b[0;32m   1477\u001b[0m             \u001b[0mmaybe_callable\u001b[0m \u001b[1;33m=\u001b[0m \u001b[0mcom\u001b[0m\u001b[1;33m.\u001b[0m\u001b[0m_apply_if_callable\u001b[0m\u001b[1;33m(\u001b[0m\u001b[0mkey\u001b[0m\u001b[1;33m,\u001b[0m \u001b[0mself\u001b[0m\u001b[1;33m.\u001b[0m\u001b[0mobj\u001b[0m\u001b[1;33m)\u001b[0m\u001b[1;33m\u001b[0m\u001b[0m\n\u001b[1;32m-> 1478\u001b[1;33m             \u001b[1;32mreturn\u001b[0m \u001b[0mself\u001b[0m\u001b[1;33m.\u001b[0m\u001b[0m_getitem_axis\u001b[0m\u001b[1;33m(\u001b[0m\u001b[0mmaybe_callable\u001b[0m\u001b[1;33m,\u001b[0m \u001b[0maxis\u001b[0m\u001b[1;33m=\u001b[0m\u001b[0maxis\u001b[0m\u001b[1;33m)\u001b[0m\u001b[1;33m\u001b[0m\u001b[0m\n\u001b[0m\u001b[0;32m   1479\u001b[0m \u001b[1;33m\u001b[0m\u001b[0m\n\u001b[0;32m   1480\u001b[0m     \u001b[1;32mdef\u001b[0m \u001b[0m_is_scalar_access\u001b[0m\u001b[1;33m(\u001b[0m\u001b[0mself\u001b[0m\u001b[1;33m,\u001b[0m \u001b[0mkey\u001b[0m\u001b[1;33m)\u001b[0m\u001b[1;33m:\u001b[0m\u001b[1;33m\u001b[0m\u001b[0m\n",
      "\u001b[1;32mC:\\ProgramData\\Anaconda3\\lib\\site-packages\\pandas\\core\\indexing.py\u001b[0m in \u001b[0;36m_getitem_axis\u001b[1;34m(self, key, axis)\u001b[0m\n\u001b[0;32m   1899\u001b[0m                     \u001b[1;32mraise\u001b[0m \u001b[0mValueError\u001b[0m\u001b[1;33m(\u001b[0m\u001b[1;34m'Cannot index with multidimensional key'\u001b[0m\u001b[1;33m)\u001b[0m\u001b[1;33m\u001b[0m\u001b[0m\n\u001b[0;32m   1900\u001b[0m \u001b[1;33m\u001b[0m\u001b[0m\n\u001b[1;32m-> 1901\u001b[1;33m                 \u001b[1;32mreturn\u001b[0m \u001b[0mself\u001b[0m\u001b[1;33m.\u001b[0m\u001b[0m_getitem_iterable\u001b[0m\u001b[1;33m(\u001b[0m\u001b[0mkey\u001b[0m\u001b[1;33m,\u001b[0m \u001b[0maxis\u001b[0m\u001b[1;33m=\u001b[0m\u001b[0maxis\u001b[0m\u001b[1;33m)\u001b[0m\u001b[1;33m\u001b[0m\u001b[0m\n\u001b[0m\u001b[0;32m   1902\u001b[0m \u001b[1;33m\u001b[0m\u001b[0m\n\u001b[0;32m   1903\u001b[0m             \u001b[1;31m# nested tuple slicing\u001b[0m\u001b[1;33m\u001b[0m\u001b[1;33m\u001b[0m\u001b[0m\n",
      "\u001b[1;32mC:\\ProgramData\\Anaconda3\\lib\\site-packages\\pandas\\core\\indexing.py\u001b[0m in \u001b[0;36m_getitem_iterable\u001b[1;34m(self, key, axis)\u001b[0m\n\u001b[0;32m   1161\u001b[0m                     \u001b[0mresult\u001b[0m \u001b[1;33m=\u001b[0m \u001b[0mself\u001b[0m\u001b[1;33m.\u001b[0m\u001b[0mobj\u001b[0m\u001b[1;33m.\u001b[0m\u001b[0m_take\u001b[0m\u001b[1;33m(\u001b[0m\u001b[0mindexer\u001b[0m\u001b[1;33m[\u001b[0m\u001b[0mindexer\u001b[0m \u001b[1;33m!=\u001b[0m \u001b[1;33m-\u001b[0m\u001b[1;36m1\u001b[0m\u001b[1;33m]\u001b[0m\u001b[1;33m,\u001b[0m \u001b[0maxis\u001b[0m\u001b[1;33m=\u001b[0m\u001b[0maxis\u001b[0m\u001b[1;33m)\u001b[0m\u001b[1;33m\u001b[0m\u001b[0m\n\u001b[0;32m   1162\u001b[0m \u001b[1;33m\u001b[0m\u001b[0m\n\u001b[1;32m-> 1163\u001b[1;33m                     \u001b[0mself\u001b[0m\u001b[1;33m.\u001b[0m\u001b[0m_validate_read_indexer\u001b[0m\u001b[1;33m(\u001b[0m\u001b[0mkey\u001b[0m\u001b[1;33m,\u001b[0m \u001b[0mnew_indexer\u001b[0m\u001b[1;33m,\u001b[0m \u001b[0maxis\u001b[0m\u001b[1;33m)\u001b[0m\u001b[1;33m\u001b[0m\u001b[0m\n\u001b[0m\u001b[0;32m   1164\u001b[0m                     result = result._reindex_with_indexers(\n\u001b[0;32m   1165\u001b[0m                         \u001b[1;33m{\u001b[0m\u001b[0maxis\u001b[0m\u001b[1;33m:\u001b[0m \u001b[1;33m[\u001b[0m\u001b[0mnew_target\u001b[0m\u001b[1;33m,\u001b[0m \u001b[0mnew_indexer\u001b[0m\u001b[1;33m]\u001b[0m\u001b[1;33m}\u001b[0m\u001b[1;33m,\u001b[0m\u001b[1;33m\u001b[0m\u001b[0m\n",
      "\u001b[1;32mC:\\ProgramData\\Anaconda3\\lib\\site-packages\\pandas\\core\\indexing.py\u001b[0m in \u001b[0;36m_validate_read_indexer\u001b[1;34m(self, key, indexer, axis)\u001b[0m\n\u001b[0;32m   1204\u001b[0m                 raise KeyError(\n\u001b[0;32m   1205\u001b[0m                     u\"None of [{key}] are in the [{axis}]\".format(\n\u001b[1;32m-> 1206\u001b[1;33m                         key=key, axis=self.obj._get_axis_name(axis)))\n\u001b[0m\u001b[0;32m   1207\u001b[0m \u001b[1;33m\u001b[0m\u001b[0m\n\u001b[0;32m   1208\u001b[0m             \u001b[1;31m# we skip the warning on Categorical/Interval\u001b[0m\u001b[1;33m\u001b[0m\u001b[1;33m\u001b[0m\u001b[0m\n",
      "\u001b[1;31mKeyError\u001b[0m: \"None of [0     [{'field': {'name': 'Женский гардероб', 'id': ...\\n1     [{'field': {'name': 'Детский гардероб', 'id': ...\\n2     [{'field': {'name': 'Детский гардероб', 'id': ...\\n3     [{'field': {'name': 'Детский гардероб', 'id': ...\\n4     [{'field': {'name': 'Детский гардероб', 'id': ...\\n5     [{'field': {'name': 'Женский гардероб', 'id': ...\\n6     [{'field': {'name': 'Компьютерная техника', 'i...\\n7     [{'field': {'name': 'Для дома и дачи', 'id': 4...\\n8     [{'field': {'name': 'Детские товары', 'id': 3,...\\n9     [{'field': {'name': 'Бытовая техника', 'id': 2...\\n10    [{'field': {'name': 'Детские товары', 'id': 3,...\\n11    [{'field': {'name': 'Женский гардероб', 'id': ...\\n12    [{'field': {'name': 'Мужской гардероб', 'id': ...\\n13    [{'field': {'name': 'Детский гардероб', 'id': ...\\n14    [{'field': {'name': 'Детские товары', 'id': 3,...\\n15    [{'field': {'name': 'Мужской гардероб', 'id': ...\\n16    [{'field': {'name': 'Женский гардероб', 'id': ...\\n17    [{'field': {'name': 'Детские товары', 'id': 3,...\\n18    [{'field': {'name': 'Детский гардероб', 'id': ...\\n19    [{'field': {'name': 'Спорт и отдых', 'id': 11,...\\n20    [{'field': {'name': 'Бытовая техника', 'id': 2...\\n21    [{'field': {'name': 'Компьютерная техника', 'i...\\n22    [{'field': {'name': 'Транспорт и автотовары', ...\\n23    [{'field': {'name': 'Электроника', 'id': 13, '...\\n24    [{'field': {'name': 'Транспорт и автотовары', ...\\n25    [{'field': {'name': 'Детские товары', 'id': 3,...\\n26    [{'field': {'name': 'Мужской гардероб', 'id': ...\\n27    [{'field': {'name': 'Детский гардероб', 'id': ...\\n28    [{'field': {'name': 'Мужской гардероб', 'id': ...\\n29    [{'field': {'name': 'Женский гардероб', 'id': ...\\n                            ...                        \\n70    [{'field': {'name': 'Ремонт и строительство', ...\\n71    [{'field': {'name': 'Женский гардероб', 'id': ...\\n72    [{'field': {'name': 'Спорт и отдых', 'id': 11,...\\n73    [{'field': {'name': 'Женский гардероб', 'id': ...\\n74    [{'field': {'name': 'Детские товары', 'id': 3,...\\n75    [{'field': {'name': 'Женский гардероб', 'id': ...\\n76    [{'field': {'name': 'Телефоны и планшеты', 'id...\\n77    [{'field': {'name': 'Для дома и дачи', 'id': 4...\\n78    [{'field': {'name': 'Хэндмейд', 'id': 17, 'slu...\\n79    [{'field': {'name': 'Женский гардероб', 'id': ...\\n80    [{'field': {'name': 'Транспорт и автотовары', ...\\n81    [{'field': {'name': 'Животные', 'id': 5, 'slug...\\n82    [{'field': {'name': 'Женский гардероб', 'id': ...\\n83    [{'field': {'name': 'Бытовая техника', 'id': 2...\\n84    [{'field': {'name': 'Женский гардероб', 'id': ...\\n85    [{'field': {'name': 'Телефоны и планшеты', 'id...\\n86    [{'field': {'name': 'Женский гардероб', 'id': ...\\n87    [{'field': {'name': 'Женский гардероб', 'id': ...\\n88    [{'field': {'name': 'Женский гардероб', 'id': ...\\n89    [{'field': {'name': 'Женский гардероб', 'id': ...\\n90    [{'field': {'name': 'Красота и здоровье', 'id'...\\n91    [{'field': {'name': 'Детский гардероб', 'id': ...\\n92    [{'field': {'name': 'Детский гардероб', 'id': ...\\n93    [{'field': {'name': 'Женский гардероб', 'id': ...\\n94    [{'field': {'name': 'Детский гардероб', 'id': ...\\n95    [{'field': {'name': 'Женский гардероб', 'id': ...\\n96    [{'field': {'name': 'Детские товары', 'id': 3,...\\n97    [{'field': {'name': 'Женский гардероб', 'id': ...\\n98    [{'field': {'name': 'Хобби и развлечения', 'id...\\n99    [{'field': {'name': 'Детский гардероб', 'id': ...\\nName: fields, Length: 100, dtype: object] are in the [index]\""
     ]
    }
   ],
   "source": [
    "train_4_col_3_small['field_name'] = train_4_col_3_small.loc[train_4_col_3_small['fields']].map(valextractor_1)"
   ]
  },
  {
   "cell_type": "code",
   "execution_count": null,
   "metadata": {},
   "outputs": [],
   "source": []
  }
 ],
 "metadata": {
  "kernelspec": {
   "display_name": "Python 3",
   "language": "python",
   "name": "python3"
  },
  "language_info": {
   "codemirror_mode": {
    "name": "ipython",
    "version": 3
   },
   "file_extension": ".py",
   "mimetype": "text/x-python",
   "name": "python",
   "nbconvert_exporter": "python",
   "pygments_lexer": "ipython3",
   "version": "3.7.0"
  }
 },
 "nbformat": 4,
 "nbformat_minor": 2
}
