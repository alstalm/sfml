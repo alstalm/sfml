{
 "cells": [
  {
   "cell_type": "markdown",
   "metadata": {},
   "source": [
    "### Прочитаем train"
   ]
  },
  {
   "cell_type": "code",
   "execution_count": 110,
   "metadata": {
    "collapsed": false
   },
   "outputs": [],
   "source": [
    "train = pd.read_csv('train_merged_full_morphed.csv')"
   ]
  },
  {
   "cell_type": "code",
   "execution_count": 111,
   "metadata": {
    "collapsed": false
   },
   "outputs": [],
   "source": [
    "train.drop(columns=['fd_slug_id1','fd_slug_id2',\\\n",
    "                    'fd_slug1','fd_slug2','Unnamed: 0' ],axis=1, inplace=True) #07.01.19\n",
    "\n",
    "train['price'] = train['price']/100\n",
    "\n",
    "train['morph_description'] = train['morph_description'].fillna('').astype('object')"
   ]
  },
  {
   "cell_type": "code",
   "execution_count": 112,
   "metadata": {
    "collapsed": false
   },
   "outputs": [
    {
     "data": {
      "text/html": [
       "<div>\n",
       "<style scoped>\n",
       "    .dataframe tbody tr th:only-of-type {\n",
       "        vertical-align: middle;\n",
       "    }\n",
       "\n",
       "    .dataframe tbody tr th {\n",
       "        vertical-align: top;\n",
       "    }\n",
       "\n",
       "    .dataframe thead th {\n",
       "        text-align: right;\n",
       "    }\n",
       "</style>\n",
       "<table border=\"1\" class=\"dataframe\">\n",
       "  <thead>\n",
       "    <tr style=\"text-align: right;\">\n",
       "      <th></th>\n",
       "      <th>0</th>\n",
       "      <th>1</th>\n",
       "      <th>2</th>\n",
       "      <th>3</th>\n",
       "      <th>4</th>\n",
       "    </tr>\n",
       "  </thead>\n",
       "  <tbody>\n",
       "    <tr>\n",
       "      <th>id</th>\n",
       "      <td>3edeb34cf93f490ff760af85</td>\n",
       "      <td>c98febd50dad3cc0ffc86085</td>\n",
       "      <td>ade01e13912a46a99134cc75</td>\n",
       "      <td>ab3e6941c11304c1519aef75</td>\n",
       "      <td>252452a91c944a22c276d995</td>\n",
       "    </tr>\n",
       "    <tr>\n",
       "      <th>category</th>\n",
       "      <td>9</td>\n",
       "      <td>22</td>\n",
       "      <td>22</td>\n",
       "      <td>22</td>\n",
       "      <td>22</td>\n",
       "    </tr>\n",
       "    <tr>\n",
       "      <th>subcategory</th>\n",
       "      <td>914</td>\n",
       "      <td>2202</td>\n",
       "      <td>2204</td>\n",
       "      <td>2209</td>\n",
       "      <td>2204</td>\n",
       "    </tr>\n",
       "    <tr>\n",
       "      <th>name</th>\n",
       "      <td>Сумка DG</td>\n",
       "      <td>Комплект</td>\n",
       "      <td>Пальтишко демисезонное</td>\n",
       "      <td>Attipas</td>\n",
       "      <td>Жилет теплый</td>\n",
       "    </tr>\n",
       "    <tr>\n",
       "      <th>description</th>\n",
       "      <td>NaN</td>\n",
       "      <td>8-12 лет</td>\n",
       "      <td>На девочку 1,5 г,состояние хорошее</td>\n",
       "      <td>Размер-135mm, euro-22.5.Прочная, мягкая, не ск...</td>\n",
       "      <td>NaN</td>\n",
       "    </tr>\n",
       "    <tr>\n",
       "      <th>price</th>\n",
       "      <td>1999</td>\n",
       "      <td>350</td>\n",
       "      <td>300</td>\n",
       "      <td>800</td>\n",
       "      <td>500</td>\n",
       "    </tr>\n",
       "    <tr>\n",
       "      <th>fd_name1</th>\n",
       "      <td>Женский гардероб</td>\n",
       "      <td>Детский гардероб</td>\n",
       "      <td>Детский гардероб</td>\n",
       "      <td>Детский гардероб</td>\n",
       "      <td>Детский гардероб</td>\n",
       "    </tr>\n",
       "    <tr>\n",
       "      <th>fd_name2</th>\n",
       "      <td>Аксессуары</td>\n",
       "      <td>Аксессуары</td>\n",
       "      <td>Верхняя одежда</td>\n",
       "      <td>Обувь</td>\n",
       "      <td>Верхняя одежда</td>\n",
       "    </tr>\n",
       "    <tr>\n",
       "      <th>morph_description</th>\n",
       "      <td></td>\n",
       "      <td>год</td>\n",
       "      <td>девочка год состояние хороший</td>\n",
       "      <td>размер прочный мягкий скользящий обувь маленьк...</td>\n",
       "      <td></td>\n",
       "    </tr>\n",
       "    <tr>\n",
       "      <th>morph_name</th>\n",
       "      <td>сумка dg</td>\n",
       "      <td>комплект</td>\n",
       "      <td>пальтишко демисезонный</td>\n",
       "      <td>attipas</td>\n",
       "      <td>жилет тёплый</td>\n",
       "    </tr>\n",
       "  </tbody>\n",
       "</table>\n",
       "</div>"
      ],
      "text/plain": [
       "                                          0                         1  \\\n",
       "id                 3edeb34cf93f490ff760af85  c98febd50dad3cc0ffc86085   \n",
       "category                                  9                        22   \n",
       "subcategory                             914                      2202   \n",
       "name                               Сумка DG                  Комплект   \n",
       "description                             NaN                  8-12 лет   \n",
       "price                                  1999                       350   \n",
       "fd_name1                   Женский гардероб          Детский гардероб   \n",
       "fd_name2                         Аксессуары                Аксессуары   \n",
       "morph_description                                                 год   \n",
       "morph_name                         сумка dg                  комплект   \n",
       "\n",
       "                                                     2  \\\n",
       "id                            ade01e13912a46a99134cc75   \n",
       "category                                            22   \n",
       "subcategory                                       2204   \n",
       "name                            Пальтишко демисезонное   \n",
       "description        На девочку 1,5 г,состояние хорошее    \n",
       "price                                              300   \n",
       "fd_name1                              Детский гардероб   \n",
       "fd_name2                                Верхняя одежда   \n",
       "morph_description        девочка год состояние хороший   \n",
       "morph_name                      пальтишко демисезонный   \n",
       "\n",
       "                                                                   3  \\\n",
       "id                                          ab3e6941c11304c1519aef75   \n",
       "category                                                          22   \n",
       "subcategory                                                     2209   \n",
       "name                                                         Attipas   \n",
       "description        Размер-135mm, euro-22.5.Прочная, мягкая, не ск...   \n",
       "price                                                            800   \n",
       "fd_name1                                            Детский гардероб   \n",
       "fd_name2                                                       Обувь   \n",
       "morph_description  размер прочный мягкий скользящий обувь маленьк...   \n",
       "morph_name                                                   attipas   \n",
       "\n",
       "                                          4  \n",
       "id                 252452a91c944a22c276d995  \n",
       "category                                 22  \n",
       "subcategory                            2204  \n",
       "name                           Жилет теплый  \n",
       "description                             NaN  \n",
       "price                                   500  \n",
       "fd_name1                   Детский гардероб  \n",
       "fd_name2                     Верхняя одежда  \n",
       "morph_description                            \n",
       "morph_name                     жилет тёплый  "
      ]
     },
     "execution_count": 112,
     "metadata": {},
     "output_type": "execute_result"
    }
   ],
   "source": [
    "train.head().T"
   ]
  },
  {
   "cell_type": "code",
   "execution_count": 70,
   "metadata": {
    "collapsed": true
   },
   "outputs": [],
   "source": [
    "from sklearn.compose import ColumnTransformer\n",
    "from sklearn.base import BaseEstimator, TransformerMixin"
   ]
  },
  {
   "cell_type": "code",
   "execution_count": 71,
   "metadata": {
    "collapsed": true
   },
   "outputs": [],
   "source": [
    "from sklearn.preprocessing import LabelBinarizer, OneHotEncoder, StandardScaler\n",
    "from sklearn.pipeline import Pipeline, FeatureUnion"
   ]
  },
  {
   "cell_type": "markdown",
   "metadata": {},
   "source": [
    " Зададим селектор"
   ]
  },
  {
   "cell_type": "code",
   "execution_count": 72,
   "metadata": {
    "collapsed": true
   },
   "outputs": [],
   "source": [
    "class ColumnSelector(BaseEstimator, TransformerMixin):\n",
    "    def __init__(self, attribute_names):\n",
    "        self.attribute_names = attribute_names\n",
    "    def fit(self, X_, y=None): # \n",
    "        return self\n",
    "    def transform(self, X_):\n",
    "        return X_.loc[:, self.attribute_names].values # "
   ]
  },
  {
   "cell_type": "code",
   "execution_count": 73,
   "metadata": {
    "collapsed": true
   },
   "outputs": [],
   "source": [
    "class DenseTransformer(BaseEstimator,TransformerMixin):\n",
    "\n",
    "    def transform(self, X, y=None, **fit_params):\n",
    "        #return X.todense()\n",
    "        return X.toarray()\n",
    "\n",
    "    def fit_transform(self, X, y=None, **fit_params):\n",
    "        self.fit(X, y, **fit_params)\n",
    "        return self.transform(X)\n",
    "\n",
    "    def fit(self, X, y=None, **fit_params):\n",
    "        return self"
   ]
  },
  {
   "cell_type": "markdown",
   "metadata": {},
   "source": [
    "Зададим списки столбцов"
   ]
  },
  {
   "cell_type": "code",
   "execution_count": 109,
   "metadata": {
    "collapsed": false
   },
   "outputs": [
    {
     "name": "stdout",
     "output_type": "stream",
     "text": [
      "num_cat_columns : ['category', 'subcategory']\n",
      "tfidf_columns   : ['morph_description', 'morph_name']\n",
      "Остаток         : ['name', 'fd_name2', 'fd_name1', 'id', 'description', 'morph_name_2']\n"
     ]
    }
   ],
   "source": [
    "# получим список столбцов \n",
    "full_columns_list = list(train) \n",
    "\n",
    "# список числовых категориальных столбцов\n",
    "num_cat_columns = full_columns_list[1:3] # ['category', 'subcategory']\n",
    "\n",
    "# целвое значение\n",
    "target = ['price']\n",
    "print('num_cat_columns :',num_cat_columns)\n",
    "print('tfidf_columns   :',tfidf_columns)\n",
    "\n",
    "other = list(set(full_columns_list) - set(num_cat_columns)  - set(tfidf_columns) - set(target))\n",
    "print('Остаток         :', other)"
   ]
  },
  {
   "cell_type": "markdown",
   "metadata": {},
   "source": [
    "<font color=\"magenta\" size=\"5\">CatBoost.</font><br> \n"
   ]
  },
  {
   "cell_type": "code",
   "execution_count": 76,
   "metadata": {
    "collapsed": true
   },
   "outputs": [],
   "source": [
    "from catboost import CatBoostClassifier\n",
    "catbost_model = CatBoostClassifier(depth = 5, num_trees=150, learning_rate = 0.11,verbose=False)"
   ]
  },
  {
   "cell_type": "code",
   "execution_count": 87,
   "metadata": {
    "collapsed": false
   },
   "outputs": [],
   "source": [
    "model = Pipeline([  \n",
    "('selector', ColumnSelector(num_cat_columns)), # определим категориальные числовые столбцы: ['category', 'subcategory']\n",
    "('OHE', OneHotEncoder()),\n",
    "('denser',DenseTransformer()),\n",
    "('catbost', catbost_model)\n",
    "])"
   ]
  },
  {
   "cell_type": "markdown",
   "metadata": {},
   "source": [
    "  "
   ]
  },
  {
   "cell_type": "code",
   "execution_count": 81,
   "metadata": {
    "collapsed": false
   },
   "outputs": [],
   "source": [
    "y = train['price']\n",
    "X_train = train.iloc[:1000000,:]\n",
    "y_train = y.iloc[:1000000]\n",
    "\n",
    "X_test = train.iloc[1000000:,:]\n",
    "y_test = y.iloc[1000000:]"
   ]
  },
  {
   "cell_type": "code",
   "execution_count": 83,
   "metadata": {
    "collapsed": false
   },
   "outputs": [
    {
     "name": "stdout",
     "output_type": "stream",
     "text": [
      "(1000000, 11)\n",
      "(1000000,)\n"
     ]
    }
   ],
   "source": [
    "print(X_train.shape)\n",
    "print(y_train.shape)"
   ]
  },
  {
   "cell_type": "code",
   "execution_count": 88,
   "metadata": {
    "collapsed": false,
    "scrolled": false
   },
   "outputs": [
    {
     "name": "stderr",
     "output_type": "stream",
     "text": [
      "/home/vladimirpolanski6/anaconda3/lib/python3.5/site-packages/sklearn/preprocessing/_encoders.py:363: FutureWarning: The handling of integer data will change in version 0.22. Currently, the categories are determined based on the range [0, max(values)], while in the future they will be determined based on the unique values.\n",
      "If you want the future behaviour and silence this warning, you can specify \"categories='auto'\".\n",
      "In case you used a LabelEncoder before this OneHotEncoder to convert the categories to integers, then you can now use the OneHotEncoder directly.\n",
      "  warnings.warn(msg, FutureWarning)\n"
     ]
    },
    {
     "name": "stdout",
     "output_type": "stream",
     "text": [
      "CPU times: user 6min 57s, sys: 12.5 s, total: 7min 9s\n",
      "Wall time: 1min 30s\n"
     ]
    },
    {
     "data": {
      "text/plain": [
       "Pipeline(memory=None,\n",
       "     steps=[('selector', ColumnSelector(attribute_names=['category', 'subcategory'])), ('OHE', OneHotEncoder(categorical_features=None, categories=None,\n",
       "       dtype=<class 'numpy.float64'>, handle_unknown='error',\n",
       "       n_values='auto', sparse=True)), ('denser', DenseTransformer()), ('catbost', <catboost.core.CatBoostClassifier object at 0x7f0e58b6a5c0>)])"
      ]
     },
     "execution_count": 88,
     "metadata": {},
     "output_type": "execute_result"
    }
   ],
   "source": [
    "%%time \n",
    "model.fit(X_train, np.log(y_train+1))"
   ]
  },
  {
   "cell_type": "code",
   "execution_count": 89,
   "metadata": {
    "collapsed": false
   },
   "outputs": [
    {
     "data": {
      "text/plain": [
       "(748890,)"
      ]
     },
     "execution_count": 89,
     "metadata": {},
     "output_type": "execute_result"
    }
   ],
   "source": [
    "y_hat_log = model.predict(X_test)\n",
    "y_hat_log.shape"
   ]
  },
  {
   "cell_type": "code",
   "execution_count": 90,
   "metadata": {
    "collapsed": true
   },
   "outputs": [],
   "source": [
    "y_hat = np.exp(y_hat_log)-1"
   ]
  },
  {
   "cell_type": "code",
   "execution_count": 91,
   "metadata": {
    "collapsed": false
   },
   "outputs": [],
   "source": [
    "from sklearn.metrics import mean_absolute_error\n",
    "from sklearn.metrics import mean_squared_log_error "
   ]
  },
  {
   "cell_type": "code",
   "execution_count": 93,
   "metadata": {
    "collapsed": false
   },
   "outputs": [
    {
     "name": "stdout",
     "output_type": "stream",
     "text": [
      "317705.64384058473\n"
     ]
    }
   ],
   "source": [
    "print(mean_absolute_error(y_test,y_hat))\n",
    "#print(mean_squared_log_error(y_test,y_hat))"
   ]
  },
  {
   "cell_type": "code",
   "execution_count": 100,
   "metadata": {
    "collapsed": false
   },
   "outputs": [],
   "source": [
    "y_test_df = pd.DataFrame(y_test)\n",
    "y_hat_df = pd.DataFrame(y_hat, index=range(1000000,len(y_hat)+1000000))"
   ]
  },
  {
   "cell_type": "code",
   "execution_count": 105,
   "metadata": {
    "collapsed": false
   },
   "outputs": [
    {
     "name": "stdout",
     "output_type": "stream",
     "text": [
      "(748890, 1)\n",
      "(748890, 1)\n"
     ]
    }
   ],
   "source": [
    "print(y_hat_df.shape)\n",
    "print(y_test_df.shape)"
   ]
  },
  {
   "cell_type": "code",
   "execution_count": 106,
   "metadata": {
    "collapsed": false
   },
   "outputs": [
    {
     "data": {
      "text/html": [
       "<div>\n",
       "<style scoped>\n",
       "    .dataframe tbody tr th:only-of-type {\n",
       "        vertical-align: middle;\n",
       "    }\n",
       "\n",
       "    .dataframe tbody tr th {\n",
       "        vertical-align: top;\n",
       "    }\n",
       "\n",
       "    .dataframe thead th {\n",
       "        text-align: right;\n",
       "    }\n",
       "</style>\n",
       "<table border=\"1\" class=\"dataframe\">\n",
       "  <thead>\n",
       "    <tr style=\"text-align: right;\">\n",
       "      <th></th>\n",
       "      <th>price</th>\n",
       "    </tr>\n",
       "  </thead>\n",
       "  <tbody>\n",
       "    <tr>\n",
       "      <th>1000000</th>\n",
       "      <td>3000.0</td>\n",
       "    </tr>\n",
       "    <tr>\n",
       "      <th>1000001</th>\n",
       "      <td>120.0</td>\n",
       "    </tr>\n",
       "    <tr>\n",
       "      <th>1000002</th>\n",
       "      <td>500.0</td>\n",
       "    </tr>\n",
       "    <tr>\n",
       "      <th>1000003</th>\n",
       "      <td>12000.0</td>\n",
       "    </tr>\n",
       "    <tr>\n",
       "      <th>1000004</th>\n",
       "      <td>0.0</td>\n",
       "    </tr>\n",
       "  </tbody>\n",
       "</table>\n",
       "</div>"
      ],
      "text/plain": [
       "           price\n",
       "1000000   3000.0\n",
       "1000001    120.0\n",
       "1000002    500.0\n",
       "1000003  12000.0\n",
       "1000004      0.0"
      ]
     },
     "execution_count": 106,
     "metadata": {},
     "output_type": "execute_result"
    }
   ],
   "source": [
    "y_test_df.head()"
   ]
  },
  {
   "cell_type": "code",
   "execution_count": 108,
   "metadata": {
    "collapsed": false,
    "scrolled": true
   },
   "outputs": [
    {
     "data": {
      "text/html": [
       "<div>\n",
       "<style scoped>\n",
       "    .dataframe tbody tr th:only-of-type {\n",
       "        vertical-align: middle;\n",
       "    }\n",
       "\n",
       "    .dataframe tbody tr th {\n",
       "        vertical-align: top;\n",
       "    }\n",
       "\n",
       "    .dataframe thead th {\n",
       "        text-align: right;\n",
       "    }\n",
       "</style>\n",
       "<table border=\"1\" class=\"dataframe\">\n",
       "  <thead>\n",
       "    <tr style=\"text-align: right;\">\n",
       "      <th></th>\n",
       "      <th>0</th>\n",
       "    </tr>\n",
       "  </thead>\n",
       "  <tbody>\n",
       "    <tr>\n",
       "      <th>1000000</th>\n",
       "      <td>1.718282</td>\n",
       "    </tr>\n",
       "    <tr>\n",
       "      <th>1000001</th>\n",
       "      <td>1.718282</td>\n",
       "    </tr>\n",
       "    <tr>\n",
       "      <th>1000002</th>\n",
       "      <td>1.718282</td>\n",
       "    </tr>\n",
       "    <tr>\n",
       "      <th>1000003</th>\n",
       "      <td>1.718282</td>\n",
       "    </tr>\n",
       "    <tr>\n",
       "      <th>1000004</th>\n",
       "      <td>1.718282</td>\n",
       "    </tr>\n",
       "    <tr>\n",
       "      <th>1000005</th>\n",
       "      <td>1.718282</td>\n",
       "    </tr>\n",
       "    <tr>\n",
       "      <th>1000006</th>\n",
       "      <td>1.718282</td>\n",
       "    </tr>\n",
       "    <tr>\n",
       "      <th>1000007</th>\n",
       "      <td>1.718282</td>\n",
       "    </tr>\n",
       "    <tr>\n",
       "      <th>1000008</th>\n",
       "      <td>1.718282</td>\n",
       "    </tr>\n",
       "    <tr>\n",
       "      <th>1000009</th>\n",
       "      <td>1.718282</td>\n",
       "    </tr>\n",
       "    <tr>\n",
       "      <th>1000010</th>\n",
       "      <td>1.718282</td>\n",
       "    </tr>\n",
       "    <tr>\n",
       "      <th>1000011</th>\n",
       "      <td>1.718282</td>\n",
       "    </tr>\n",
       "    <tr>\n",
       "      <th>1000012</th>\n",
       "      <td>1.718282</td>\n",
       "    </tr>\n",
       "    <tr>\n",
       "      <th>1000013</th>\n",
       "      <td>1.718282</td>\n",
       "    </tr>\n",
       "    <tr>\n",
       "      <th>1000014</th>\n",
       "      <td>1.718282</td>\n",
       "    </tr>\n",
       "    <tr>\n",
       "      <th>1000015</th>\n",
       "      <td>1.718282</td>\n",
       "    </tr>\n",
       "    <tr>\n",
       "      <th>1000016</th>\n",
       "      <td>1.718282</td>\n",
       "    </tr>\n",
       "    <tr>\n",
       "      <th>1000017</th>\n",
       "      <td>1.718282</td>\n",
       "    </tr>\n",
       "    <tr>\n",
       "      <th>1000018</th>\n",
       "      <td>1.718282</td>\n",
       "    </tr>\n",
       "    <tr>\n",
       "      <th>1000019</th>\n",
       "      <td>1.718282</td>\n",
       "    </tr>\n",
       "    <tr>\n",
       "      <th>1000020</th>\n",
       "      <td>1.718282</td>\n",
       "    </tr>\n",
       "    <tr>\n",
       "      <th>1000021</th>\n",
       "      <td>1.718282</td>\n",
       "    </tr>\n",
       "    <tr>\n",
       "      <th>1000022</th>\n",
       "      <td>1.718282</td>\n",
       "    </tr>\n",
       "    <tr>\n",
       "      <th>1000023</th>\n",
       "      <td>1.718282</td>\n",
       "    </tr>\n",
       "    <tr>\n",
       "      <th>1000024</th>\n",
       "      <td>1.718282</td>\n",
       "    </tr>\n",
       "    <tr>\n",
       "      <th>1000025</th>\n",
       "      <td>1.718282</td>\n",
       "    </tr>\n",
       "    <tr>\n",
       "      <th>1000026</th>\n",
       "      <td>1.718282</td>\n",
       "    </tr>\n",
       "    <tr>\n",
       "      <th>1000027</th>\n",
       "      <td>1.718282</td>\n",
       "    </tr>\n",
       "    <tr>\n",
       "      <th>1000028</th>\n",
       "      <td>1.718282</td>\n",
       "    </tr>\n",
       "    <tr>\n",
       "      <th>1000029</th>\n",
       "      <td>1.718282</td>\n",
       "    </tr>\n",
       "    <tr>\n",
       "      <th>1000030</th>\n",
       "      <td>1.718282</td>\n",
       "    </tr>\n",
       "    <tr>\n",
       "      <th>1000031</th>\n",
       "      <td>1.718282</td>\n",
       "    </tr>\n",
       "    <tr>\n",
       "      <th>1000032</th>\n",
       "      <td>1.718282</td>\n",
       "    </tr>\n",
       "    <tr>\n",
       "      <th>1000033</th>\n",
       "      <td>1.718282</td>\n",
       "    </tr>\n",
       "    <tr>\n",
       "      <th>1000034</th>\n",
       "      <td>1.718282</td>\n",
       "    </tr>\n",
       "    <tr>\n",
       "      <th>1000035</th>\n",
       "      <td>1.718282</td>\n",
       "    </tr>\n",
       "    <tr>\n",
       "      <th>1000036</th>\n",
       "      <td>1.718282</td>\n",
       "    </tr>\n",
       "    <tr>\n",
       "      <th>1000037</th>\n",
       "      <td>1.718282</td>\n",
       "    </tr>\n",
       "    <tr>\n",
       "      <th>1000038</th>\n",
       "      <td>1.718282</td>\n",
       "    </tr>\n",
       "    <tr>\n",
       "      <th>1000039</th>\n",
       "      <td>1.718282</td>\n",
       "    </tr>\n",
       "    <tr>\n",
       "      <th>1000040</th>\n",
       "      <td>1.718282</td>\n",
       "    </tr>\n",
       "    <tr>\n",
       "      <th>1000041</th>\n",
       "      <td>1.718282</td>\n",
       "    </tr>\n",
       "    <tr>\n",
       "      <th>1000042</th>\n",
       "      <td>1.718282</td>\n",
       "    </tr>\n",
       "    <tr>\n",
       "      <th>1000043</th>\n",
       "      <td>1.718282</td>\n",
       "    </tr>\n",
       "    <tr>\n",
       "      <th>1000044</th>\n",
       "      <td>1.718282</td>\n",
       "    </tr>\n",
       "    <tr>\n",
       "      <th>1000045</th>\n",
       "      <td>1.718282</td>\n",
       "    </tr>\n",
       "    <tr>\n",
       "      <th>1000046</th>\n",
       "      <td>1.718282</td>\n",
       "    </tr>\n",
       "    <tr>\n",
       "      <th>1000047</th>\n",
       "      <td>1.718282</td>\n",
       "    </tr>\n",
       "    <tr>\n",
       "      <th>1000048</th>\n",
       "      <td>1.718282</td>\n",
       "    </tr>\n",
       "    <tr>\n",
       "      <th>1000049</th>\n",
       "      <td>1.718282</td>\n",
       "    </tr>\n",
       "  </tbody>\n",
       "</table>\n",
       "</div>"
      ],
      "text/plain": [
       "                0\n",
       "1000000  1.718282\n",
       "1000001  1.718282\n",
       "1000002  1.718282\n",
       "1000003  1.718282\n",
       "1000004  1.718282\n",
       "1000005  1.718282\n",
       "1000006  1.718282\n",
       "1000007  1.718282\n",
       "1000008  1.718282\n",
       "1000009  1.718282\n",
       "1000010  1.718282\n",
       "1000011  1.718282\n",
       "1000012  1.718282\n",
       "1000013  1.718282\n",
       "1000014  1.718282\n",
       "1000015  1.718282\n",
       "1000016  1.718282\n",
       "1000017  1.718282\n",
       "1000018  1.718282\n",
       "1000019  1.718282\n",
       "1000020  1.718282\n",
       "1000021  1.718282\n",
       "1000022  1.718282\n",
       "1000023  1.718282\n",
       "1000024  1.718282\n",
       "1000025  1.718282\n",
       "1000026  1.718282\n",
       "1000027  1.718282\n",
       "1000028  1.718282\n",
       "1000029  1.718282\n",
       "1000030  1.718282\n",
       "1000031  1.718282\n",
       "1000032  1.718282\n",
       "1000033  1.718282\n",
       "1000034  1.718282\n",
       "1000035  1.718282\n",
       "1000036  1.718282\n",
       "1000037  1.718282\n",
       "1000038  1.718282\n",
       "1000039  1.718282\n",
       "1000040  1.718282\n",
       "1000041  1.718282\n",
       "1000042  1.718282\n",
       "1000043  1.718282\n",
       "1000044  1.718282\n",
       "1000045  1.718282\n",
       "1000046  1.718282\n",
       "1000047  1.718282\n",
       "1000048  1.718282\n",
       "1000049  1.718282"
      ]
     },
     "execution_count": 108,
     "metadata": {},
     "output_type": "execute_result"
    }
   ],
   "source": [
    "y_hat_df.head(50)"
   ]
  },
  {
   "cell_type": "code",
   "execution_count": null,
   "metadata": {
    "collapsed": false
   },
   "outputs": [],
   "source": [
    "# объединим предсказанную часть трейна, цену и предсказанную цену\n",
    "train_predicted = pd.concat([train__, y_hat_df], axis=1)"
   ]
  },
  {
   "cell_type": "code",
   "execution_count": null,
   "metadata": {
    "collapsed": false
   },
   "outputs": [],
   "source": [
    "train_predicted.head(50)"
   ]
  },
  {
   "cell_type": "code",
   "execution_count": null,
   "metadata": {
    "collapsed": false
   },
   "outputs": [],
   "source": [
    "train_predicted.shape"
   ]
  }
 ],
 "metadata": {
  "kernelspec": {
   "display_name": "Python 3",
   "language": "python",
   "name": "python3"
  },
  "language_info": {
   "codemirror_mode": {
    "name": "ipython",
    "version": 3
   },
   "file_extension": ".py",
   "mimetype": "text/x-python",
   "name": "python",
   "nbconvert_exporter": "python",
   "pygments_lexer": "ipython3",
   "version": "3.5.6"
  }
 },
 "nbformat": 4,
 "nbformat_minor": 2
}
