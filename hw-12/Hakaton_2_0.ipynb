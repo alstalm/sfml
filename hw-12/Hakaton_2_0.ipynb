{
 "cells": [
  {
   "cell_type": "code",
   "execution_count": 2,
   "metadata": {},
   "outputs": [],
   "source": [
    "import pandas as pd\n",
    "import json  "
   ]
  },
  {
   "cell_type": "code",
   "execution_count": 3,
   "metadata": {},
   "outputs": [
    {
     "name": "stderr",
     "output_type": "stream",
     "text": [
      "c:\\users\\nikolay\\anaconda3\\envs\\tensorflowenv\\lib\\site-packages\\numpy\\lib\\arraysetops.py:522: FutureWarning: elementwise comparison failed; returning scalar instead, but in the future will perform elementwise comparison\n",
      "  mask |= (ar1 == a)\n"
     ]
    },
    {
     "data": {
      "text/html": [
       "<div>\n",
       "<style scoped>\n",
       "    .dataframe tbody tr th:only-of-type {\n",
       "        vertical-align: middle;\n",
       "    }\n",
       "\n",
       "    .dataframe tbody tr th {\n",
       "        vertical-align: top;\n",
       "    }\n",
       "\n",
       "    .dataframe thead th {\n",
       "        text-align: right;\n",
       "    }\n",
       "</style>\n",
       "<table border=\"1\" class=\"dataframe\">\n",
       "  <thead>\n",
       "    <tr style=\"text-align: right;\">\n",
       "      <th></th>\n",
       "      <th>id</th>\n",
       "      <th>category</th>\n",
       "      <th>subcategory</th>\n",
       "    </tr>\n",
       "  </thead>\n",
       "  <tbody>\n",
       "    <tr>\n",
       "      <th>0</th>\n",
       "      <td>3edeb34cf93f490ff760af85</td>\n",
       "      <td>9</td>\n",
       "      <td>914</td>\n",
       "    </tr>\n",
       "    <tr>\n",
       "      <th>1</th>\n",
       "      <td>c98febd50dad3cc0ffc86085</td>\n",
       "      <td>22</td>\n",
       "      <td>2202</td>\n",
       "    </tr>\n",
       "    <tr>\n",
       "      <th>2</th>\n",
       "      <td>ade01e13912a46a99134cc75</td>\n",
       "      <td>22</td>\n",
       "      <td>2204</td>\n",
       "    </tr>\n",
       "    <tr>\n",
       "      <th>3</th>\n",
       "      <td>ab3e6941c11304c1519aef75</td>\n",
       "      <td>22</td>\n",
       "      <td>2209</td>\n",
       "    </tr>\n",
       "    <tr>\n",
       "      <th>5</th>\n",
       "      <td>252452a91c944a22c276d995</td>\n",
       "      <td>22</td>\n",
       "      <td>2204</td>\n",
       "    </tr>\n",
       "  </tbody>\n",
       "</table>\n",
       "</div>"
      ],
      "text/plain": [
       "                         id  category  subcategory\n",
       "0  3edeb34cf93f490ff760af85         9          914\n",
       "1  c98febd50dad3cc0ffc86085        22         2202\n",
       "2  ade01e13912a46a99134cc75        22         2204\n",
       "3  ab3e6941c11304c1519aef75        22         2209\n",
       "5  252452a91c944a22c276d995        22         2204"
      ]
     },
     "execution_count": 3,
     "metadata": {},
     "output_type": "execute_result"
    }
   ],
   "source": [
    "# прочитаем train_2_col.csv\n",
    "train_4_col_2 = pd.read_csv('train_4_col_2.csv', sep='\\t',index_col = 0)\n",
    "train_4_col_2_small = train_4_col_2.head(100)\n",
    "train_4_col_2_small.head()"
   ]
  },
  {
   "cell_type": "code",
   "execution_count": 4,
   "metadata": {},
   "outputs": [
    {
     "data": {
      "text/html": [
       "<div>\n",
       "<style scoped>\n",
       "    .dataframe tbody tr th:only-of-type {\n",
       "        vertical-align: middle;\n",
       "    }\n",
       "\n",
       "    .dataframe tbody tr th {\n",
       "        vertical-align: top;\n",
       "    }\n",
       "\n",
       "    .dataframe thead th {\n",
       "        text-align: right;\n",
       "    }\n",
       "</style>\n",
       "<table border=\"1\" class=\"dataframe\">\n",
       "  <thead>\n",
       "    <tr style=\"text-align: right;\">\n",
       "      <th></th>\n",
       "      <th>id</th>\n",
       "      <th>fields</th>\n",
       "    </tr>\n",
       "  </thead>\n",
       "  <tbody>\n",
       "    <tr>\n",
       "      <th>0</th>\n",
       "      <td>3edeb34cf93f490ff760af85</td>\n",
       "      <td>[{'field': {'name': 'Женский гардероб', 'id': ...</td>\n",
       "    </tr>\n",
       "    <tr>\n",
       "      <th>1</th>\n",
       "      <td>c98febd50dad3cc0ffc86085</td>\n",
       "      <td>[{'field': {'name': 'Детский гардероб', 'id': ...</td>\n",
       "    </tr>\n",
       "    <tr>\n",
       "      <th>2</th>\n",
       "      <td>ade01e13912a46a99134cc75</td>\n",
       "      <td>[{'field': {'name': 'Детский гардероб', 'id': ...</td>\n",
       "    </tr>\n",
       "    <tr>\n",
       "      <th>3</th>\n",
       "      <td>ab3e6941c11304c1519aef75</td>\n",
       "      <td>[{'field': {'name': 'Детский гардероб', 'id': ...</td>\n",
       "    </tr>\n",
       "    <tr>\n",
       "      <th>5</th>\n",
       "      <td>252452a91c944a22c276d995</td>\n",
       "      <td>[{'field': {'name': 'Детский гардероб', 'id': ...</td>\n",
       "    </tr>\n",
       "  </tbody>\n",
       "</table>\n",
       "</div>"
      ],
      "text/plain": [
       "                         id                                             fields\n",
       "0  3edeb34cf93f490ff760af85  [{'field': {'name': 'Женский гардероб', 'id': ...\n",
       "1  c98febd50dad3cc0ffc86085  [{'field': {'name': 'Детский гардероб', 'id': ...\n",
       "2  ade01e13912a46a99134cc75  [{'field': {'name': 'Детский гардероб', 'id': ...\n",
       "3  ab3e6941c11304c1519aef75  [{'field': {'name': 'Детский гардероб', 'id': ...\n",
       "5  252452a91c944a22c276d995  [{'field': {'name': 'Детский гардероб', 'id': ..."
      ]
     },
     "execution_count": 4,
     "metadata": {},
     "output_type": "execute_result"
    }
   ],
   "source": [
    "# прочитаем train_4_col_3 .csv\n",
    "train_4_col_3 = pd.read_csv('train_4_col_3.csv', sep='\\t',index_col = 0)\n",
    "train_4_col_3_small = train_4_col_3.head(100)\n",
    "train_4_col_3_small.head()"
   ]
  },
  {
   "cell_type": "code",
   "execution_count": null,
   "metadata": {},
   "outputs": [],
   "source": [
    "# прочитаем train_4_col.csv\n",
    "train_4_col = pd.read_csv('train_4_col.csv', sep='\\t',index_col = 0)\n",
    "train_4_col_small = train_4_col.head(100)\n",
    "train_4_col_small.head()"
   ]
  },
  {
   "cell_type": "markdown",
   "metadata": {},
   "source": [
    "<p>Объединим маленькие датафреймы\n",
    "Внимание!!! чтобы объединились полные датафреймы - надо убрать окончание \"_small\" в ячейке ниже. Далее будет использовано название train. После объединения полных датафреймов это название менять не надо.</p>"
   ]
  },
  {
   "cell_type": "code",
   "execution_count": null,
   "metadata": {},
   "outputs": [],
   "source": [
    "train = train_4_col_3.merge(train_4_col_2, on='id', how='left').merge(train_4_col, on='id', how='left')\n",
    "train.head(2).T"
   ]
  },
  {
   "cell_type": "code",
   "execution_count": null,
   "metadata": {},
   "outputs": [],
   "source": [
    "# Функция, которая извлекает значений ключей из поля \"fields\"\n",
    "def valextractor(field, key1=0, key2='name'):\n",
    "    try:\n",
    "        value = eval(field[1:-1])[key1]['field'][key2]\n",
    "    except:\n",
    "        value = ''\n",
    "    return value"
   ]
  },
  {
   "cell_type": "code",
   "execution_count": null,
   "metadata": {},
   "outputs": [],
   "source": [
    "# функция, которая доавляет новые категории\n",
    "def getcat(df):\n",
    "    df_ = df.copy()\n",
    "    df_['fd_name1'] = df_['fields'].apply(lambda x: (valextractor(x, key1=0,key2='name')))\n",
    "    df_['fd_name2'] = df_['fields'].apply(lambda x: (valextractor(x, key1=1,key2='name')))\n",
    "    df_['fd_id1'] = df_['fields'].apply(lambda x: (valextractor(x, key1=0,key2='id')))\n",
    "    df_['fd_id2'] = df_['fields'].apply(lambda x: (valextractor(x, key1=1,key2='id')))\n",
    "    df_['fd_slug1'] = df_['fields'].apply(lambda x: (valextractor(x, key1=0,key2='slug')))\n",
    "    df_['fd_slug2'] = df_['fields'].apply(lambda x: (valextractor(x, key1=1,key2='slug')))\n",
    "    df_['fd_slug_id1'] = df_['fields'].apply(lambda x: (valextractor(x, key1=0,key2='slug_id')))\n",
    "    df_['fd_slug_id2'] = df_['fields'].apply(lambda x: (valextractor(x, key1=1,key2='slug_id')))\n",
    "    return df_"
   ]
  },
  {
   "cell_type": "code",
   "execution_count": null,
   "metadata": {},
   "outputs": [],
   "source": [
    "train_temp = train.pipe(getcat)"
   ]
  },
  {
   "cell_type": "code",
   "execution_count": null,
   "metadata": {},
   "outputs": [],
   "source": [
    "# удалим задублированные столбцы\n",
    "train_temp.drop(columns=['fd_id1','fd_id2','fields' ],axis=1, inplace=True)\n",
    "train_temp.head(50).T"
   ]
  },
  {
   "cell_type": "code",
   "execution_count": null,
   "metadata": {},
   "outputs": [],
   "source": [
    "#write to the file\n",
    "#train_temp.to_csv('generated_data/train.csv')"
   ]
  },
  {
   "cell_type": "code",
   "execution_count": 5,
   "metadata": {},
   "outputs": [],
   "source": [
    "#download already prepared data\n",
    "train_temp = pd.read_csv('generated_data/train.csv', index_col = 0)"
   ]
  },
  {
   "cell_type": "code",
   "execution_count": 6,
   "metadata": {},
   "outputs": [
    {
     "data": {
      "text/html": [
       "<div>\n",
       "<style scoped>\n",
       "    .dataframe tbody tr th:only-of-type {\n",
       "        vertical-align: middle;\n",
       "    }\n",
       "\n",
       "    .dataframe tbody tr th {\n",
       "        vertical-align: top;\n",
       "    }\n",
       "\n",
       "    .dataframe thead th {\n",
       "        text-align: right;\n",
       "    }\n",
       "</style>\n",
       "<table border=\"1\" class=\"dataframe\">\n",
       "  <thead>\n",
       "    <tr style=\"text-align: right;\">\n",
       "      <th></th>\n",
       "      <th>0</th>\n",
       "      <th>1</th>\n",
       "      <th>2</th>\n",
       "      <th>3</th>\n",
       "      <th>4</th>\n",
       "      <th>5</th>\n",
       "      <th>6</th>\n",
       "      <th>7</th>\n",
       "      <th>8</th>\n",
       "      <th>9</th>\n",
       "      <th>...</th>\n",
       "      <th>1748880</th>\n",
       "      <th>1748881</th>\n",
       "      <th>1748882</th>\n",
       "      <th>1748883</th>\n",
       "      <th>1748884</th>\n",
       "      <th>1748885</th>\n",
       "      <th>1748886</th>\n",
       "      <th>1748887</th>\n",
       "      <th>1748888</th>\n",
       "      <th>1748889</th>\n",
       "    </tr>\n",
       "  </thead>\n",
       "  <tbody>\n",
       "    <tr>\n",
       "      <th>id</th>\n",
       "      <td>3edeb34cf93f490ff760af85</td>\n",
       "      <td>c98febd50dad3cc0ffc86085</td>\n",
       "      <td>ade01e13912a46a99134cc75</td>\n",
       "      <td>ab3e6941c11304c1519aef75</td>\n",
       "      <td>252452a91c944a22c276d995</td>\n",
       "      <td>364f7659a4e9ba6c53e35495</td>\n",
       "      <td>c3d87065e4dbc080f400bb85</td>\n",
       "      <td>22e6a518d53f490f6ce7fd85</td>\n",
       "      <td>c6bd550b7f1304c1f7fda485</td>\n",
       "      <td>117b885a3cf9554042ae2285</td>\n",
       "      <td>...</td>\n",
       "      <td>97ee729c6b6b083a05e14995</td>\n",
       "      <td>3e37e6d8bc70bf66f2ca7495</td>\n",
       "      <td>8d403112ca9e2db5ce63d885</td>\n",
       "      <td>2ccac518d420532f256f4595</td>\n",
       "      <td>60ea05f603ff162bd4260195</td>\n",
       "      <td>2460206aa90c63db4475fe85</td>\n",
       "      <td>36f2465b7a5402fcdb8dd595</td>\n",
       "      <td>3cd221a6921fcb56e2dfcd85</td>\n",
       "      <td>40756707daff162bfe68d195</td>\n",
       "      <td>3cddf37632e395c29d764095</td>\n",
       "    </tr>\n",
       "    <tr>\n",
       "      <th>category</th>\n",
       "      <td>9</td>\n",
       "      <td>22</td>\n",
       "      <td>22</td>\n",
       "      <td>22</td>\n",
       "      <td>22</td>\n",
       "      <td>9</td>\n",
       "      <td>15</td>\n",
       "      <td>4</td>\n",
       "      <td>3</td>\n",
       "      <td>2</td>\n",
       "      <td>...</td>\n",
       "      <td>2</td>\n",
       "      <td>12</td>\n",
       "      <td>9</td>\n",
       "      <td>9</td>\n",
       "      <td>20</td>\n",
       "      <td>8</td>\n",
       "      <td>4</td>\n",
       "      <td>15</td>\n",
       "      <td>14</td>\n",
       "      <td>12</td>\n",
       "    </tr>\n",
       "    <tr>\n",
       "      <th>subcategory</th>\n",
       "      <td>914</td>\n",
       "      <td>2202</td>\n",
       "      <td>2204</td>\n",
       "      <td>2209</td>\n",
       "      <td>2204</td>\n",
       "      <td>902</td>\n",
       "      <td>1508</td>\n",
       "      <td>403</td>\n",
       "      <td>301</td>\n",
       "      <td>208</td>\n",
       "      <td>...</td>\n",
       "      <td>208</td>\n",
       "      <td>1202</td>\n",
       "      <td>904</td>\n",
       "      <td>921</td>\n",
       "      <td>2004</td>\n",
       "      <td>803</td>\n",
       "      <td>406</td>\n",
       "      <td>1507</td>\n",
       "      <td>1403</td>\n",
       "      <td>1202</td>\n",
       "    </tr>\n",
       "    <tr>\n",
       "      <th>name</th>\n",
       "      <td>Сумка DG</td>\n",
       "      <td>Комплект</td>\n",
       "      <td>Пальтишко демисезонное</td>\n",
       "      <td>Attipas</td>\n",
       "      <td>Жилет теплый</td>\n",
       "      <td>Босоножки, сабо</td>\n",
       "      <td>Жесткий диск для ноутбука Seagate 320gb</td>\n",
       "      <td>Ковер 324 на 240</td>\n",
       "      <td>Кенгуру</td>\n",
       "      <td>Машинка автомат</td>\n",
       "      <td>...</td>\n",
       "      <td>Стиральная машинка индезит</td>\n",
       "      <td>Айфон 6 64</td>\n",
       "      <td>Короткое чёрное платье!</td>\n",
       "      <td>Новый купальник</td>\n",
       "      <td>Участок, до 6 сот., сельхоз (снт или днп)</td>\n",
       "      <td>Кожаная куртка (лайка)</td>\n",
       "      <td>Фикус</td>\n",
       "      <td>Мышка беспроводная</td>\n",
       "      <td>Парфюм</td>\n",
       "      <td>HTS Desire 601 dual sim</td>\n",
       "    </tr>\n",
       "    <tr>\n",
       "      <th>description</th>\n",
       "      <td>NaN</td>\n",
       "      <td>8-12 лет</td>\n",
       "      <td>На девочку 1,5 г,состояние хорошее</td>\n",
       "      <td>Размер-135mm, euro-22.5.Прочная, мягкая, не ск...</td>\n",
       "      <td>NaN</td>\n",
       "      <td>Новые, текстильные босоножки, 37 размер в разм...</td>\n",
       "      <td>Seagate Модель St320lt020  HDD для ноутбуков  ...</td>\n",
       "      <td>Состояние отличное,без дефектов</td>\n",
       "      <td>Продам кенгуру 350 , ванночка с горкой 250</td>\n",
       "      <td>NaN</td>\n",
       "      <td>...</td>\n",
       "      <td>В хорошем состояние,требуется только замена по...</td>\n",
       "      <td>Телефон упал разбился экран и не включается пр...</td>\n",
       "      <td>Новое! На спине молния</td>\n",
       "      <td>NaN</td>\n",
       "      <td>г. Реж, СНТ  Металлург-5 . Расстояние от Екате...</td>\n",
       "      <td>Кожаная куртка (лайка). Италия, V. King. Новая...</td>\n",
       "      <td>NaN</td>\n",
       "      <td>Новая беспроводная мышка</td>\n",
       "      <td>Парфюмерная вода 50 мл. В наличии одна. Запако...</td>\n",
       "      <td>На экране трещина. Состояние корпуса на 4. Про...</td>\n",
       "    </tr>\n",
       "    <tr>\n",
       "      <th>price</th>\n",
       "      <td>199900</td>\n",
       "      <td>35000</td>\n",
       "      <td>30000</td>\n",
       "      <td>80000</td>\n",
       "      <td>50000</td>\n",
       "      <td>30000</td>\n",
       "      <td>150000</td>\n",
       "      <td>200000</td>\n",
       "      <td>35000</td>\n",
       "      <td>350000</td>\n",
       "      <td>...</td>\n",
       "      <td>200000</td>\n",
       "      <td>500000</td>\n",
       "      <td>35000</td>\n",
       "      <td>130000</td>\n",
       "      <td>25000000</td>\n",
       "      <td>749900</td>\n",
       "      <td>20000</td>\n",
       "      <td>25000</td>\n",
       "      <td>70000</td>\n",
       "      <td>210000</td>\n",
       "    </tr>\n",
       "    <tr>\n",
       "      <th>fd_name1</th>\n",
       "      <td>Женский гардероб</td>\n",
       "      <td>Детский гардероб</td>\n",
       "      <td>Детский гардероб</td>\n",
       "      <td>Детский гардероб</td>\n",
       "      <td>Детский гардероб</td>\n",
       "      <td>Женский гардероб</td>\n",
       "      <td>Компьютерная техника</td>\n",
       "      <td>Для дома и дачи</td>\n",
       "      <td>Детские товары</td>\n",
       "      <td>Бытовая техника</td>\n",
       "      <td>...</td>\n",
       "      <td>Бытовая техника</td>\n",
       "      <td>Телефоны и планшеты</td>\n",
       "      <td>Женский гардероб</td>\n",
       "      <td>Женский гардероб</td>\n",
       "      <td>Недвижимость</td>\n",
       "      <td>Мужской гардероб</td>\n",
       "      <td>Для дома и дачи</td>\n",
       "      <td>Компьютерная техника</td>\n",
       "      <td>Красота и здоровье</td>\n",
       "      <td>Телефоны и планшеты</td>\n",
       "    </tr>\n",
       "    <tr>\n",
       "      <th>fd_name2</th>\n",
       "      <td>Аксессуары</td>\n",
       "      <td>Аксессуары</td>\n",
       "      <td>Верхняя одежда</td>\n",
       "      <td>Обувь</td>\n",
       "      <td>Верхняя одежда</td>\n",
       "      <td>Обувь</td>\n",
       "      <td>Комплектующие и запчасти</td>\n",
       "      <td>Текстиль и ковры</td>\n",
       "      <td>Другое</td>\n",
       "      <td>Стиральные машины</td>\n",
       "      <td>...</td>\n",
       "      <td>Стиральные машины</td>\n",
       "      <td>Мобильные телефоны</td>\n",
       "      <td>Платья и юбки</td>\n",
       "      <td>Купальники</td>\n",
       "      <td>Продажа участка</td>\n",
       "      <td>Верхняя одежда</td>\n",
       "      <td>Растения и семена</td>\n",
       "      <td>Клавиатуры и мыши</td>\n",
       "      <td>Парфюмерия</td>\n",
       "      <td>Мобильные телефоны</td>\n",
       "    </tr>\n",
       "    <tr>\n",
       "      <th>fd_slug1</th>\n",
       "      <td>zhenskaya-odezhda</td>\n",
       "      <td>detskaya-odezhda</td>\n",
       "      <td>detskaya-odezhda</td>\n",
       "      <td>detskaya-odezhda</td>\n",
       "      <td>detskaya-odezhda</td>\n",
       "      <td>zhenskaya-odezhda</td>\n",
       "      <td>kompyutery</td>\n",
       "      <td>dom-dacha</td>\n",
       "      <td>detskie</td>\n",
       "      <td>bytovaya-tekhnika</td>\n",
       "      <td>...</td>\n",
       "      <td>bytovaya-tekhnika</td>\n",
       "      <td>smartfony-planshety</td>\n",
       "      <td>zhenskaya-odezhda</td>\n",
       "      <td>zhenskaya-odezhda</td>\n",
       "      <td>nedvijimost</td>\n",
       "      <td>muzhskaya-odezhda</td>\n",
       "      <td>dom-dacha</td>\n",
       "      <td>kompyutery</td>\n",
       "      <td>krasota-i-zdorove</td>\n",
       "      <td>smartfony-planshety</td>\n",
       "    </tr>\n",
       "    <tr>\n",
       "      <th>fd_slug2</th>\n",
       "      <td>aksessuary</td>\n",
       "      <td>aksessuary</td>\n",
       "      <td>verhnyaya-odezhda</td>\n",
       "      <td>obuv</td>\n",
       "      <td>verhnyaya-odezhda</td>\n",
       "      <td>obuv</td>\n",
       "      <td>komplektuyushchie</td>\n",
       "      <td>tekstil-kovry</td>\n",
       "      <td>drugoe</td>\n",
       "      <td>stiralnye-mashiny</td>\n",
       "      <td>...</td>\n",
       "      <td>stiralnye-mashiny</td>\n",
       "      <td>smartfony</td>\n",
       "      <td>platya-yubki</td>\n",
       "      <td>kupalniki</td>\n",
       "      <td>prodaja-uchastka</td>\n",
       "      <td>verhnyaya</td>\n",
       "      <td>rasteniya</td>\n",
       "      <td>klaviatury-i-myshi</td>\n",
       "      <td>parfyumeriya</td>\n",
       "      <td>smartfony</td>\n",
       "    </tr>\n",
       "    <tr>\n",
       "      <th>fd_slug_id1</th>\n",
       "      <td>zhenskaya-odezhda</td>\n",
       "      <td>detskaya-odezhda</td>\n",
       "      <td>detskaya-odezhda</td>\n",
       "      <td>detskaya-odezhda</td>\n",
       "      <td>detskaya-odezhda</td>\n",
       "      <td>zhenskaya-odezhda</td>\n",
       "      <td>kompyutery</td>\n",
       "      <td>dom-dacha</td>\n",
       "      <td>detskie</td>\n",
       "      <td>bytovaya-tekhnika</td>\n",
       "      <td>...</td>\n",
       "      <td>bytovaya-tekhnika</td>\n",
       "      <td>smartfony-planshety</td>\n",
       "      <td>zhenskaya-odezhda</td>\n",
       "      <td>zhenskaya-odezhda</td>\n",
       "      <td>nedvijimost</td>\n",
       "      <td>muzhskaya-odezhda</td>\n",
       "      <td>dom-dacha</td>\n",
       "      <td>kompyutery</td>\n",
       "      <td>krasota-i-zdorove</td>\n",
       "      <td>smartfony-planshety</td>\n",
       "    </tr>\n",
       "    <tr>\n",
       "      <th>fd_slug_id2</th>\n",
       "      <td>zhenskaya-odezhda-aksessuary</td>\n",
       "      <td>detskaya-odezhda-aksessuary</td>\n",
       "      <td>detskaya-odezhda-verhnyaya-odezhda</td>\n",
       "      <td>detskaya-odezhda-obuv</td>\n",
       "      <td>detskaya-odezhda-verhnyaya-odezhda</td>\n",
       "      <td>zhenskaya-odezhda-obuv</td>\n",
       "      <td>komplektuyushchie</td>\n",
       "      <td>tekstil-kovry</td>\n",
       "      <td>detskie-drugoe</td>\n",
       "      <td>stiralnye-mashiny</td>\n",
       "      <td>...</td>\n",
       "      <td>stiralnye-mashiny</td>\n",
       "      <td>smartfony</td>\n",
       "      <td>zhenskaya-odezhda-platya-yubki</td>\n",
       "      <td>zhenskaya-odezhda-kupalniki</td>\n",
       "      <td>prodaja-uchastka</td>\n",
       "      <td>muzhskaya-odezhda-verhnyaya</td>\n",
       "      <td>rasteniya</td>\n",
       "      <td>klaviatury-i-myshi</td>\n",
       "      <td>parfyumeriya</td>\n",
       "      <td>smartfony</td>\n",
       "    </tr>\n",
       "  </tbody>\n",
       "</table>\n",
       "<p>12 rows × 1748890 columns</p>\n",
       "</div>"
      ],
      "text/plain": [
       "                                  0                            1        \\\n",
       "id               3edeb34cf93f490ff760af85     c98febd50dad3cc0ffc86085   \n",
       "category                                9                           22   \n",
       "subcategory                           914                         2202   \n",
       "name                             Сумка DG                     Комплект   \n",
       "description                           NaN                     8-12 лет   \n",
       "price                              199900                        35000   \n",
       "fd_name1                 Женский гардероб             Детский гардероб   \n",
       "fd_name2                       Аксессуары                   Аксессуары   \n",
       "fd_slug1                zhenskaya-odezhda             detskaya-odezhda   \n",
       "fd_slug2                       aksessuary                   aksessuary   \n",
       "fd_slug_id1             zhenskaya-odezhda             detskaya-odezhda   \n",
       "fd_slug_id2  zhenskaya-odezhda-aksessuary  detskaya-odezhda-aksessuary   \n",
       "\n",
       "                                         2        \\\n",
       "id                      ade01e13912a46a99134cc75   \n",
       "category                                      22   \n",
       "subcategory                                 2204   \n",
       "name                      Пальтишко демисезонное   \n",
       "description  На девочку 1,5 г,состояние хорошее    \n",
       "price                                      30000   \n",
       "fd_name1                        Детский гардероб   \n",
       "fd_name2                          Верхняя одежда   \n",
       "fd_slug1                        detskaya-odezhda   \n",
       "fd_slug2                       verhnyaya-odezhda   \n",
       "fd_slug_id1                     detskaya-odezhda   \n",
       "fd_slug_id2   detskaya-odezhda-verhnyaya-odezhda   \n",
       "\n",
       "                                                       3        \\\n",
       "id                                    ab3e6941c11304c1519aef75   \n",
       "category                                                    22   \n",
       "subcategory                                               2209   \n",
       "name                                                   Attipas   \n",
       "description  Размер-135mm, euro-22.5.Прочная, мягкая, не ск...   \n",
       "price                                                    80000   \n",
       "fd_name1                                      Детский гардероб   \n",
       "fd_name2                                                 Обувь   \n",
       "fd_slug1                                      detskaya-odezhda   \n",
       "fd_slug2                                                  obuv   \n",
       "fd_slug_id1                                   detskaya-odezhda   \n",
       "fd_slug_id2                              detskaya-odezhda-obuv   \n",
       "\n",
       "                                        4        \\\n",
       "id                     252452a91c944a22c276d995   \n",
       "category                                     22   \n",
       "subcategory                                2204   \n",
       "name                               Жилет теплый   \n",
       "description                                 NaN   \n",
       "price                                     50000   \n",
       "fd_name1                       Детский гардероб   \n",
       "fd_name2                         Верхняя одежда   \n",
       "fd_slug1                       detskaya-odezhda   \n",
       "fd_slug2                      verhnyaya-odezhda   \n",
       "fd_slug_id1                    detskaya-odezhda   \n",
       "fd_slug_id2  detskaya-odezhda-verhnyaya-odezhda   \n",
       "\n",
       "                                                       5        \\\n",
       "id                                    364f7659a4e9ba6c53e35495   \n",
       "category                                                     9   \n",
       "subcategory                                                902   \n",
       "name                                           Босоножки, сабо   \n",
       "description  Новые, текстильные босоножки, 37 размер в разм...   \n",
       "price                                                    30000   \n",
       "fd_name1                                      Женский гардероб   \n",
       "fd_name2                                                 Обувь   \n",
       "fd_slug1                                     zhenskaya-odezhda   \n",
       "fd_slug2                                                  obuv   \n",
       "fd_slug_id1                                  zhenskaya-odezhda   \n",
       "fd_slug_id2                             zhenskaya-odezhda-obuv   \n",
       "\n",
       "                                                       6        \\\n",
       "id                                    c3d87065e4dbc080f400bb85   \n",
       "category                                                    15   \n",
       "subcategory                                               1508   \n",
       "name                   Жесткий диск для ноутбука Seagate 320gb   \n",
       "description  Seagate Модель St320lt020  HDD для ноутбуков  ...   \n",
       "price                                                   150000   \n",
       "fd_name1                                  Компьютерная техника   \n",
       "fd_name2                              Комплектующие и запчасти   \n",
       "fd_slug1                                            kompyutery   \n",
       "fd_slug2                                     komplektuyushchie   \n",
       "fd_slug_id1                                         kompyutery   \n",
       "fd_slug_id2                                  komplektuyushchie   \n",
       "\n",
       "                                     7        \\\n",
       "id                  22e6a518d53f490f6ce7fd85   \n",
       "category                                   4   \n",
       "subcategory                              403   \n",
       "name                        Ковер 324 на 240   \n",
       "description  Состояние отличное,без дефектов   \n",
       "price                                 200000   \n",
       "fd_name1                     Для дома и дачи   \n",
       "fd_name2                    Текстиль и ковры   \n",
       "fd_slug1                           dom-dacha   \n",
       "fd_slug2                       tekstil-kovry   \n",
       "fd_slug_id1                        dom-dacha   \n",
       "fd_slug_id2                    tekstil-kovry   \n",
       "\n",
       "                                                8        \\\n",
       "id                             c6bd550b7f1304c1f7fda485   \n",
       "category                                              3   \n",
       "subcategory                                         301   \n",
       "name                                            Кенгуру   \n",
       "description  Продам кенгуру 350 , ванночка с горкой 250   \n",
       "price                                             35000   \n",
       "fd_name1                                 Детские товары   \n",
       "fd_name2                                         Другое   \n",
       "fd_slug1                                        detskie   \n",
       "fd_slug2                                         drugoe   \n",
       "fd_slug_id1                                     detskie   \n",
       "fd_slug_id2                              detskie-drugoe   \n",
       "\n",
       "                              9        \\\n",
       "id           117b885a3cf9554042ae2285   \n",
       "category                            2   \n",
       "subcategory                       208   \n",
       "name                  Машинка автомат   \n",
       "description                       NaN   \n",
       "price                          350000   \n",
       "fd_name1              Бытовая техника   \n",
       "fd_name2            Стиральные машины   \n",
       "fd_slug1            bytovaya-tekhnika   \n",
       "fd_slug2            stiralnye-mashiny   \n",
       "fd_slug_id1         bytovaya-tekhnika   \n",
       "fd_slug_id2         stiralnye-mashiny   \n",
       "\n",
       "                                   ...                          \\\n",
       "id                                 ...                           \n",
       "category                           ...                           \n",
       "subcategory                        ...                           \n",
       "name                               ...                           \n",
       "description                        ...                           \n",
       "price                              ...                           \n",
       "fd_name1                           ...                           \n",
       "fd_name2                           ...                           \n",
       "fd_slug1                           ...                           \n",
       "fd_slug2                           ...                           \n",
       "fd_slug_id1                        ...                           \n",
       "fd_slug_id2                        ...                           \n",
       "\n",
       "                                                       1748880  \\\n",
       "id                                    97ee729c6b6b083a05e14995   \n",
       "category                                                     2   \n",
       "subcategory                                                208   \n",
       "name                                Стиральная машинка индезит   \n",
       "description  В хорошем состояние,требуется только замена по...   \n",
       "price                                                   200000   \n",
       "fd_name1                                       Бытовая техника   \n",
       "fd_name2                                     Стиральные машины   \n",
       "fd_slug1                                     bytovaya-tekhnika   \n",
       "fd_slug2                                     stiralnye-mashiny   \n",
       "fd_slug_id1                                  bytovaya-tekhnika   \n",
       "fd_slug_id2                                  stiralnye-mashiny   \n",
       "\n",
       "                                                       1748881  \\\n",
       "id                                    3e37e6d8bc70bf66f2ca7495   \n",
       "category                                                    12   \n",
       "subcategory                                               1202   \n",
       "name                                                Айфон 6 64   \n",
       "description  Телефон упал разбился экран и не включается пр...   \n",
       "price                                                   500000   \n",
       "fd_name1                                   Телефоны и планшеты   \n",
       "fd_name2                                    Мобильные телефоны   \n",
       "fd_slug1                                   smartfony-planshety   \n",
       "fd_slug2                                             smartfony   \n",
       "fd_slug_id1                                smartfony-planshety   \n",
       "fd_slug_id2                                          smartfony   \n",
       "\n",
       "                                    1748882                      1748883  \\\n",
       "id                 8d403112ca9e2db5ce63d885     2ccac518d420532f256f4595   \n",
       "category                                  9                            9   \n",
       "subcategory                             904                          921   \n",
       "name               Короткое чёрное платье!               Новый купальник   \n",
       "description         Новое! На спине молния                           NaN   \n",
       "price                                 35000                       130000   \n",
       "fd_name1                   Женский гардероб             Женский гардероб   \n",
       "fd_name2                      Платья и юбки                   Купальники   \n",
       "fd_slug1                  zhenskaya-odezhda            zhenskaya-odezhda   \n",
       "fd_slug2                       platya-yubki                    kupalniki   \n",
       "fd_slug_id1               zhenskaya-odezhda            zhenskaya-odezhda   \n",
       "fd_slug_id2  zhenskaya-odezhda-platya-yubki  zhenskaya-odezhda-kupalniki   \n",
       "\n",
       "                                                       1748884  \\\n",
       "id                                    60ea05f603ff162bd4260195   \n",
       "category                                                    20   \n",
       "subcategory                                               2004   \n",
       "name                 Участок, до 6 сот., сельхоз (снт или днп)   \n",
       "description  г. Реж, СНТ  Металлург-5 . Расстояние от Екате...   \n",
       "price                                                 25000000   \n",
       "fd_name1                                          Недвижимость   \n",
       "fd_name2                                       Продажа участка   \n",
       "fd_slug1                                           nedvijimost   \n",
       "fd_slug2                                      prodaja-uchastka   \n",
       "fd_slug_id1                                        nedvijimost   \n",
       "fd_slug_id2                                   prodaja-uchastka   \n",
       "\n",
       "                                                       1748885  \\\n",
       "id                                    2460206aa90c63db4475fe85   \n",
       "category                                                     8   \n",
       "subcategory                                                803   \n",
       "name                                    Кожаная куртка (лайка)   \n",
       "description  Кожаная куртка (лайка). Италия, V. King. Новая...   \n",
       "price                                                   749900   \n",
       "fd_name1                                      Мужской гардероб   \n",
       "fd_name2                                        Верхняя одежда   \n",
       "fd_slug1                                     muzhskaya-odezhda   \n",
       "fd_slug2                                             verhnyaya   \n",
       "fd_slug_id1                                  muzhskaya-odezhda   \n",
       "fd_slug_id2                        muzhskaya-odezhda-verhnyaya   \n",
       "\n",
       "                              1748886                    1748887  \\\n",
       "id           36f2465b7a5402fcdb8dd595   3cd221a6921fcb56e2dfcd85   \n",
       "category                            4                         15   \n",
       "subcategory                       406                       1507   \n",
       "name                            Фикус         Мышка беспроводная   \n",
       "description                       NaN  Новая беспроводная мышка    \n",
       "price                           20000                      25000   \n",
       "fd_name1              Для дома и дачи       Компьютерная техника   \n",
       "fd_name2            Растения и семена          Клавиатуры и мыши   \n",
       "fd_slug1                    dom-dacha                 kompyutery   \n",
       "fd_slug2                    rasteniya         klaviatury-i-myshi   \n",
       "fd_slug_id1                 dom-dacha                 kompyutery   \n",
       "fd_slug_id2                 rasteniya         klaviatury-i-myshi   \n",
       "\n",
       "                                                       1748888  \\\n",
       "id                                    40756707daff162bfe68d195   \n",
       "category                                                    14   \n",
       "subcategory                                               1403   \n",
       "name                                                    Парфюм   \n",
       "description  Парфюмерная вода 50 мл. В наличии одна. Запако...   \n",
       "price                                                    70000   \n",
       "fd_name1                                    Красота и здоровье   \n",
       "fd_name2                                            Парфюмерия   \n",
       "fd_slug1                                     krasota-i-zdorove   \n",
       "fd_slug2                                          parfyumeriya   \n",
       "fd_slug_id1                                  krasota-i-zdorove   \n",
       "fd_slug_id2                                       parfyumeriya   \n",
       "\n",
       "                                                       1748889  \n",
       "id                                    3cddf37632e395c29d764095  \n",
       "category                                                    12  \n",
       "subcategory                                               1202  \n",
       "name                                   HTS Desire 601 dual sim  \n",
       "description  На экране трещина. Состояние корпуса на 4. Про...  \n",
       "price                                                   210000  \n",
       "fd_name1                                   Телефоны и планшеты  \n",
       "fd_name2                                    Мобильные телефоны  \n",
       "fd_slug1                                   smartfony-planshety  \n",
       "fd_slug2                                             smartfony  \n",
       "fd_slug_id1                                smartfony-planshety  \n",
       "fd_slug_id2                                          smartfony  \n",
       "\n",
       "[12 rows x 1748890 columns]"
      ]
     },
     "execution_count": 6,
     "metadata": {},
     "output_type": "execute_result"
    }
   ],
   "source": [
    "train_temp.T.head(15)"
   ]
  },
  {
   "cell_type": "code",
   "execution_count": 7,
   "metadata": {},
   "outputs": [
    {
     "name": "stdout",
     "output_type": "stream",
     "text": [
      "Unique values in column fd_name1 == (22,)\n",
      "Unique values in column fd_name2 == (204,)\n",
      "Unique values in column fd_slug1 == (22,)\n",
      "Unique values in column fd_slug2 == (212,)\n",
      "Unique values in column fd_slug_id1 == (22,)\n",
      "Unique values in column fd_slug_id2 == (249,)\n"
     ]
    }
   ],
   "source": [
    "# Посмотрим сколько всего лэйблов получается\n",
    "for item in train_temp.columns[6:]:\n",
    "    print(\"Unique values in column {0} == {1}\".format(item,train_temp[item].unique().shape))"
   ]
  },
  {
   "cell_type": "code",
   "execution_count": 8,
   "metadata": {},
   "outputs": [],
   "source": [
    "# Очень похоже на то что информация в классах, написанных транслитом, просто дублирует классы написанные на кириллице\n",
    "# возьмем срез 20000 [10000:30000,:] для дальнейших манипуляций.(срез [:10000] уже был обработан и сохранен как числовые данные)\n",
    "small_train  = train_temp.drop(['fd_slug1','fd_slug2','fd_slug_id1','fd_slug_id2'],axis=1).iloc[60000:70000,:]"
   ]
  },
  {
   "cell_type": "code",
   "execution_count": 9,
   "metadata": {},
   "outputs": [
    {
     "data": {
      "text/html": [
       "<div>\n",
       "<style scoped>\n",
       "    .dataframe tbody tr th:only-of-type {\n",
       "        vertical-align: middle;\n",
       "    }\n",
       "\n",
       "    .dataframe tbody tr th {\n",
       "        vertical-align: top;\n",
       "    }\n",
       "\n",
       "    .dataframe thead th {\n",
       "        text-align: right;\n",
       "    }\n",
       "</style>\n",
       "<table border=\"1\" class=\"dataframe\">\n",
       "  <thead>\n",
       "    <tr style=\"text-align: right;\">\n",
       "      <th></th>\n",
       "      <th>60000</th>\n",
       "      <th>60001</th>\n",
       "      <th>60002</th>\n",
       "      <th>60003</th>\n",
       "      <th>60004</th>\n",
       "      <th>60005</th>\n",
       "      <th>60006</th>\n",
       "      <th>60007</th>\n",
       "      <th>60008</th>\n",
       "      <th>60009</th>\n",
       "      <th>...</th>\n",
       "      <th>69990</th>\n",
       "      <th>69991</th>\n",
       "      <th>69992</th>\n",
       "      <th>69993</th>\n",
       "      <th>69994</th>\n",
       "      <th>69995</th>\n",
       "      <th>69996</th>\n",
       "      <th>69997</th>\n",
       "      <th>69998</th>\n",
       "      <th>69999</th>\n",
       "    </tr>\n",
       "  </thead>\n",
       "  <tbody>\n",
       "    <tr>\n",
       "      <th>id</th>\n",
       "      <td>7d521a33915f2d419fa69985</td>\n",
       "      <td>302783aaf22a46a94ac8ef75</td>\n",
       "      <td>369ba47a1870bf66fbb79495</td>\n",
       "      <td>31ba828ce3a986fc25db0195</td>\n",
       "      <td>41451146c982baaaa6c85a95</td>\n",
       "      <td>25e6c16f79e395c23c4e4295</td>\n",
       "      <td>259817e06818fff06a9a3b95</td>\n",
       "      <td>cb9e81f45167596f0157bc95</td>\n",
       "      <td>20f53e847f57e9744c712685</td>\n",
       "      <td>222f8449795ccdeb25f1b095</td>\n",
       "      <td>...</td>\n",
       "      <td>36d7216d040c63dbf8141395</td>\n",
       "      <td>b746e132b03955b490699a85</td>\n",
       "      <td>2151570b745ccdeb30aa1095</td>\n",
       "      <td>d64ce23127e20368088cd085</td>\n",
       "      <td>7b0324ebcef9554033edbb85</td>\n",
       "      <td>090a4e82c51304c19e292d85</td>\n",
       "      <td>37fc53b9f3ba9a72aac20795</td>\n",
       "      <td>e744f7f8d3319881df83c985</td>\n",
       "      <td>4edb437cc63f490f4ff3b595</td>\n",
       "      <td>2724e1f677e3b470c7a39e85</td>\n",
       "    </tr>\n",
       "    <tr>\n",
       "      <th>category</th>\n",
       "      <td>6</td>\n",
       "      <td>22</td>\n",
       "      <td>9</td>\n",
       "      <td>1</td>\n",
       "      <td>22</td>\n",
       "      <td>9</td>\n",
       "      <td>22</td>\n",
       "      <td>8</td>\n",
       "      <td>5</td>\n",
       "      <td>9</td>\n",
       "      <td>...</td>\n",
       "      <td>9</td>\n",
       "      <td>8</td>\n",
       "      <td>12</td>\n",
       "      <td>9</td>\n",
       "      <td>9</td>\n",
       "      <td>22</td>\n",
       "      <td>20</td>\n",
       "      <td>100</td>\n",
       "      <td>4</td>\n",
       "      <td>8</td>\n",
       "    </tr>\n",
       "    <tr>\n",
       "      <th>subcategory</th>\n",
       "      <td>608</td>\n",
       "      <td>2206</td>\n",
       "      <td>904</td>\n",
       "      <td>112</td>\n",
       "      <td>2216</td>\n",
       "      <td>904</td>\n",
       "      <td>2204</td>\n",
       "      <td>802</td>\n",
       "      <td>506</td>\n",
       "      <td>909</td>\n",
       "      <td>...</td>\n",
       "      <td>906</td>\n",
       "      <td>807</td>\n",
       "      <td>1202</td>\n",
       "      <td>902</td>\n",
       "      <td>914</td>\n",
       "      <td>2202</td>\n",
       "      <td>2006</td>\n",
       "      <td>10001</td>\n",
       "      <td>409</td>\n",
       "      <td>802</td>\n",
       "    </tr>\n",
       "    <tr>\n",
       "      <th>name</th>\n",
       "      <td>Стеклопакет 5 штук</td>\n",
       "      <td>комбинезон боди бу</td>\n",
       "      <td>Новое платье 42-44</td>\n",
       "      <td>Pioneer 88rs2</td>\n",
       "      <td>Одежда на мальчика р122</td>\n",
       "      <td>Юбка новая</td>\n",
       "      <td>Куртка осенняя</td>\n",
       "      <td>Мужские полуботинки Clarks</td>\n",
       "      <td>Водонагреватель</td>\n",
       "      <td>Майка-топ</td>\n",
       "      <td>...</td>\n",
       "      <td>Джинсы</td>\n",
       "      <td>Кофта Esprit</td>\n",
       "      <td>BQ Magic</td>\n",
       "      <td>Туфли</td>\n",
       "      <td>Сумка с шипами</td>\n",
       "      <td>Шапки</td>\n",
       "      <td>Комната, от 15 до 20 м²</td>\n",
       "      <td>Емкость для напитков 0.5 л</td>\n",
       "      <td>Шкаф</td>\n",
       "      <td>Найки 95</td>\n",
       "    </tr>\n",
       "    <tr>\n",
       "      <th>description</th>\n",
       "      <td>Стеклопакет однокамерный , алюминиевые констру...</td>\n",
       "      <td>В хорошем состоянии. теплый боди комбинезон . ...</td>\n",
       "      <td>Сидит отлично</td>\n",
       "      <td>В отличном состоянии. Недавно заменен шлейф на...</td>\n",
       "      <td>Состояние идеальное. Вещей много по этому все ...</td>\n",
       "      <td>Юбка новая, без размера, на резинке, длина 75 см</td>\n",
       "      <td>На рост 86-92 Есть недочеты. Маленькие бледно ...</td>\n",
       "      <td>Очень комфортные мужские полуботинки Clarks на...</td>\n",
       "      <td>Продам за половину стоимости водонагреватель ф...</td>\n",
       "      <td>В отличном состоянии. Вместе с юбкой - 200р. П...</td>\n",
       "      <td>...</td>\n",
       "      <td>Хорошее качество,сидят крутяшно😊</td>\n",
       "      <td>Кофта Esprit оригинал производство Германия 10...</td>\n",
       "      <td>Отличный телефон 4 ядра 16 гигабайт своей памя...</td>\n",
       "      <td>Замша,за шоколадку</td>\n",
       "      <td>Сумка в отличном состоянии</td>\n",
       "      <td>NaN</td>\n",
       "      <td>Сдам срочно комнату на подселение в Центрально...</td>\n",
       "      <td>Новая популярная бутылка для напитков. Вместе ...</td>\n",
       "      <td>Самовывоз</td>\n",
       "      <td>Реплика</td>\n",
       "    </tr>\n",
       "    <tr>\n",
       "      <th>price</th>\n",
       "      <td>100000</td>\n",
       "      <td>35000</td>\n",
       "      <td>30000</td>\n",
       "      <td>700000</td>\n",
       "      <td>50000</td>\n",
       "      <td>80000</td>\n",
       "      <td>40000</td>\n",
       "      <td>200000</td>\n",
       "      <td>40000</td>\n",
       "      <td>10000</td>\n",
       "      <td>...</td>\n",
       "      <td>129900</td>\n",
       "      <td>30000</td>\n",
       "      <td>450000</td>\n",
       "      <td>100</td>\n",
       "      <td>50000</td>\n",
       "      <td>10000</td>\n",
       "      <td>600000</td>\n",
       "      <td>15000</td>\n",
       "      <td>50000</td>\n",
       "      <td>100000</td>\n",
       "    </tr>\n",
       "    <tr>\n",
       "      <th>fd_name1</th>\n",
       "      <td>Ремонт и строительство</td>\n",
       "      <td>Детский гардероб</td>\n",
       "      <td>Женский гардероб</td>\n",
       "      <td>Транспорт и автотовары</td>\n",
       "      <td>Детский гардероб</td>\n",
       "      <td>Женский гардероб</td>\n",
       "      <td>Детский гардероб</td>\n",
       "      <td>Мужской гардероб</td>\n",
       "      <td>Животные</td>\n",
       "      <td>Женский гардероб</td>\n",
       "      <td>...</td>\n",
       "      <td>Женский гардероб</td>\n",
       "      <td>Мужской гардероб</td>\n",
       "      <td>Телефоны и планшеты</td>\n",
       "      <td>Женский гардероб</td>\n",
       "      <td>Женский гардероб</td>\n",
       "      <td>Детский гардероб</td>\n",
       "      <td>Недвижимость</td>\n",
       "      <td>Прочее</td>\n",
       "      <td>Для дома и дачи</td>\n",
       "      <td>Мужской гардероб</td>\n",
       "    </tr>\n",
       "    <tr>\n",
       "      <th>fd_name2</th>\n",
       "      <td>Окна</td>\n",
       "      <td>Комбинезоны и боди</td>\n",
       "      <td>Платья и юбки</td>\n",
       "      <td>Аудио и видео</td>\n",
       "      <td>Штаны и шорты</td>\n",
       "      <td>Платья и юбки</td>\n",
       "      <td>Верхняя одежда</td>\n",
       "      <td>Обувь</td>\n",
       "      <td>Рыбки</td>\n",
       "      <td>Футболки и топы</td>\n",
       "      <td>...</td>\n",
       "      <td>Штаны и шорты</td>\n",
       "      <td>Свитеры и толстовки</td>\n",
       "      <td>Мобильные телефоны</td>\n",
       "      <td>Обувь</td>\n",
       "      <td>Аксессуары</td>\n",
       "      <td>Аксессуары</td>\n",
       "      <td>Аренда комнаты</td>\n",
       "      <td>Другое</td>\n",
       "      <td>Шкафы и комоды</td>\n",
       "      <td>Обувь</td>\n",
       "    </tr>\n",
       "  </tbody>\n",
       "</table>\n",
       "<p>8 rows × 10000 columns</p>\n",
       "</div>"
      ],
      "text/plain": [
       "                                                         60000  \\\n",
       "id                                    7d521a33915f2d419fa69985   \n",
       "category                                                     6   \n",
       "subcategory                                                608   \n",
       "name                                        Стеклопакет 5 штук   \n",
       "description  Стеклопакет однокамерный , алюминиевые констру...   \n",
       "price                                                   100000   \n",
       "fd_name1                                Ремонт и строительство   \n",
       "fd_name2                                                  Окна   \n",
       "\n",
       "                                                         60001  \\\n",
       "id                                    302783aaf22a46a94ac8ef75   \n",
       "category                                                    22   \n",
       "subcategory                                               2206   \n",
       "name                                        комбинезон боди бу   \n",
       "description  В хорошем состоянии. теплый боди комбинезон . ...   \n",
       "price                                                    35000   \n",
       "fd_name1                                      Детский гардероб   \n",
       "fd_name2                                    Комбинезоны и боди   \n",
       "\n",
       "                                60002  \\\n",
       "id           369ba47a1870bf66fbb79495   \n",
       "category                            9   \n",
       "subcategory                       904   \n",
       "name               Новое платье 42-44   \n",
       "description             Сидит отлично   \n",
       "price                           30000   \n",
       "fd_name1             Женский гардероб   \n",
       "fd_name2                Платья и юбки   \n",
       "\n",
       "                                                         60003  \\\n",
       "id                                    31ba828ce3a986fc25db0195   \n",
       "category                                                     1   \n",
       "subcategory                                                112   \n",
       "name                                             Pioneer 88rs2   \n",
       "description  В отличном состоянии. Недавно заменен шлейф на...   \n",
       "price                                                   700000   \n",
       "fd_name1                                Транспорт и автотовары   \n",
       "fd_name2                                         Аудио и видео   \n",
       "\n",
       "                                                         60004  \\\n",
       "id                                    41451146c982baaaa6c85a95   \n",
       "category                                                    22   \n",
       "subcategory                                               2216   \n",
       "name                                   Одежда на мальчика р122   \n",
       "description  Состояние идеальное. Вещей много по этому все ...   \n",
       "price                                                    50000   \n",
       "fd_name1                                      Детский гардероб   \n",
       "fd_name2                                         Штаны и шорты   \n",
       "\n",
       "                                                        60005  \\\n",
       "id                                   25e6c16f79e395c23c4e4295   \n",
       "category                                                    9   \n",
       "subcategory                                               904   \n",
       "name                                               Юбка новая   \n",
       "description  Юбка новая, без размера, на резинке, длина 75 см   \n",
       "price                                                   80000   \n",
       "fd_name1                                     Женский гардероб   \n",
       "fd_name2                                        Платья и юбки   \n",
       "\n",
       "                                                         60006  \\\n",
       "id                                    259817e06818fff06a9a3b95   \n",
       "category                                                    22   \n",
       "subcategory                                               2204   \n",
       "name                                            Куртка осенняя   \n",
       "description  На рост 86-92 Есть недочеты. Маленькие бледно ...   \n",
       "price                                                    40000   \n",
       "fd_name1                                      Детский гардероб   \n",
       "fd_name2                                        Верхняя одежда   \n",
       "\n",
       "                                                         60007  \\\n",
       "id                                    cb9e81f45167596f0157bc95   \n",
       "category                                                     8   \n",
       "subcategory                                                802   \n",
       "name                                Мужские полуботинки Clarks   \n",
       "description  Очень комфортные мужские полуботинки Clarks на...   \n",
       "price                                                   200000   \n",
       "fd_name1                                      Мужской гардероб   \n",
       "fd_name2                                                 Обувь   \n",
       "\n",
       "                                                         60008  \\\n",
       "id                                    20f53e847f57e9744c712685   \n",
       "category                                                     5   \n",
       "subcategory                                                506   \n",
       "name                                           Водонагреватель   \n",
       "description  Продам за половину стоимости водонагреватель ф...   \n",
       "price                                                    40000   \n",
       "fd_name1                                              Животные   \n",
       "fd_name2                                                 Рыбки   \n",
       "\n",
       "                                                         60009  \\\n",
       "id                                    222f8449795ccdeb25f1b095   \n",
       "category                                                     9   \n",
       "subcategory                                                909   \n",
       "name                                                 Майка-топ   \n",
       "description  В отличном состоянии. Вместе с юбкой - 200р. П...   \n",
       "price                                                    10000   \n",
       "fd_name1                                      Женский гардероб   \n",
       "fd_name2                                       Футболки и топы   \n",
       "\n",
       "                       ...                                        69990  \\\n",
       "id                     ...                     36d7216d040c63dbf8141395   \n",
       "category               ...                                            9   \n",
       "subcategory            ...                                          906   \n",
       "name                   ...                                       Джинсы   \n",
       "description            ...             Хорошее качество,сидят крутяшно😊   \n",
       "price                  ...                                       129900   \n",
       "fd_name1               ...                             Женский гардероб   \n",
       "fd_name2               ...                                Штаны и шорты   \n",
       "\n",
       "                                                         69991  \\\n",
       "id                                    b746e132b03955b490699a85   \n",
       "category                                                     8   \n",
       "subcategory                                                807   \n",
       "name                                             Кофта Esprit    \n",
       "description  Кофта Esprit оригинал производство Германия 10...   \n",
       "price                                                    30000   \n",
       "fd_name1                                      Мужской гардероб   \n",
       "fd_name2                                   Свитеры и толстовки   \n",
       "\n",
       "                                                         69992  \\\n",
       "id                                    2151570b745ccdeb30aa1095   \n",
       "category                                                    12   \n",
       "subcategory                                               1202   \n",
       "name                                                  BQ Magic   \n",
       "description  Отличный телефон 4 ядра 16 гигабайт своей памя...   \n",
       "price                                                   450000   \n",
       "fd_name1                                   Телефоны и планшеты   \n",
       "fd_name2                                    Мобильные телефоны   \n",
       "\n",
       "                                69993                       69994  \\\n",
       "id           d64ce23127e20368088cd085    7b0324ebcef9554033edbb85   \n",
       "category                            9                           9   \n",
       "subcategory                       902                         914   \n",
       "name                            Туфли              Сумка с шипами   \n",
       "description        Замша,за шоколадку  Сумка в отличном состоянии   \n",
       "price                             100                       50000   \n",
       "fd_name1             Женский гардероб            Женский гардероб   \n",
       "fd_name2                        Обувь                  Аксессуары   \n",
       "\n",
       "                                69995  \\\n",
       "id           090a4e82c51304c19e292d85   \n",
       "category                           22   \n",
       "subcategory                      2202   \n",
       "name                            Шапки   \n",
       "description                       NaN   \n",
       "price                           10000   \n",
       "fd_name1             Детский гардероб   \n",
       "fd_name2                   Аксессуары   \n",
       "\n",
       "                                                         69996  \\\n",
       "id                                    37fc53b9f3ba9a72aac20795   \n",
       "category                                                    20   \n",
       "subcategory                                               2006   \n",
       "name                                   Комната, от 15 до 20 м²   \n",
       "description  Сдам срочно комнату на подселение в Центрально...   \n",
       "price                                                   600000   \n",
       "fd_name1                                          Недвижимость   \n",
       "fd_name2                                        Аренда комнаты   \n",
       "\n",
       "                                                         69997  \\\n",
       "id                                    e744f7f8d3319881df83c985   \n",
       "category                                                   100   \n",
       "subcategory                                              10001   \n",
       "name                                Емкость для напитков 0.5 л   \n",
       "description  Новая популярная бутылка для напитков. Вместе ...   \n",
       "price                                                    15000   \n",
       "fd_name1                                                Прочее   \n",
       "fd_name2                                                Другое   \n",
       "\n",
       "                                69998                     69999  \n",
       "id           4edb437cc63f490f4ff3b595  2724e1f677e3b470c7a39e85  \n",
       "category                            4                         8  \n",
       "subcategory                       409                       802  \n",
       "name                             Шкаф                  Найки 95  \n",
       "description                 Самовывоз                   Реплика  \n",
       "price                           50000                    100000  \n",
       "fd_name1              Для дома и дачи          Мужской гардероб  \n",
       "fd_name2               Шкафы и комоды                     Обувь  \n",
       "\n",
       "[8 rows x 10000 columns]"
      ]
     },
     "execution_count": 9,
     "metadata": {},
     "output_type": "execute_result"
    }
   ],
   "source": [
    "small_train.T.head(20)"
   ]
  },
  {
   "cell_type": "code",
   "execution_count": 10,
   "metadata": {},
   "outputs": [],
   "source": [
    "target = small_train['price']"
   ]
  },
  {
   "cell_type": "code",
   "execution_count": 11,
   "metadata": {},
   "outputs": [],
   "source": [
    "# ресет индексов\n",
    "target = target.reset_index()['price']\n",
    "small_train.reset_index(inplace = True)"
   ]
  },
  {
   "cell_type": "code",
   "execution_count": 12,
   "metadata": {},
   "outputs": [],
   "source": [
    "# замена Нанов на пустую строку\n",
    "small_train['description'].fillna('',inplace = True)"
   ]
  },
  {
   "cell_type": "code",
   "execution_count": 13,
   "metadata": {},
   "outputs": [],
   "source": [
    "# замена Нанов на пустую строку\n",
    "small_train['name'].fillna('',inplace = True)"
   ]
  },
  {
   "cell_type": "code",
   "execution_count": 14,
   "metadata": {},
   "outputs": [
    {
     "data": {
      "text/plain": [
       "description    False\n",
       "name           False\n",
       "dtype: bool"
      ]
     },
     "execution_count": 14,
     "metadata": {},
     "output_type": "execute_result"
    }
   ],
   "source": [
    "# проверка NAN\n",
    "small_train[['description','name']].isnull().any()"
   ]
  },
  {
   "cell_type": "code",
   "execution_count": 15,
   "metadata": {},
   "outputs": [],
   "source": [
    "# объединяю столбцы в один для дальнейшего преобразования слов в векторы\n",
    "#small_train[\"new_description\"] = small_train['description'] +' '+small_train['name']"
   ]
  },
  {
   "cell_type": "code",
   "execution_count": 17,
   "metadata": {},
   "outputs": [
    {
     "data": {
      "text/plain": [
       "'Продам зимнее пальто. В отличном состоянии! На 44 размер. Очень теплое! На синтепоновой подкладкой. На внутренней части воротника есть пуговки для меха. Хороший состав 50% ШЕРСТИ!!! данные на фото.В комплекте есть два ремня - кож зам и шерстяной. Продаю в связи с тем что стало сильно мало, на фото видно..оно по мне в оптяг)) а должно свободно😊. Звоните, пишите. '"
      ]
     },
     "execution_count": 17,
     "metadata": {},
     "output_type": "execute_result"
    }
   ],
   "source": [
    "#\n",
    "small_train[\"description\"][5000]"
   ]
  },
  {
   "cell_type": "markdown",
   "metadata": {},
   "source": [
    "#### Разные утильные функции для обработки текста и отбора колонок"
   ]
  },
  {
   "cell_type": "code",
   "execution_count": 18,
   "metadata": {},
   "outputs": [
    {
     "name": "stderr",
     "output_type": "stream",
     "text": [
      "c:\\users\\nikolay\\anaconda3\\envs\\tensorflowenv\\lib\\site-packages\\gensim\\utils.py:1212: UserWarning: detected Windows; aliasing chunkize to chunkize_serial\n",
      "  warnings.warn(\"detected Windows; aliasing chunkize to chunkize_serial\")\n"
     ]
    }
   ],
   "source": [
    "import pymorphy2\n",
    "# Импортируем библиотеки Word2Vec\n",
    "from gensim.models.word2vec import Word2Vec # Собственно модель.\n",
    "from gensim.models.word2vec import LineSentence # Выравнивание текста по предложениям.\n",
    "from gensim.models import KeyedVectors # Семантические вектора.\n",
    "import numpy as np\n",
    "import re"
   ]
  },
  {
   "cell_type": "code",
   "execution_count": 19,
   "metadata": {},
   "outputs": [],
   "source": [
    "model_w2v = KeyedVectors.load_word2vec_format('ruscorpora/ruscorpora_upos_skipgram_300_5_2018.vec')"
   ]
  },
  {
   "cell_type": "code",
   "execution_count": 20,
   "metadata": {},
   "outputs": [],
   "source": [
    "# функция для обработки строк в описании товара\n",
    "def getMeaningfullWords(text):\n",
    "    def to_txt2(data):\n",
    "        t = re.findall(\"[А-Яа-яЁё]+\\-[А-Яа-яЁё]+|[А-Яа-яЁё]+\", data)\n",
    "        return \" \".join(t)\n",
    "    posConv={'ADJF':'_ADJ','NOUN':'_NOUN','VERB':'_VERB'}\n",
    "    morph=pymorphy2.MorphAnalyzer()\n",
    "    words=[]\n",
    "    word_dict = {}\n",
    "    tokens = to_txt2(text).split()\n",
    "    if tokens == []:\n",
    "        return \" \".join(words)\n",
    "        \n",
    "    for t in tokens:\n",
    "        if t  in word_dict.keys() and len(t) > 1 and len(t) < 30:\n",
    "            words.append(word_dict[t])\n",
    "        else:\n",
    "            pv=morph.parse(t)\n",
    "            for p in pv:\n",
    "                if p.tag.POS in ['ADJF', 'NOUN', 'VERB']:\n",
    "                    words.append(p.normal_form)\n",
    "                    word_dict[p] = p.normal_form\n",
    "                    break\n",
    "    return \" \".join(words)"
   ]
  },
  {
   "cell_type": "code",
   "execution_count": 115,
   "metadata": {},
   "outputs": [],
   "source": [
    "# функция для обработки строк в описании товара\n",
    "def getMeaningfullEnglishWords(text):\n",
    "    def to_txt2(data):\n",
    "        t = re.findall(\"[A-Za-z]+\\-[A-Za-z]+|[A-Za-z]+\", data)\n",
    "        return \" \".join(t)\n",
    "   \n",
    "    words=[]\n",
    "    tokens = to_txt2(text).split()\n",
    "    if tokens == []:\n",
    "        return \" \".join(words)\n",
    "        \n",
    "    for t in tokens:\n",
    "        if len(t) > 1 and len(t) < 30:\n",
    "            words.append(t)\n",
    "    return \" \".join(words)\n",
    "#re.findall(r'\\d+'"
   ]
  },
  {
   "cell_type": "code",
   "execution_count": 107,
   "metadata": {},
   "outputs": [],
   "source": [
    "def getDigits(text):\n",
    "    return \" \".join(re.findall(r'\\d+', text))\n",
    "#re.findall(r'\\d+'"
   ]
  },
  {
   "cell_type": "code",
   "execution_count": 23,
   "metadata": {},
   "outputs": [],
   "source": [
    "# function to convert text data list of normal form russian words\n",
    "def getMeaningfullWordsUpdated(text):\n",
    "    '''\n",
    "     function to convert text data list of normal form russian words\n",
    "    '''\n",
    "    def to_txt2(data):\n",
    "        t = re.findall(\"[А-Яа-яЁё]+\\-[А-Яа-яЁё]+|[А-Яа-яЁё]+\", data)\n",
    "        return \" \".join(t)\n",
    "    posConv={'ADJF':'_ADJ','NOUN':'_NOUN','VERB':'_VERB'}\n",
    "    morph=pymorphy2.MorphAnalyzer()\n",
    "    words=[]\n",
    "    word_dict = {}\n",
    "    tokens = to_txt2(text).split()\n",
    "    if tokens == []:\n",
    "        return \" \".join(words)\n",
    "    for t in tokens:\n",
    "        if t  in word_dict.keys() and len(t) > 1 and len(t) < 30:\n",
    "            words.append(word_dict[t])\n",
    "        else:\n",
    "            \n",
    "            pv=morph.parse(t)\n",
    "           \n",
    "            for p in pv:\n",
    "                if p.tag.POS in ['ADJF', 'NOUN', 'VERB']:\n",
    "                    words.append(p.normal_form + posConv[p.tag.POS])\n",
    "                    word_dict[p] = p.normal_form\n",
    "                    break\n",
    "            \n",
    "\n",
    "    return words"
   ]
  },
  {
   "cell_type": "code",
   "execution_count": 24,
   "metadata": {},
   "outputs": [],
   "source": [
    "def text_to_vec(text, model = model_w2v, size = 300):\n",
    "    text_vec = np.zeros((size,), dtype=\"float32\")\n",
    "    n_words = 0\n",
    "    for word in getMeaningfullWordsUpdated(text):\n",
    "        \n",
    "        try:\n",
    "            text_vec = np.add(text_vec, model[word])\n",
    "            n_words += 1\n",
    "        except:\n",
    "            continue\n",
    "    \n",
    "    if n_words != 0:\n",
    "        text_vec /= n_words\n",
    "    return text_vec"
   ]
  },
  {
   "cell_type": "code",
   "execution_count": 25,
   "metadata": {},
   "outputs": [
    {
     "name": "stdout",
     "output_type": "stream",
     "text": [
      "loading vectors\n",
      "Found 400000 word vectors \n"
     ]
    }
   ],
   "source": [
    "print(\"loading vectors\")\n",
    "word2vec = {}\n",
    "embedding = []\n",
    "idx2word = []\n",
    "with open(\"Glove/glove.6B.50d.txt\",encoding=\"utf-8\") as f:\n",
    "    for line in f:\n",
    "        values = line.split()\n",
    "        word = values[0]\n",
    "        vec = np.asarray(values[1:],dtype = 'float32')\n",
    "        word2vec[word] = vec\n",
    "        embedding.append(vec)\n",
    "        idx2word.append(word)\n",
    "print(\"Found %s word vectors \" % len(word2vec))\n",
    "embedding = np.array(embedding)\n",
    "V, D = embedding.shape\n",
    "        "
   ]
  },
  {
   "cell_type": "code",
   "execution_count": 26,
   "metadata": {},
   "outputs": [],
   "source": [
    "def gloveVectorizer(text, model = model_w2v, size = 50):\n",
    "    text_vec = np.zeros((size,), dtype=\"float32\")\n",
    "    n_words = 0\n",
    "    for word in getMeaningfullEnglishWords(text).split():\n",
    "        \n",
    "        try:\n",
    "            text_vec = np.add(text_vec, word2vec[word])\n",
    "            n_words += 1\n",
    "        except:\n",
    "            continue\n",
    "    if n_words != 0:\n",
    "        text_vec /= n_words\n",
    "    return text_vec"
   ]
  },
  {
   "cell_type": "code",
   "execution_count": 27,
   "metadata": {},
   "outputs": [],
   "source": [
    "def gloveDigitVectorizer(text, model = model_w2v, size = 50):\n",
    "    text_vec = np.zeros((size,), dtype=\"float32\")\n",
    "    n_words = 0\n",
    "    for word in getDigits(text).split():\n",
    "        \n",
    "        try:\n",
    "            text_vec = np.add(text_vec, word2vec[word])\n",
    "            n_words += 1\n",
    "        except:\n",
    "            continue\n",
    "    if n_words != 0:\n",
    "        text_vec /= n_words\n",
    "    return text_vec"
   ]
  },
  {
   "cell_type": "code",
   "execution_count": 29,
   "metadata": {},
   "outputs": [],
   "source": [
    "\n",
    "from sklearn.compose import ColumnTransformer\n",
    "from sklearn.base import BaseEstimator, TransformerMixin\n",
    "import xgboost as xgb"
   ]
  },
  {
   "cell_type": "code",
   "execution_count": 30,
   "metadata": {},
   "outputs": [],
   "source": [
    "class ColumnSelector(BaseEstimator, TransformerMixin):\n",
    "    def __init__(self, attribute_names):\n",
    "        self.attribute_names = attribute_names\n",
    "    def fit(self, X_, y=None): # \n",
    "        return self\n",
    "    def transform(self, X_):\n",
    "        return X_.loc[:, self.attribute_names].values #"
   ]
  },
  {
   "cell_type": "markdown",
   "metadata": {},
   "source": [
    "def gloveVectorizer(data):\n",
    "    counter = 0\n",
    "    train_data = []\n",
    "    for sentense in data:\n",
    "        for w in sentense.split():\n",
    "            if w not in word2vec:\n",
    "                counter+=1\n",
    "                #print(\"%s is not in dictionary\" % w)\n",
    "                train_data.append(\"\")\n",
    "                continue\n",
    "            v = word2vec[w]\n",
    "            train_data.append(v)\n",
    "    print('Empty sentences value =={0}, sentences with english == {1}'.format(count,data.shape[0] - count))\n",
    "    return np.array(train_data)"
   ]
  },
  {
   "cell_type": "code",
   "execution_count": 31,
   "metadata": {},
   "outputs": [],
   "source": [
    "#convert header of russian words to vector \n",
    "#small_train['header_words_vector'] = small_train[\"new_description\"].apply(text_to_vec)"
   ]
  },
  {
   "cell_type": "code",
   "execution_count": 33,
   "metadata": {},
   "outputs": [],
   "source": [
    "def make_columns_from_array(array_data,header_word):\n",
    "    \n",
    "    text = array_data[array_data.index[0]]\n",
    "    for i in range(1,array_data.shape[0]):\n",
    "        text = np.vstack((text, array_data[array_data.index[i]]))\n",
    "    result = pd.DataFrame(data = text, index = array_data.index,\\\n",
    "                                        columns = [\"{0}2v_{1}\".format(header_word,i) for i in range(text.shape[1])])\n",
    "    return result"
   ]
  },
  {
   "cell_type": "code",
   "execution_count": 35,
   "metadata": {},
   "outputs": [],
   "source": [
    "#convert header of russian words to vector \n",
    "small_train['rus_description'] = small_train['description'].apply(text_to_vec)"
   ]
  },
  {
   "cell_type": "code",
   "execution_count": 36,
   "metadata": {},
   "outputs": [],
   "source": [
    "descr_rus_vector = make_columns_from_array(small_train['rus_description'], 'rus_word')"
   ]
  },
  {
   "cell_type": "code",
   "execution_count": 37,
   "metadata": {},
   "outputs": [
    {
     "data": {
      "text/html": [
       "<div>\n",
       "<style scoped>\n",
       "    .dataframe tbody tr th:only-of-type {\n",
       "        vertical-align: middle;\n",
       "    }\n",
       "\n",
       "    .dataframe tbody tr th {\n",
       "        vertical-align: top;\n",
       "    }\n",
       "\n",
       "    .dataframe thead th {\n",
       "        text-align: right;\n",
       "    }\n",
       "</style>\n",
       "<table border=\"1\" class=\"dataframe\">\n",
       "  <thead>\n",
       "    <tr style=\"text-align: right;\">\n",
       "      <th></th>\n",
       "      <th>rus_word2v_0</th>\n",
       "      <th>rus_word2v_1</th>\n",
       "      <th>rus_word2v_2</th>\n",
       "      <th>rus_word2v_3</th>\n",
       "      <th>rus_word2v_4</th>\n",
       "      <th>rus_word2v_5</th>\n",
       "      <th>rus_word2v_6</th>\n",
       "      <th>rus_word2v_7</th>\n",
       "      <th>rus_word2v_8</th>\n",
       "      <th>rus_word2v_9</th>\n",
       "      <th>...</th>\n",
       "      <th>rus_word2v_290</th>\n",
       "      <th>rus_word2v_291</th>\n",
       "      <th>rus_word2v_292</th>\n",
       "      <th>rus_word2v_293</th>\n",
       "      <th>rus_word2v_294</th>\n",
       "      <th>rus_word2v_295</th>\n",
       "      <th>rus_word2v_296</th>\n",
       "      <th>rus_word2v_297</th>\n",
       "      <th>rus_word2v_298</th>\n",
       "      <th>rus_word2v_299</th>\n",
       "    </tr>\n",
       "  </thead>\n",
       "  <tbody>\n",
       "    <tr>\n",
       "      <th>0</th>\n",
       "      <td>-0.053885</td>\n",
       "      <td>0.051695</td>\n",
       "      <td>0.000624</td>\n",
       "      <td>-0.029101</td>\n",
       "      <td>-0.053150</td>\n",
       "      <td>0.035577</td>\n",
       "      <td>-0.021225</td>\n",
       "      <td>-0.016611</td>\n",
       "      <td>0.001603</td>\n",
       "      <td>-0.018745</td>\n",
       "      <td>...</td>\n",
       "      <td>-0.032052</td>\n",
       "      <td>0.027320</td>\n",
       "      <td>-0.006930</td>\n",
       "      <td>-0.074489</td>\n",
       "      <td>-0.079981</td>\n",
       "      <td>0.005517</td>\n",
       "      <td>-0.038228</td>\n",
       "      <td>0.024849</td>\n",
       "      <td>0.066353</td>\n",
       "      <td>-0.017067</td>\n",
       "    </tr>\n",
       "    <tr>\n",
       "      <th>1</th>\n",
       "      <td>-0.001228</td>\n",
       "      <td>-0.010492</td>\n",
       "      <td>0.003941</td>\n",
       "      <td>-0.013573</td>\n",
       "      <td>0.021608</td>\n",
       "      <td>0.038924</td>\n",
       "      <td>0.005106</td>\n",
       "      <td>-0.007733</td>\n",
       "      <td>-0.040691</td>\n",
       "      <td>0.021337</td>\n",
       "      <td>...</td>\n",
       "      <td>-0.023142</td>\n",
       "      <td>0.029684</td>\n",
       "      <td>-0.045209</td>\n",
       "      <td>-0.069048</td>\n",
       "      <td>-0.024419</td>\n",
       "      <td>0.036898</td>\n",
       "      <td>-0.007493</td>\n",
       "      <td>-0.017432</td>\n",
       "      <td>0.061589</td>\n",
       "      <td>0.001307</td>\n",
       "    </tr>\n",
       "    <tr>\n",
       "      <th>2</th>\n",
       "      <td>-0.055651</td>\n",
       "      <td>-0.059641</td>\n",
       "      <td>-0.036199</td>\n",
       "      <td>-0.119743</td>\n",
       "      <td>-0.077695</td>\n",
       "      <td>-0.038244</td>\n",
       "      <td>0.015648</td>\n",
       "      <td>0.011561</td>\n",
       "      <td>0.060390</td>\n",
       "      <td>0.116322</td>\n",
       "      <td>...</td>\n",
       "      <td>-0.045398</td>\n",
       "      <td>0.044849</td>\n",
       "      <td>-0.002669</td>\n",
       "      <td>0.013072</td>\n",
       "      <td>-0.007001</td>\n",
       "      <td>0.054009</td>\n",
       "      <td>0.020313</td>\n",
       "      <td>-0.028049</td>\n",
       "      <td>0.072187</td>\n",
       "      <td>0.007945</td>\n",
       "    </tr>\n",
       "    <tr>\n",
       "      <th>3</th>\n",
       "      <td>0.013475</td>\n",
       "      <td>-0.024082</td>\n",
       "      <td>0.015105</td>\n",
       "      <td>-0.013496</td>\n",
       "      <td>-0.024861</td>\n",
       "      <td>0.021129</td>\n",
       "      <td>-0.005951</td>\n",
       "      <td>0.009024</td>\n",
       "      <td>-0.035870</td>\n",
       "      <td>-0.021229</td>\n",
       "      <td>...</td>\n",
       "      <td>-0.039323</td>\n",
       "      <td>0.032634</td>\n",
       "      <td>-0.047601</td>\n",
       "      <td>-0.054518</td>\n",
       "      <td>-0.024906</td>\n",
       "      <td>0.001630</td>\n",
       "      <td>-0.011650</td>\n",
       "      <td>-0.008800</td>\n",
       "      <td>0.048382</td>\n",
       "      <td>0.000230</td>\n",
       "    </tr>\n",
       "    <tr>\n",
       "      <th>4</th>\n",
       "      <td>-0.030861</td>\n",
       "      <td>-0.016725</td>\n",
       "      <td>-0.002580</td>\n",
       "      <td>-0.006202</td>\n",
       "      <td>0.048460</td>\n",
       "      <td>0.033876</td>\n",
       "      <td>0.033791</td>\n",
       "      <td>-0.003930</td>\n",
       "      <td>-0.027127</td>\n",
       "      <td>0.005155</td>\n",
       "      <td>...</td>\n",
       "      <td>-0.020617</td>\n",
       "      <td>0.027213</td>\n",
       "      <td>-0.034433</td>\n",
       "      <td>-0.069561</td>\n",
       "      <td>0.008083</td>\n",
       "      <td>0.059861</td>\n",
       "      <td>-0.021123</td>\n",
       "      <td>-0.055007</td>\n",
       "      <td>0.048391</td>\n",
       "      <td>0.017137</td>\n",
       "    </tr>\n",
       "  </tbody>\n",
       "</table>\n",
       "<p>5 rows × 300 columns</p>\n",
       "</div>"
      ],
      "text/plain": [
       "   rus_word2v_0  rus_word2v_1  rus_word2v_2  rus_word2v_3  rus_word2v_4  \\\n",
       "0     -0.053885      0.051695      0.000624     -0.029101     -0.053150   \n",
       "1     -0.001228     -0.010492      0.003941     -0.013573      0.021608   \n",
       "2     -0.055651     -0.059641     -0.036199     -0.119743     -0.077695   \n",
       "3      0.013475     -0.024082      0.015105     -0.013496     -0.024861   \n",
       "4     -0.030861     -0.016725     -0.002580     -0.006202      0.048460   \n",
       "\n",
       "   rus_word2v_5  rus_word2v_6  rus_word2v_7  rus_word2v_8  rus_word2v_9  \\\n",
       "0      0.035577     -0.021225     -0.016611      0.001603     -0.018745   \n",
       "1      0.038924      0.005106     -0.007733     -0.040691      0.021337   \n",
       "2     -0.038244      0.015648      0.011561      0.060390      0.116322   \n",
       "3      0.021129     -0.005951      0.009024     -0.035870     -0.021229   \n",
       "4      0.033876      0.033791     -0.003930     -0.027127      0.005155   \n",
       "\n",
       "        ...        rus_word2v_290  rus_word2v_291  rus_word2v_292  \\\n",
       "0       ...             -0.032052        0.027320       -0.006930   \n",
       "1       ...             -0.023142        0.029684       -0.045209   \n",
       "2       ...             -0.045398        0.044849       -0.002669   \n",
       "3       ...             -0.039323        0.032634       -0.047601   \n",
       "4       ...             -0.020617        0.027213       -0.034433   \n",
       "\n",
       "   rus_word2v_293  rus_word2v_294  rus_word2v_295  rus_word2v_296  \\\n",
       "0       -0.074489       -0.079981        0.005517       -0.038228   \n",
       "1       -0.069048       -0.024419        0.036898       -0.007493   \n",
       "2        0.013072       -0.007001        0.054009        0.020313   \n",
       "3       -0.054518       -0.024906        0.001630       -0.011650   \n",
       "4       -0.069561        0.008083        0.059861       -0.021123   \n",
       "\n",
       "   rus_word2v_297  rus_word2v_298  rus_word2v_299  \n",
       "0        0.024849        0.066353       -0.017067  \n",
       "1       -0.017432        0.061589        0.001307  \n",
       "2       -0.028049        0.072187        0.007945  \n",
       "3       -0.008800        0.048382        0.000230  \n",
       "4       -0.055007        0.048391        0.017137  \n",
       "\n",
       "[5 rows x 300 columns]"
      ]
     },
     "execution_count": 37,
     "metadata": {},
     "output_type": "execute_result"
    }
   ],
   "source": [
    "descr_rus_vector.head()"
   ]
  },
  {
   "cell_type": "code",
   "execution_count": 56,
   "metadata": {},
   "outputs": [],
   "source": [
    "train_data = descr_rus_vector[:8000]\n",
    "test_data = descr_rus_vector[8000:]\n",
    "price_cat = target.apply(quantile_divider2)\n",
    "#Y_quantile = np_utils.to_categorical(price_cat)\n",
    "train_labels = price_cat[:8000]\n",
    "test_labels = price_cat[8000:]"
   ]
  },
  {
   "cell_type": "code",
   "execution_count": 127,
   "metadata": {},
   "outputs": [],
   "source": [
    "estimator =  KerasClassifier(build_fn=create_classifier_model, epochs=300, batch_size=16, verbose=0)"
   ]
  },
  {
   "cell_type": "code",
   "execution_count": 128,
   "metadata": {},
   "outputs": [],
   "source": [
    "#estimator.fit(train_data,train_labels)"
   ]
  },
  {
   "cell_type": "code",
   "execution_count": 102,
   "metadata": {},
   "outputs": [
    {
     "data": {
      "text/plain": [
       "0.890125"
      ]
     },
     "execution_count": 102,
     "metadata": {},
     "output_type": "execute_result"
    }
   ],
   "source": [
    "y_hat = estimator.predict(train_data)\n",
    "y_hat = y_hat.reshape(8000)\n",
    "y_hat[train_labels == y_hat].shape[0]/y_hat.shape[0]"
   ]
  },
  {
   "cell_type": "code",
   "execution_count": 103,
   "metadata": {},
   "outputs": [
    {
     "data": {
      "text/plain": [
       "0.6945"
      ]
     },
     "execution_count": 103,
     "metadata": {},
     "output_type": "execute_result"
    }
   ],
   "source": [
    "y_hat = estimator.predict(test_data)\n",
    "y_hat = y_hat.reshape(2000)\n",
    "y_hat[test_labels == y_hat].shape[0]/y_hat.shape[0]"
   ]
  },
  {
   "cell_type": "code",
   "execution_count": 104,
   "metadata": {},
   "outputs": [],
   "source": [
    "describe_rus_predict =  y_hat"
   ]
  },
  {
   "cell_type": "code",
   "execution_count": 105,
   "metadata": {},
   "outputs": [],
   "source": [
    "small_train = small_train.join(descr_rus_vector,how = 'left')"
   ]
  },
  {
   "cell_type": "code",
   "execution_count": 108,
   "metadata": {},
   "outputs": [],
   "source": [
    "#convert header of russian words to vector \n",
    "small_train['digits_description'] = small_train[\"description\"].apply(gloveDigitVectorizer)"
   ]
  },
  {
   "cell_type": "code",
   "execution_count": 109,
   "metadata": {},
   "outputs": [],
   "source": [
    "descr_dig_vector = make_columns_from_array(small_train['digits_description'],'digit')"
   ]
  },
  {
   "cell_type": "code",
   "execution_count": 110,
   "metadata": {},
   "outputs": [],
   "source": [
    "small_train = small_train.join(descr_dig_vector,how = 'left')"
   ]
  },
  {
   "cell_type": "code",
   "execution_count": 116,
   "metadata": {},
   "outputs": [],
   "source": [
    "small_train['english_description'] = small_train[\"description\"].apply(gloveVectorizer)"
   ]
  },
  {
   "cell_type": "code",
   "execution_count": 117,
   "metadata": {},
   "outputs": [],
   "source": [
    "descr_eng_vector = make_columns_from_array(small_train['english_description'],'eng_word')"
   ]
  },
  {
   "cell_type": "code",
   "execution_count": 118,
   "metadata": {},
   "outputs": [],
   "source": [
    "full_descr_data = descr_rus_vector.join(descr_dig_vector,how = 'left').join(descr_eng_vector,how = 'left')"
   ]
  },
  {
   "cell_type": "code",
   "execution_count": 119,
   "metadata": {},
   "outputs": [
    {
     "data": {
      "text/plain": [
       "(10000, 400)"
      ]
     },
     "execution_count": 119,
     "metadata": {},
     "output_type": "execute_result"
    }
   ],
   "source": [
    "full_descr_data.shape"
   ]
  },
  {
   "cell_type": "code",
   "execution_count": 180,
   "metadata": {},
   "outputs": [],
   "source": [
    "train_data = full_descr_data[:8000]\n",
    "test_data = full_descr_data[8000:]\n",
    "price_cat = target.apply(quantile_divider1)\n",
    "#Y_quantile = np_utils.to_categorical(price_cat)\n",
    "train_labels = price_cat[:8000]\n",
    "test_labels = price_cat[8000:]"
   ]
  },
  {
   "cell_type": "code",
   "execution_count": 181,
   "metadata": {},
   "outputs": [
    {
     "data": {
      "text/plain": [
       "<keras.callbacks.History at 0x2e838d03c88>"
      ]
     },
     "execution_count": 181,
     "metadata": {},
     "output_type": "execute_result"
    }
   ],
   "source": [
    "estimator.fit(train_data,train_labels)"
   ]
  },
  {
   "cell_type": "code",
   "execution_count": 182,
   "metadata": {},
   "outputs": [
    {
     "data": {
      "text/plain": [
       "0.877125"
      ]
     },
     "execution_count": 182,
     "metadata": {},
     "output_type": "execute_result"
    }
   ],
   "source": [
    "y_hat = estimator.predict(train_data)\n",
    "y_hat = y_hat.reshape(8000)\n",
    "y_hat[train_labels == y_hat].shape[0]/y_hat.shape[0]"
   ]
  },
  {
   "cell_type": "markdown",
   "metadata": {},
   "source": [
    "0.90225"
   ]
  },
  {
   "cell_type": "code",
   "execution_count": 183,
   "metadata": {},
   "outputs": [
    {
     "data": {
      "text/plain": [
       "0.817"
      ]
     },
     "execution_count": 183,
     "metadata": {},
     "output_type": "execute_result"
    }
   ],
   "source": [
    "y_hat = estimator.predict(test_data)\n",
    "y_hat = y_hat.reshape(2000)\n",
    "y_hat[test_labels == y_hat].shape[0]/y_hat.shape[0]"
   ]
  },
  {
   "cell_type": "code",
   "execution_count": 184,
   "metadata": {},
   "outputs": [],
   "source": [
    "quantile_025 = y_hat"
   ]
  },
  {
   "cell_type": "code",
   "execution_count": 178,
   "metadata": {},
   "outputs": [
    {
     "data": {
      "text/plain": [
       "array([0, 0, 0, ..., 0, 0, 0], dtype=int64)"
      ]
     },
     "execution_count": 178,
     "metadata": {},
     "output_type": "execute_result"
    }
   ],
   "source": [
    "quantile_075 "
   ]
  },
  {
   "cell_type": "code",
   "execution_count": 152,
   "metadata": {},
   "outputs": [],
   "source": [
    "train_data = full_descr_data[:8000]\n",
    "test_data = full_descr_data[8000:]\n",
    "price_cat = target.apply(quantile_divider_to_3)\n",
    "Y_quantile = np_utils.to_categorical(price_cat)\n",
    "train_labels = Y_quantile[:8000]\n",
    "test_labels = Y_quantile[8000:]"
   ]
  },
  {
   "cell_type": "code",
   "execution_count": 159,
   "metadata": {},
   "outputs": [
    {
     "data": {
      "text/plain": [
       "(2000, 3)"
      ]
     },
     "execution_count": 159,
     "metadata": {},
     "output_type": "execute_result"
    }
   ],
   "source": [
    "test_labels.shape"
   ]
  },
  {
   "cell_type": "code",
   "execution_count": 160,
   "metadata": {},
   "outputs": [],
   "source": [
    "softmax =  KerasClassifier(build_fn=create_softmax_model, epochs=300, batch_size=15, verbose=0)"
   ]
  },
  {
   "cell_type": "code",
   "execution_count": 161,
   "metadata": {},
   "outputs": [
    {
     "data": {
      "text/plain": [
       "<keras.callbacks.History at 0x2e85de9aeb8>"
      ]
     },
     "execution_count": 161,
     "metadata": {},
     "output_type": "execute_result"
    }
   ],
   "source": [
    "softmax.fit(train_data,train_labels)"
   ]
  },
  {
   "cell_type": "code",
   "execution_count": 166,
   "metadata": {},
   "outputs": [
    {
     "data": {
      "text/plain": [
       "array([2, 0, 1, ..., 1, 0, 0])"
      ]
     },
     "execution_count": 166,
     "metadata": {},
     "output_type": "execute_result"
    }
   ],
   "source": [
    "y_hat = softmax.predict(test_data)\n",
    "y_hat"
   ]
  },
  {
   "cell_type": "code",
   "execution_count": 168,
   "metadata": {},
   "outputs": [
    {
     "data": {
      "text/plain": [
       "0.5415"
      ]
     },
     "execution_count": 168,
     "metadata": {},
     "output_type": "execute_result"
    }
   ],
   "source": [
    "y_hat = softmax.predict(test_data)\n",
    "y_hat = y_hat.reshape(2000)\n",
    "y_hat[price_cat[8000:] == y_hat].shape[0]/y_hat.shape[0]"
   ]
  },
  {
   "cell_type": "code",
   "execution_count": null,
   "metadata": {},
   "outputs": [],
   "source": [
    "dummies = pd.get_dummies(vect_data[['fd_name1','fd_name2']],prefix = ['fd_name1','fd_name2'])"
   ]
  },
  {
   "cell_type": "code",
   "execution_count": null,
   "metadata": {},
   "outputs": [],
   "source": [
    "small_train = small_train.join(dummies,how = 'left')"
   ]
  },
  {
   "cell_type": "code",
   "execution_count": null,
   "metadata": {},
   "outputs": [],
   "source": [
    "from sklearn import preprocessing\n",
    "labelEncoder = preprocessing.LabelEncoder()"
   ]
  },
  {
   "cell_type": "code",
   "execution_count": null,
   "metadata": {},
   "outputs": [],
   "source": [
    "small_train['labeled_category'] = labelEncoder.fit_transform(small_train['category'])"
   ]
  },
  {
   "cell_type": "code",
   "execution_count": null,
   "metadata": {},
   "outputs": [],
   "source": [
    "small_train['labeled_category'] = labelEncoder.fit_transform(small_train['category'])"
   ]
  },
  {
   "cell_type": "code",
   "execution_count": null,
   "metadata": {},
   "outputs": [],
   "source": [
    "from sklearn import preprocessing\n",
    "hotEncoder = preprocessing.OneHotEncoder()"
   ]
  },
  {
   "cell_type": "code",
   "execution_count": null,
   "metadata": {},
   "outputs": [],
   "source": [
    "encodet_data = hotEncoder.fit_transform(vect_data[['labeled_category','labeled_subcategory']])"
   ]
  },
  {
   "cell_type": "code",
   "execution_count": null,
   "metadata": {},
   "outputs": [],
   "source": [
    "small_train = small_train.join(make_columns_from_array(encodet_data,'category'),how = 'left')"
   ]
  },
  {
   "cell_type": "code",
   "execution_count": null,
   "metadata": {},
   "outputs": [],
   "source": [
    "dropColumns = [\n",
    "    'rus_description',\n",
    "    'digits_description',\n",
    "    'description',\n",
    "    'english_description',\n",
    "    'labeled_category',\n",
    "    'labeled_subcategory',\n",
    "    'category',\n",
    "    'name',\n",
    "    'fd_name1',\n",
    "    'fd_name2',\n",
    "    'id'\n",
    "    \n",
    "    \n",
    "]"
   ]
  },
  {
   "cell_type": "code",
   "execution_count": null,
   "metadata": {},
   "outputs": [],
   "source": [
    "train = small_train.drop(dropColumns,axis = 1)"
   ]
  },
  {
   "cell_type": "code",
   "execution_count": null,
   "metadata": {},
   "outputs": [],
   "source": [
    "train.to_csv('generated_data/prepeared_train_1.csv')"
   ]
  },
  {
   "cell_type": "code",
   "execution_count": 38,
   "metadata": {},
   "outputs": [
    {
     "name": "stderr",
     "output_type": "stream",
     "text": [
      "Using TensorFlow backend.\n"
     ]
    }
   ],
   "source": [
    "from sklearn.preprocessing import OneHotEncoder \n",
    "from keras.utils import np_utils \n",
    "from keras.wrappers.scikit_learn import KerasClassifier\n",
    "from sklearn.model_selection import cross_val_score\n",
    "from sklearn.model_selection import KFold\n",
    "from keras.constraints import maxnorm\n",
    "from keras.optimizers import SGD\n",
    "from numpy import array\n",
    "from keras.preprocessing.text import one_hot\n",
    "from keras.preprocessing.sequence import pad_sequences\n",
    "from keras.models import Sequential\n",
    "from keras.layers import Dense\n",
    "from keras.layers import Flatten\n",
    "from keras.layers.embeddings import Embedding\n",
    "from keras.layers import Dropout\n",
    "from keras.wrappers.scikit_learn import KerasRegressor"
   ]
  },
  {
   "cell_type": "code",
   "execution_count": 157,
   "metadata": {},
   "outputs": [],
   "source": [
    "def create_softmax_model(input_dim = 400):\n",
    "    # create model\n",
    "    model = Sequential()\n",
    "    model.add(Dense(60, input_dim=input_dim, kernel_initializer='normal', activation='relu', kernel_constraint=maxnorm(3)))\n",
    "    model.add(Dropout(0.4))\n",
    "    \n",
    "    model.add(Dense(30, kernel_initializer='normal', activation='relu', kernel_constraint=maxnorm(3)))\n",
    "    model.add(Dropout(0.3))\n",
    "    model.add(Dense(9, kernel_initializer='normal', activation='relu', kernel_constraint=maxnorm(3)))\n",
    "    model.add(Dropout(0.3))\n",
    "    #model.add(Dense(4, kernel_initializer='normal', activation='softmax'))\n",
    "    model.add(Dense(3, activation='softmax'))#model.add(Dense(1,  activation='linear'))\n",
    "    #model1.add(Dense(1, activation='sigmoid'))model.add(Dense(1,  activation='linear'))\n",
    "    # Compile model\n",
    "    sgd = SGD(lr=0.1, momentum=0.9, decay=0.0, nesterov=False)\n",
    "    #model.compile(loss='mse', optimizer='adam')\n",
    "    model.compile(optimizer='adam', loss='binary_crossentropy', metrics=['acc'])\n",
    "    #model.compile(loss='mse', optimizer='adam')its for regression\n",
    "    return model"
   ]
  },
  {
   "cell_type": "code",
   "execution_count": 126,
   "metadata": {},
   "outputs": [],
   "source": [
    "def create_classifier_model(input_dim = 400):\n",
    "    # create model\n",
    "    model = Sequential()\n",
    "    model.add(Dense(60, input_dim=input_dim, kernel_initializer='normal', activation='relu', kernel_constraint=maxnorm(3)))\n",
    "    model.add(Dropout(0.4))\n",
    "    \n",
    "    model.add(Dense(30, kernel_initializer='normal', activation='relu', kernel_constraint=maxnorm(3)))\n",
    "    model.add(Dropout(0.3))\n",
    "    model.add(Dense(10, kernel_initializer='normal', activation='relu', kernel_constraint=maxnorm(3)))\n",
    "    model.add(Dropout(0.3))\n",
    "    #model.add(Flatten())\n",
    "    #model.add(Dense(4, kernel_initializer='normal', activation='softmax'))\n",
    "    model.add(Dense(1, activation='sigmoid'))\n",
    "    #model1.add(Dense(1, activation='sigmoid'))model.add(Dense(1,  activation='linear'))\n",
    "    # Compile model\n",
    "    sgd = SGD(lr=0.1, momentum=0.9, decay=0.0, nesterov=False)\n",
    "    #model.compile(loss='mse', optimizer='adam')\n",
    "    model.compile(optimizer='adam', loss='binary_crossentropy', metrics=['acc'])\n",
    "    #model.compile(loss='mse', optimizer='adam')its for regression\n",
    "    return model"
   ]
  },
  {
   "cell_type": "code",
   "execution_count": 62,
   "metadata": {},
   "outputs": [],
   "source": [
    "# dropout in hidden layers with weight constraint\n",
    "\n",
    "def create_regressor_model(input_dim = 300):\n",
    "    # create model\n",
    "    model = Sequential()\n",
    "    model.add(Dense(60, input_dim=input_dim, kernel_initializer='normal', activation='relu', kernel_constraint=maxnorm(3)))\n",
    "    model.add(Dropout(0.2))\n",
    "    model.add(Dense(30, kernel_initializer='normal', activation='relu', kernel_constraint=maxnorm(3)))\n",
    "    model.add(Dropout(0.2))\n",
    "    #model.add(Dense(4, kernel_initializer='normal', activation='softmax'))\n",
    "    model.add(Dense(1,  activation='linear'))#model1.add(Dense(1, activation='sigmoid'))\n",
    "    # Compile model\n",
    "    sgd = SGD(lr=0.1, momentum=0.9, decay=0.0, nesterov=False)\n",
    "    model.compile(loss='mse', optimizer='adam')#model.compile(optimizer='adam', loss='binary_crossentropy', metrics=['acc'])\n",
    "    return model\n",
    "\n",
    "seed = np.random.seed(42)\n",
    "\n",
    "#results = cross_val_score(estimator, train_prpeared_data, train_labels, cv=kfold)\n",
    "#print(\"Hidden: %.2f%% (%.2f%%)\" % (results.mean()*100, results.std()*100))"
   ]
  },
  {
   "cell_type": "code",
   "execution_count": null,
   "metadata": {},
   "outputs": [],
   "source": [
    "estimator =  KerasRegressor(build_fn=create_regressor_model, epochs=300, batch_size=16, verbose=0)\n",
    "#pipeline = Pipeline(estimators)\n",
    "kfold = KFold(n_splits=4, shuffle=True, random_state=seed)"
   ]
  },
  {
   "cell_type": "code",
   "execution_count": null,
   "metadata": {},
   "outputs": [],
   "source": [
    "from sklearn.metrics import r2_score\n",
    "print(\"Mean absolute error: %.2f\" % np.mean(np.absolute(y_hat.reshape(2000) - test_labels)))\n",
    "print(\"Residual sum of squares (MSE): %.2f\" % np.mean((y_hat.reshape(2000) - test_labels) ** 2))\n",
    "print(\"R2-score: %.2f\" % r2_score(y_hat.reshape(2000) , test_labels) )"
   ]
  },
  {
   "cell_type": "code",
   "execution_count": 151,
   "metadata": {},
   "outputs": [],
   "source": [
    "quantile_025 = target.quantile(0.25)\n",
    "quantile_05 = target.quantile(0.5)\n",
    "quantile_075 = target.quantile(0.75)\n",
    "def quantile_divider(price):\n",
    "    if price < quantile_025:\n",
    "        return 0\n",
    "    if price < quantile_05:\n",
    "        return 1\n",
    "    if price < quantile_075:\n",
    "        return 2\n",
    "    return 3"
   ]
  },
  {
   "cell_type": "code",
   "execution_count": 150,
   "metadata": {},
   "outputs": [],
   "source": [
    "quantile_033 = target.quantile(0.33)\n",
    "quantile_066 = target.quantile(0.66)\n",
    "#quantile_075 = target.quantile(0.75)\n",
    "def quantile_divider_to_3(price):\n",
    "    if price < quantile_033:\n",
    "        return 0\n",
    "    if price < quantile_066:\n",
    "        return 1\n",
    "    \n",
    "    return 2"
   ]
  },
  {
   "cell_type": "code",
   "execution_count": 45,
   "metadata": {},
   "outputs": [],
   "source": [
    "def quantile_divider2(price):\n",
    "    if price < quantile_05:\n",
    "        return 0\n",
    "    return 1"
   ]
  },
  {
   "cell_type": "code",
   "execution_count": 137,
   "metadata": {},
   "outputs": [],
   "source": [
    "def quantile_divider3(price):\n",
    "    if price < quantile_075:\n",
    "        return 0\n",
    "    return 1"
   ]
  },
  {
   "cell_type": "code",
   "execution_count": 179,
   "metadata": {},
   "outputs": [],
   "source": [
    "def quantile_divider1(price):\n",
    "    if price < quantile_025:\n",
    "        return 1\n",
    "    return 0"
   ]
  },
  {
   "cell_type": "code",
   "execution_count": null,
   "metadata": {},
   "outputs": [],
   "source": [
    "train_data = train[:8000]\n",
    "test_data = train[8000:]\n",
    "price_cat = target.apply(quantile_divider2)\n",
    "#Y_quantile = np_utils.to_categorical(price_cat)\n",
    "train_labels = price_cat[:8000]\n",
    "test_labels = price_cat[8000:]"
   ]
  },
  {
   "cell_type": "code",
   "execution_count": null,
   "metadata": {},
   "outputs": [],
   "source": [
    "estimator =  KerasClassifier(build_fn=create_classifier_model, epochs=300, batch_size=16, verbose=0)"
   ]
  },
  {
   "cell_type": "code",
   "execution_count": null,
   "metadata": {},
   "outputs": [],
   "source": [
    "estimator.firt(train_data,train_labels)\n"
   ]
  },
  {
   "cell_type": "code",
   "execution_count": null,
   "metadata": {},
   "outputs": [],
   "source": [
    "y_hat = y_hat.reshape(2000)"
   ]
  },
  {
   "cell_type": "code",
   "execution_count": null,
   "metadata": {},
   "outputs": [],
   "source": [
    "y_hat[price_cat[8000:] == y_hat].shape[0]/y_hat.shape[0]"
   ]
  }
 ],
 "metadata": {
  "kernelspec": {
   "display_name": "tensorflowProject",
   "language": "python",
   "name": "tensorflowproject"
  },
  "language_info": {
   "codemirror_mode": {
    "name": "ipython",
    "version": 3
   },
   "file_extension": ".py",
   "mimetype": "text/x-python",
   "name": "python",
   "nbconvert_exporter": "python",
   "pygments_lexer": "ipython3",
   "version": "3.6.7"
  }
 },
 "nbformat": 4,
 "nbformat_minor": 2
}
